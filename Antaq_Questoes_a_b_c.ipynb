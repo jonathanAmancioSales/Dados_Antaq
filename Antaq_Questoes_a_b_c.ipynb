{
  "nbformat": 4,
  "nbformat_minor": 0,
  "metadata": {
    "colab": {
      "name": "Proj_2_anos++.ipynb",
      "provenance": [],
      "collapsed_sections": [
        "85ua8J9b2wmY",
        "u2xn5nAP21qt",
        "Mjm27oEPaLKe",
        "z47MkFsFaRd5",
        "2pKGdRJPZsDr",
        "AYY-ZLaSWSwH",
        "s0LHu-7vYukv",
        "XeqCoy81TVvk",
        "2S2pvbGOpgr_"
      ]
    },
    "kernelspec": {
      "display_name": "Python 3",
      "language": "python",
      "name": "python3"
    },
    "language_info": {
      "codemirror_mode": {
        "name": "ipython",
        "version": 3
      },
      "file_extension": ".py",
      "mimetype": "text/x-python",
      "name": "python",
      "nbconvert_exporter": "python",
      "pygments_lexer": "ipython3",
      "version": "3.7.3"
    }
  },
  "cells": [
    {
      "cell_type": "markdown",
      "metadata": {
        "id": "i_HopB17MPay"
      },
      "source": [
        "```\n",
        "A) Olhando para todos os dados disponíveis na fonte http://web.antaq.gov.br/Anuario/,\n",
        "em qual estrutura de banco de dados você orienta guardá-los no nosso\n",
        "Data Lake? SQL ou NoSQL? Discorra sobre sua orientação.\n",
        "```\n",
        "A utilização de um banco de dados relacional (SQL) é o recomendado nessa situação, uma vez que os dados obtidos são dados estruturados e, além disso, estão relacionados entre si."
      ]
    },
    {
      "cell_type": "markdown",
      "metadata": {
        "id": "GVjzIU6nMWtv"
      },
      "source": [
        "```\n",
        "B) Nosso cliente estipulou que necessita de informações apenas sobre\n",
        "as atracações e cargas contidas nessas atracações dos últimos 3 anos (2017-2019).\n",
        "\n",
        "Desenvolva um script em python que extraia os dados do anuário, e\n",
        "transforme-os em duas tabelas fato, atracacao_fato e carga_fato,\n",
        "com as respectivas colunas abaixo.\n",
        "```"
      ]
    },
    {
      "cell_type": "markdown",
      "metadata": {
        "id": "85ua8J9b2wmY"
      },
      "source": [
        "#Bibliotecas"
      ]
    },
    {
      "cell_type": "code",
      "metadata": {
        "id": "RV-fOad3cM_6"
      },
      "source": [
        "import os\n",
        "import fnmatch\n",
        "import urllib.request\n",
        "from zipfile import ZipFile\n",
        "\n",
        "import numpy as np\n",
        "import pandas as pd\n",
        "\n",
        "from IPython.display import display"
      ],
      "execution_count": 1,
      "outputs": []
    },
    {
      "cell_type": "code",
      "metadata": {
        "id": "FKhK-GJNAUOo"
      },
      "source": [
        "import warnings\n",
        "warnings.filterwarnings('ignore')"
      ],
      "execution_count": 3,
      "outputs": []
    },
    {
      "cell_type": "code",
      "metadata": {
        "id": "S1-leWOicPNL"
      },
      "source": [
        "import seaborn as sns\n",
        "import matplotlib.pyplot as plt\n",
        "\n",
        "sns.set(font_scale=1.4)\n",
        "sns.set_style({'font.family': 'serif','fontname': 'Times New Roman'})"
      ],
      "execution_count": 68,
      "outputs": []
    },
    {
      "cell_type": "markdown",
      "metadata": {
        "id": "u2xn5nAP21qt"
      },
      "source": [
        "#Download do conjunto de dados"
      ]
    },
    {
      "cell_type": "code",
      "metadata": {
        "colab": {
          "base_uri": "https://localhost:8080/"
        },
        "id": "RhhAUsFr2tzg",
        "outputId": "7f3914ec-686b-4ff5-84bf-16d2e07905cf"
      },
      "source": [
        "%%time\n",
        "\n",
        "#Escolha o Ano [2010-2021]:\n",
        "Lista_Anos=[2017,2018,2019]\n",
        "for Ano in Lista_Anos:\n",
        "  File_zip=f'{Ano}.zip'\n",
        "  url='http://web.antaq.gov.br/Sistemas/ArquivosAnuario/Arquivos/'+File_zip\n",
        "  print(url,File_zip)\n",
        "\n",
        "  if not os.path.exists(File_zip):\n",
        "    File = urllib.request.urlretrieve(url, File_zip)\n",
        "\n",
        "  z = ZipFile(File_zip, 'r')\n",
        "  z.extractall()\n",
        "  z.close()"
      ],
      "execution_count": 5,
      "outputs": [
        {
          "output_type": "stream",
          "text": [
            "http://web.antaq.gov.br/Sistemas/ArquivosAnuario/Arquivos/2017.zip 2017.zip\n",
            "http://web.antaq.gov.br/Sistemas/ArquivosAnuario/Arquivos/2018.zip 2018.zip\n",
            "CPU times: user 5.25 s, sys: 2 s, total: 7.24 s\n",
            "Wall time: 5min 15s\n"
          ],
          "name": "stdout"
        }
      ]
    },
    {
      "cell_type": "code",
      "metadata": {
        "id": "NFirTBk3cPYS"
      },
      "source": [
        "TemposAtracacao      =fnmatch.filter(os.listdir(), '*TemposAtracacao.txt')\n",
        "Atracacao            =fnmatch.filter(os.listdir(), '*Atracacao.txt')\n",
        "Atracacao            =list(set(Atracacao) - set(TemposAtracacao))\n",
        "\n",
        "Carga                =fnmatch.filter(os.listdir(), '*Carga.txt')\n",
        "Carga_Conteinerizada =fnmatch.filter(os.listdir(), '*Carga_Conteinerizada.txt')"
      ],
      "execution_count": 7,
      "outputs": []
    },
    {
      "cell_type": "markdown",
      "metadata": {
        "id": "TlHtXeE7OtuT"
      },
      "source": [
        "# Atracação"
      ]
    },
    {
      "cell_type": "markdown",
      "metadata": {
        "id": "Mjm27oEPaLKe"
      },
      "source": [
        "## Atracacao.txt"
      ]
    },
    {
      "cell_type": "code",
      "metadata": {
        "colab": {
          "base_uri": "https://localhost:8080/"
        },
        "id": "4bvPIp6jxoJs",
        "outputId": "1172ee43-1a52-4aff-93f7-1a56fc757c7c"
      },
      "source": [
        "#Importar dataframe\n",
        "L=Atracacao\n",
        "df = pd.read_csv(L[0], index_col=0, sep=';')\n",
        "\n",
        "print(L[0])\n",
        "if len(L)>1:\n",
        "  for f in L[1:]:\n",
        "    print(f)\n",
        "    aux = pd.read_csv(f, index_col=0, sep=';')\n",
        "    df = pd.concat([df,aux]).copy()\n",
        "\n",
        "df_At=df.copy()\n",
        "del df"
      ],
      "execution_count": 8,
      "outputs": [
        {
          "output_type": "stream",
          "text": [
            "2018Atracacao.txt\n",
            "2017Atracacao.txt\n"
          ],
          "name": "stdout"
        }
      ]
    },
    {
      "cell_type": "code",
      "metadata": {
        "colab": {
          "base_uri": "https://localhost:8080/",
          "height": 233
        },
        "id": "QGDKiJEuraOJ",
        "outputId": "10b13fc9-759f-4158-fa39-9653f588c138"
      },
      "source": [
        "df_At.reset_index(level=0,inplace=True)\n",
        "df_At.sample(2)"
      ],
      "execution_count": 9,
      "outputs": [
        {
          "output_type": "execute_result",
          "data": {
            "text/html": [
              "<div>\n",
              "<style scoped>\n",
              "    .dataframe tbody tr th:only-of-type {\n",
              "        vertical-align: middle;\n",
              "    }\n",
              "\n",
              "    .dataframe tbody tr th {\n",
              "        vertical-align: top;\n",
              "    }\n",
              "\n",
              "    .dataframe thead th {\n",
              "        text-align: right;\n",
              "    }\n",
              "</style>\n",
              "<table border=\"1\" class=\"dataframe\">\n",
              "  <thead>\n",
              "    <tr style=\"text-align: right;\">\n",
              "      <th></th>\n",
              "      <th>IDAtracacao</th>\n",
              "      <th>CDTUP</th>\n",
              "      <th>IDBerco</th>\n",
              "      <th>Berço</th>\n",
              "      <th>Porto Atracação</th>\n",
              "      <th>Apelido Instalação Portuária</th>\n",
              "      <th>Complexo Portuário</th>\n",
              "      <th>Tipo da Autoridade Portuária</th>\n",
              "      <th>Data Atracação</th>\n",
              "      <th>Data Chegada</th>\n",
              "      <th>Data Desatracação</th>\n",
              "      <th>Data Início Operação</th>\n",
              "      <th>Data Término Operação</th>\n",
              "      <th>Ano</th>\n",
              "      <th>Mes</th>\n",
              "      <th>Tipo de Operação</th>\n",
              "      <th>Tipo de Navegação da Atracação</th>\n",
              "      <th>Nacionalidade do Armador</th>\n",
              "      <th>FlagMCOperacaoAtracacao</th>\n",
              "      <th>Terminal</th>\n",
              "      <th>Município</th>\n",
              "      <th>UF</th>\n",
              "      <th>SGUF</th>\n",
              "      <th>Região Geográfica</th>\n",
              "      <th>Nº da Capitania</th>\n",
              "      <th>Nº do IMO</th>\n",
              "    </tr>\n",
              "  </thead>\n",
              "  <tbody>\n",
              "    <tr>\n",
              "      <th>146153</th>\n",
              "      <td>876969</td>\n",
              "      <td>BRSSZ</td>\n",
              "      <td>SSZ0676</td>\n",
              "      <td>ARM 35.2</td>\n",
              "      <td>Santos</td>\n",
              "      <td>NaN</td>\n",
              "      <td>Santos</td>\n",
              "      <td>Porto Público</td>\n",
              "      <td>03/10/2017 14:25:00</td>\n",
              "      <td>30/09/2017 06:30:00</td>\n",
              "      <td>04/10/2017 03:40:00</td>\n",
              "      <td>03/10/2017 16:04:00</td>\n",
              "      <td>04/10/2017 01:50:00</td>\n",
              "      <td>2017</td>\n",
              "      <td>out</td>\n",
              "      <td>Movimentação da Carga</td>\n",
              "      <td>Longo Curso</td>\n",
              "      <td>2.0</td>\n",
              "      <td>1</td>\n",
              "      <td>Libra Terminais S/A</td>\n",
              "      <td>Santos</td>\n",
              "      <td>São Paulo</td>\n",
              "      <td>SP</td>\n",
              "      <td>Sudeste</td>\n",
              "      <td>NaN</td>\n",
              "      <td>9333058.0</td>\n",
              "    </tr>\n",
              "    <tr>\n",
              "      <th>149148</th>\n",
              "      <td>884863</td>\n",
              "      <td>BRPNG</td>\n",
              "      <td>PNG0204</td>\n",
              "      <td>Berço 204</td>\n",
              "      <td>Paranaguá</td>\n",
              "      <td>NaN</td>\n",
              "      <td>Paranaguá - Antonina</td>\n",
              "      <td>Porto Público</td>\n",
              "      <td>09/11/2017 07:05:00</td>\n",
              "      <td>06/11/2017 14:30:00</td>\n",
              "      <td>10/11/2017 09:50:00</td>\n",
              "      <td>09/11/2017 08:35:00</td>\n",
              "      <td>10/11/2017 06:40:00</td>\n",
              "      <td>2017</td>\n",
              "      <td>nov</td>\n",
              "      <td>Movimentação da Carga</td>\n",
              "      <td>Longo Curso</td>\n",
              "      <td>2.0</td>\n",
              "      <td>1</td>\n",
              "      <td>CAÍS PÚBLICO</td>\n",
              "      <td>Paranaguá</td>\n",
              "      <td>Paraná</td>\n",
              "      <td>PR</td>\n",
              "      <td>Sul</td>\n",
              "      <td>NaN</td>\n",
              "      <td>9261750.0</td>\n",
              "    </tr>\n",
              "  </tbody>\n",
              "</table>\n",
              "</div>"
            ],
            "text/plain": [
              "        IDAtracacao  CDTUP  ... Nº da Capitania  Nº do IMO\n",
              "146153       876969  BRSSZ  ...             NaN  9333058.0\n",
              "149148       884863  BRPNG  ...             NaN  9261750.0\n",
              "\n",
              "[2 rows x 26 columns]"
            ]
          },
          "metadata": {
            "tags": []
          },
          "execution_count": 9
        }
      ]
    },
    {
      "cell_type": "code",
      "metadata": {
        "colab": {
          "base_uri": "https://localhost:8080/",
          "height": 638
        },
        "id": "YTL2W1pO2bci",
        "outputId": "7b6e8544-5d41-49d9-b280-1bf72da304c4"
      },
      "source": [
        "#Verificando valores nulos:\n",
        "plt.figure(figsize=(14,6))\n",
        "sns.heatmap(df_At.isnull())\n",
        "plt.show()"
      ],
      "execution_count": 69,
      "outputs": [
        {
          "output_type": "display_data",
          "data": {
            "image/png": "[encoded data removed]",
            "text/plain": [
              "<Figure size 1008x432 with 2 Axes>"
            ]
          },
          "metadata": {
            "tags": []
          }
        }
      ]
    },
    {
      "cell_type": "markdown",
      "metadata": {
        "id": "kvp4e5MkyoHz"
      },
      "source": [
        "##### Ano e Mês"
      ]
    },
    {
      "cell_type": "markdown",
      "metadata": {
        "id": "7MqoP1lUAu_-"
      },
      "source": [
        "Obs: Nos arquivos 'MetadadosAtracacao.txt' e 'MetadadosTemposAtracacao.txt' não encontrei informações sobre as colunas 'Ano' e 'Mes' presentes nos arquivos '2017Atracacao.txt', '2018Atracacao.txt', etc.\n",
        "\n",
        "Já, no arquivo 'Projeto -  Engenheiro de dados.pdf', são apresentadas as colunas 'Mês da data de início da operação' e 'Ano da data de início da operação'.\n",
        "\n",
        "Entretanto, como se pode ver no Exemplo 1 abaixo, supondo que este dado esteja correto, o 'Mes' é diferente do mês da 'Data Início Operação', provavelmente se refere ao mês ou da 'Data Desatracação' ou da 'Data Término Operação'.\n",
        "Por outro lado, no Exemplo 2 (assim como em muitos outros casos), a única data presente é a 'Data Desatracação'.\n",
        "\n",
        "Portanto, faz mais sentido que 'Mes' e 'Ano' se refiram à 'Data Desatracação'."
      ]
    },
    {
      "cell_type": "code",
      "metadata": {
        "colab": {
          "base_uri": "https://localhost:8080/",
          "height": 80
        },
        "id": "I_nS7ghuraOK",
        "outputId": "fd721113-1d25-427b-9fc6-623d75c95a65"
      },
      "source": [
        "#Exemplo 1:\n",
        "filtro=df_At['IDAtracacao']==1033424\n",
        "df_At.loc[filtro,['IDAtracacao','Data Atracação','Data Desatracação','Data Início Operação','Data Término Operação','Mes','Ano']]"
      ],
      "execution_count": 10,
      "outputs": [
        {
          "output_type": "execute_result",
          "data": {
            "text/html": [
              "<div>\n",
              "<style scoped>\n",
              "    .dataframe tbody tr th:only-of-type {\n",
              "        vertical-align: middle;\n",
              "    }\n",
              "\n",
              "    .dataframe tbody tr th {\n",
              "        vertical-align: top;\n",
              "    }\n",
              "\n",
              "    .dataframe thead th {\n",
              "        text-align: right;\n",
              "    }\n",
              "</style>\n",
              "<table border=\"1\" class=\"dataframe\">\n",
              "  <thead>\n",
              "    <tr style=\"text-align: right;\">\n",
              "      <th></th>\n",
              "      <th>IDAtracacao</th>\n",
              "      <th>Data Atracação</th>\n",
              "      <th>Data Desatracação</th>\n",
              "      <th>Data Início Operação</th>\n",
              "      <th>Data Término Operação</th>\n",
              "      <th>Mes</th>\n",
              "      <th>Ano</th>\n",
              "    </tr>\n",
              "  </thead>\n",
              "  <tbody>\n",
              "    <tr>\n",
              "      <th>76078</th>\n",
              "      <td>1033424</td>\n",
              "      <td>26/11/2018 21:36:00</td>\n",
              "      <td>01/12/2018 10:02:00</td>\n",
              "      <td>26/11/2018 21:37:00</td>\n",
              "      <td>01/12/2018 10:01:00</td>\n",
              "      <td>dez</td>\n",
              "      <td>2018</td>\n",
              "    </tr>\n",
              "  </tbody>\n",
              "</table>\n",
              "</div>"
            ],
            "text/plain": [
              "       IDAtracacao       Data Atracação  ...  Mes   Ano\n",
              "76078      1033424  26/11/2018 21:36:00  ...  dez  2018\n",
              "\n",
              "[1 rows x 7 columns]"
            ]
          },
          "metadata": {
            "tags": []
          },
          "execution_count": 10
        }
      ]
    },
    {
      "cell_type": "code",
      "metadata": {
        "colab": {
          "base_uri": "https://localhost:8080/",
          "height": 80
        },
        "id": "DYTdGg8yraOK",
        "outputId": "dc48e9e8-c9b4-430a-861e-d2d9fe485109"
      },
      "source": [
        "#Exemplo 2:\n",
        "filtro=df_At['IDAtracacao']==2487\n",
        "df_At.loc[filtro,['IDAtracacao','Data Atracação','Data Desatracação','Data Início Operação','Data Término Operação','Mes','Ano']]"
      ],
      "execution_count": 11,
      "outputs": [
        {
          "output_type": "execute_result",
          "data": {
            "text/html": [
              "<div>\n",
              "<style scoped>\n",
              "    .dataframe tbody tr th:only-of-type {\n",
              "        vertical-align: middle;\n",
              "    }\n",
              "\n",
              "    .dataframe tbody tr th {\n",
              "        vertical-align: top;\n",
              "    }\n",
              "\n",
              "    .dataframe thead th {\n",
              "        text-align: right;\n",
              "    }\n",
              "</style>\n",
              "<table border=\"1\" class=\"dataframe\">\n",
              "  <thead>\n",
              "    <tr style=\"text-align: right;\">\n",
              "      <th></th>\n",
              "      <th>IDAtracacao</th>\n",
              "      <th>Data Atracação</th>\n",
              "      <th>Data Desatracação</th>\n",
              "      <th>Data Início Operação</th>\n",
              "      <th>Data Término Operação</th>\n",
              "      <th>Mes</th>\n",
              "      <th>Ano</th>\n",
              "    </tr>\n",
              "  </thead>\n",
              "  <tbody>\n",
              "    <tr>\n",
              "      <th>1</th>\n",
              "      <td>2487</td>\n",
              "      <td>NaN</td>\n",
              "      <td>01/10/2018 00:00:00</td>\n",
              "      <td>NaN</td>\n",
              "      <td>NaN</td>\n",
              "      <td>out</td>\n",
              "      <td>2018</td>\n",
              "    </tr>\n",
              "  </tbody>\n",
              "</table>\n",
              "</div>"
            ],
            "text/plain": [
              "   IDAtracacao Data Atracação  ...  Mes   Ano\n",
              "1         2487            NaN  ...  out  2018\n",
              "\n",
              "[1 rows x 7 columns]"
            ]
          },
          "metadata": {
            "tags": []
          },
          "execution_count": 11
        }
      ]
    },
    {
      "cell_type": "markdown",
      "metadata": {
        "id": "TshbnMqeraOK"
      },
      "source": [
        "De qualquer forma, renomei as colunas 'Mes' e 'Ano' para ficarem de acordo com o pdf."
      ]
    },
    {
      "cell_type": "code",
      "metadata": {
        "id": "VB8EDZVAFAyG"
      },
      "source": [
        "df_At=df_At.rename(columns={\"Mes\": \"Mês da data de início da operação\", \"Ano\": \"Ano da data de início da operação\"})"
      ],
      "execution_count": 12,
      "outputs": []
    },
    {
      "cell_type": "markdown",
      "metadata": {
        "id": "E2eLfC5vx1mT"
      },
      "source": [
        "##### 'Nº do IMO'"
      ]
    },
    {
      "cell_type": "code",
      "metadata": {
        "id": "OVU9BLl2pn6a"
      },
      "source": [
        "#Uma que zero não é um 'Nº do IMO' válido e são inteiros...\n",
        "#Trocar NaN por 0 e Converter float para int:\n",
        "df_At['Nº do IMO']=df_At['Nº do IMO'].fillna(0).astype('int64')"
      ],
      "execution_count": 13,
      "outputs": []
    },
    {
      "cell_type": "markdown",
      "metadata": {
        "id": "9j33ljnox6et"
      },
      "source": [
        "##### Trocar tipo de algumas colunas para categoria"
      ]
    },
    {
      "cell_type": "code",
      "metadata": {
        "colab": {
          "base_uri": "https://localhost:8080/",
          "height": 85
        },
        "id": "C4IDXHUoygtb",
        "outputId": "53fa9d6e-4677-4e95-e936-02aaa71dbcd3"
      },
      "source": [
        "display( df_At['Nacionalidade do Armador'].astype('category').unique() )\n",
        "\n",
        "#Trocar NaN por 0, considerando 0 quando o valor (1|2) não é informado:\n",
        "df_At['Nacionalidade do Armador']=df_At['Nacionalidade do Armador'].fillna(0).map(lambda v:int(v))\n",
        "\n",
        "display( df_At['Nacionalidade do Armador'].astype('category').unique() )"
      ],
      "execution_count": 14,
      "outputs": [
        {
          "output_type": "display_data",
          "data": {
            "text/plain": [
              "[NaN, 0.0, 2.0, 1.0]\n",
              "Categories (3, float64): [0.0, 2.0, 1.0]"
            ]
          },
          "metadata": {
            "tags": []
          }
        },
        {
          "output_type": "display_data",
          "data": {
            "text/plain": [
              "[0, 2, 1]\n",
              "Categories (3, int64): [0, 2, 1]"
            ]
          },
          "metadata": {
            "tags": []
          }
        }
      ]
    },
    {
      "cell_type": "code",
      "metadata": {
        "id": "YGvE8vGe1F9a"
      },
      "source": [
        "Lista=['Tipo da Autoridade Portuária','Tipo de Operação', 'Tipo de Navegação da Atracação',\n",
        "       'Nacionalidade do Armador', 'FlagMCOperacaoAtracacao','UF', 'SGUF', 'Região Geográfica',\n",
        "       'Mês da data de início da operação']\n",
        "\n",
        "#Altera tipo objetos_string para categoria:\n",
        "for col in Lista:\n",
        "  df_At[col]= df_At[col].astype('category')"
      ],
      "execution_count": 15,
      "outputs": []
    },
    {
      "cell_type": "code",
      "metadata": {
        "id": "2lvz2g8_0miS"
      },
      "source": [
        "df_At['Mês da data de início da operação'].cat.reorder_categories(['jan','fev','mar','abr',\n",
        "                                                                   'mai','jun','jul','ago',\n",
        "                                                                   'set','out','nov','dez'],\n",
        "                                                                   ordered=True, inplace=True)"
      ],
      "execution_count": 16,
      "outputs": []
    },
    {
      "cell_type": "code",
      "metadata": {
        "colab": {
          "base_uri": "https://localhost:8080/"
        },
        "id": "3QAbzvd6zgWg",
        "outputId": "32551dba-6054-46c8-bc52-81953d4528bc"
      },
      "source": [
        "df_At['Mês da data de início da operação'].unique()"
      ],
      "execution_count": 17,
      "outputs": [
        {
          "output_type": "execute_result",
          "data": {
            "text/plain": [
              "['set', 'out', 'ago', 'abr', 'jan', ..., 'nov', 'fev', 'dez', 'jun', 'jul']\n",
              "Length: 12\n",
              "Categories (12, object): ['jan' < 'fev' < 'mar' < 'abr' ... 'set' < 'out' < 'nov' < 'dez']"
            ]
          },
          "metadata": {
            "tags": []
          },
          "execution_count": 17
        }
      ]
    },
    {
      "cell_type": "code",
      "metadata": {
        "colab": {
          "base_uri": "https://localhost:8080/"
        },
        "id": "yQKuQDIC3A_-",
        "outputId": "0bfdbbfd-2e93-4288-8606-cd21065ba338"
      },
      "source": [
        "df_At.info()"
      ],
      "execution_count": 18,
      "outputs": [
        {
          "output_type": "stream",
          "text": [
            "<class 'pandas.core.frame.DataFrame'>\n",
            "RangeIndex: 150264 entries, 0 to 150263\n",
            "Data columns (total 26 columns):\n",
            " #   Column                             Non-Null Count   Dtype   \n",
            "---  ------                             --------------   -----   \n",
            " 0   IDAtracacao                        150264 non-null  int64   \n",
            " 1   CDTUP                              150264 non-null  object  \n",
            " 2   IDBerco                            149506 non-null  object  \n",
            " 3   Berço                              149506 non-null  object  \n",
            " 4   Porto Atracação                    149506 non-null  object  \n",
            " 5   Apelido Instalação Portuária       55136 non-null   object  \n",
            " 6   Complexo Portuário                 150264 non-null  object  \n",
            " 7   Tipo da Autoridade Portuária       150264 non-null  category\n",
            " 8   Data Atracação                     149506 non-null  object  \n",
            " 9   Data Chegada                       149506 non-null  object  \n",
            " 10  Data Desatracação                  150264 non-null  object  \n",
            " 11  Data Início Operação               142645 non-null  object  \n",
            " 12  Data Término Operação              142642 non-null  object  \n",
            " 13  Ano da data de início da operação  150264 non-null  int64   \n",
            " 14  Mês da data de início da operação  150264 non-null  category\n",
            " 15  Tipo de Operação                   149506 non-null  category\n",
            " 16  Tipo de Navegação da Atracação     149506 non-null  category\n",
            " 17  Nacionalidade do Armador           150264 non-null  category\n",
            " 18  FlagMCOperacaoAtracacao            150264 non-null  category\n",
            " 19  Terminal                           149506 non-null  object  \n",
            " 20  Município                          149506 non-null  object  \n",
            " 21  UF                                 149506 non-null  category\n",
            " 22  SGUF                               149506 non-null  category\n",
            " 23  Região Geográfica                  149506 non-null  category\n",
            " 24  Nº da Capitania                    85835 non-null   object  \n",
            " 25  Nº do IMO                          150264 non-null  int64   \n",
            "dtypes: category(9), int64(3), object(14)\n",
            "memory usage: 20.8+ MB\n"
          ],
          "name": "stdout"
        }
      ]
    },
    {
      "cell_type": "markdown",
      "metadata": {
        "id": "z47MkFsFaRd5"
      },
      "source": [
        "## TemposAtracacao.txt"
      ]
    },
    {
      "cell_type": "code",
      "metadata": {
        "colab": {
          "base_uri": "https://localhost:8080/"
        },
        "id": "Ij3TrF4VxoVx",
        "outputId": "618b333c-2b0d-4dc9-ca5d-1a180b37ed7e"
      },
      "source": [
        "#Importar dataframe\n",
        "L=TemposAtracacao\n",
        "df = pd.read_csv(L[0], index_col=0, sep=';')\n",
        "\n",
        "print(L[0])\n",
        "if len(L)>1:\n",
        "  for f in L[1:]:\n",
        "    print(f)\n",
        "    aux = pd.read_csv(f, index_col=0, sep=';')\n",
        "    df = pd.concat([df,aux]).copy()\n",
        "\n",
        "df_time_At=df.copy()\n",
        "del df"
      ],
      "execution_count": 19,
      "outputs": [
        {
          "output_type": "stream",
          "text": [
            "2017TemposAtracacao.txt\n",
            "2018TemposAtracacao.txt\n"
          ],
          "name": "stdout"
        }
      ]
    },
    {
      "cell_type": "code",
      "metadata": {
        "colab": {
          "base_uri": "https://localhost:8080/",
          "height": 111
        },
        "id": "kl3K6WYGraON",
        "outputId": "616cb6bb-f8a8-48dd-9857-80cded89b168"
      },
      "source": [
        "df_time_At.reset_index(level=0,inplace=True)\n",
        "df_time_At.sample(2)"
      ],
      "execution_count": 20,
      "outputs": [
        {
          "output_type": "execute_result",
          "data": {
            "text/html": [
              "<div>\n",
              "<style scoped>\n",
              "    .dataframe tbody tr th:only-of-type {\n",
              "        vertical-align: middle;\n",
              "    }\n",
              "\n",
              "    .dataframe tbody tr th {\n",
              "        vertical-align: top;\n",
              "    }\n",
              "\n",
              "    .dataframe thead th {\n",
              "        text-align: right;\n",
              "    }\n",
              "</style>\n",
              "<table border=\"1\" class=\"dataframe\">\n",
              "  <thead>\n",
              "    <tr style=\"text-align: right;\">\n",
              "      <th></th>\n",
              "      <th>IDAtracacao</th>\n",
              "      <th>TEsperaAtracacao</th>\n",
              "      <th>TEsperaInicioOp</th>\n",
              "      <th>TOperacao</th>\n",
              "      <th>TEsperaDesatracacao</th>\n",
              "      <th>TAtracado</th>\n",
              "      <th>TEstadia</th>\n",
              "    </tr>\n",
              "  </thead>\n",
              "  <tbody>\n",
              "    <tr>\n",
              "      <th>116652</th>\n",
              "      <td>937370</td>\n",
              "      <td>0</td>\n",
              "      <td>0</td>\n",
              "      <td>5,7666666667792</td>\n",
              "      <td>0</td>\n",
              "      <td>5,7666666667792</td>\n",
              "      <td>5,7666666667792</td>\n",
              "    </tr>\n",
              "    <tr>\n",
              "      <th>70379</th>\n",
              "      <td>878170</td>\n",
              "      <td>26,833333333314</td>\n",
              "      <td>0,16666666668607</td>\n",
              "      <td>5,7499999998836</td>\n",
              "      <td>0,66666666674428</td>\n",
              "      <td>6,5833333333139</td>\n",
              "      <td>33,416666666628</td>\n",
              "    </tr>\n",
              "  </tbody>\n",
              "</table>\n",
              "</div>"
            ],
            "text/plain": [
              "        IDAtracacao TEsperaAtracacao  ...        TAtracado         TEstadia\n",
              "116652       937370                0  ...  5,7666666667792  5,7666666667792\n",
              "70379        878170  26,833333333314  ...  6,5833333333139  33,416666666628\n",
              "\n",
              "[2 rows x 7 columns]"
            ]
          },
          "metadata": {
            "tags": []
          },
          "execution_count": 20
        }
      ]
    },
    {
      "cell_type": "code",
      "metadata": {
        "id": "1JwqLMe8O7Yw"
      },
      "source": [
        "#Trocar ',' por '.' e Converter em object/string em float:\n",
        "for col in df_time_At.columns[df_time_At.dtypes=='object']:\n",
        "  df_time_At[col]=df_time_At[col].astype('str').map( lambda v: v.replace(',','.') ).astype('float64')"
      ],
      "execution_count": 21,
      "outputs": []
    },
    {
      "cell_type": "code",
      "metadata": {
        "colab": {
          "base_uri": "https://localhost:8080/",
          "height": 143
        },
        "id": "cw_j8xSEo29X",
        "outputId": "cb6d26bc-d8fc-42bc-e2f4-ce8160d3d3ae"
      },
      "source": [
        "#Alguns valores da tabela podem ser exibidos como se tivessem sido arredondados,\n",
        "#mas note que isso é somente na exibição pois os valores não foram alterados:\n",
        "display( df_time_At.query('IDAtracacao==892942') )\n",
        "display( df_time_At.query('IDAtracacao==892942').astype('str') )"
      ],
      "execution_count": 22,
      "outputs": [
        {
          "output_type": "display_data",
          "data": {
            "text/html": [
              "<div>\n",
              "<style scoped>\n",
              "    .dataframe tbody tr th:only-of-type {\n",
              "        vertical-align: middle;\n",
              "    }\n",
              "\n",
              "    .dataframe tbody tr th {\n",
              "        vertical-align: top;\n",
              "    }\n",
              "\n",
              "    .dataframe thead th {\n",
              "        text-align: right;\n",
              "    }\n",
              "</style>\n",
              "<table border=\"1\" class=\"dataframe\">\n",
              "  <thead>\n",
              "    <tr style=\"text-align: right;\">\n",
              "      <th></th>\n",
              "      <th>IDAtracacao</th>\n",
              "      <th>TEsperaAtracacao</th>\n",
              "      <th>TEsperaInicioOp</th>\n",
              "      <th>TOperacao</th>\n",
              "      <th>TEsperaDesatracacao</th>\n",
              "      <th>TAtracado</th>\n",
              "      <th>TEstadia</th>\n",
              "    </tr>\n",
              "  </thead>\n",
              "  <tbody>\n",
              "    <tr>\n",
              "      <th>149399</th>\n",
              "      <td>892942</td>\n",
              "      <td>1.0</td>\n",
              "      <td>0.0</td>\n",
              "      <td>0.0</td>\n",
              "      <td>0.0</td>\n",
              "      <td>23.0</td>\n",
              "      <td>24.0</td>\n",
              "    </tr>\n",
              "  </tbody>\n",
              "</table>\n",
              "</div>"
            ],
            "text/plain": [
              "        IDAtracacao  TEsperaAtracacao  ...  TAtracado  TEstadia\n",
              "149399       892942               1.0  ...       23.0      24.0\n",
              "\n",
              "[1 rows x 7 columns]"
            ]
          },
          "metadata": {
            "tags": []
          }
        },
        {
          "output_type": "display_data",
          "data": {
            "text/html": [
              "<div>\n",
              "<style scoped>\n",
              "    .dataframe tbody tr th:only-of-type {\n",
              "        vertical-align: middle;\n",
              "    }\n",
              "\n",
              "    .dataframe tbody tr th {\n",
              "        vertical-align: top;\n",
              "    }\n",
              "\n",
              "    .dataframe thead th {\n",
              "        text-align: right;\n",
              "    }\n",
              "</style>\n",
              "<table border=\"1\" class=\"dataframe\">\n",
              "  <thead>\n",
              "    <tr style=\"text-align: right;\">\n",
              "      <th></th>\n",
              "      <th>IDAtracacao</th>\n",
              "      <th>TEsperaAtracacao</th>\n",
              "      <th>TEsperaInicioOp</th>\n",
              "      <th>TOperacao</th>\n",
              "      <th>TEsperaDesatracacao</th>\n",
              "      <th>TAtracado</th>\n",
              "      <th>TEstadia</th>\n",
              "    </tr>\n",
              "  </thead>\n",
              "  <tbody>\n",
              "    <tr>\n",
              "      <th>149399</th>\n",
              "      <td>892942</td>\n",
              "      <td>0.99999999994179</td>\n",
              "      <td>0.0</td>\n",
              "      <td>0.0</td>\n",
              "      <td>0.0</td>\n",
              "      <td>23.000000000058</td>\n",
              "      <td>24.0</td>\n",
              "    </tr>\n",
              "  </tbody>\n",
              "</table>\n",
              "</div>"
            ],
            "text/plain": [
              "       IDAtracacao  TEsperaAtracacao  ...        TAtracado TEstadia\n",
              "149399      892942  0.99999999994179  ...  23.000000000058     24.0\n",
              "\n",
              "[1 rows x 7 columns]"
            ]
          },
          "metadata": {
            "tags": []
          }
        }
      ]
    },
    {
      "cell_type": "markdown",
      "metadata": {
        "id": "2pKGdRJPZsDr"
      },
      "source": [
        "## Tabela atracacao_fato"
      ]
    },
    {
      "cell_type": "code",
      "metadata": {
        "colab": {
          "base_uri": "https://localhost:8080/",
          "height": 380
        },
        "id": "k67yjRHjxoZu",
        "outputId": "e344448b-3389-4988-86f2-1fef3df1814b"
      },
      "source": [
        "atracacao_fato = pd.merge(df_At, df_time_At, how=\"left\", on=\"IDAtracacao\")\n",
        "atracacao_fato = atracacao_fato.sort_values(by=['IDAtracacao'], ignore_index=True)\n",
        "atracacao_fato.sample(4)"
      ],
      "execution_count": 23,
      "outputs": [
        {
          "output_type": "execute_result",
          "data": {
            "text/html": [
              "<div>\n",
              "<style scoped>\n",
              "    .dataframe tbody tr th:only-of-type {\n",
              "        vertical-align: middle;\n",
              "    }\n",
              "\n",
              "    .dataframe tbody tr th {\n",
              "        vertical-align: top;\n",
              "    }\n",
              "\n",
              "    .dataframe thead th {\n",
              "        text-align: right;\n",
              "    }\n",
              "</style>\n",
              "<table border=\"1\" class=\"dataframe\">\n",
              "  <thead>\n",
              "    <tr style=\"text-align: right;\">\n",
              "      <th></th>\n",
              "      <th>IDAtracacao</th>\n",
              "      <th>CDTUP</th>\n",
              "      <th>IDBerco</th>\n",
              "      <th>Berço</th>\n",
              "      <th>Porto Atracação</th>\n",
              "      <th>Apelido Instalação Portuária</th>\n",
              "      <th>Complexo Portuário</th>\n",
              "      <th>Tipo da Autoridade Portuária</th>\n",
              "      <th>Data Atracação</th>\n",
              "      <th>Data Chegada</th>\n",
              "      <th>Data Desatracação</th>\n",
              "      <th>Data Início Operação</th>\n",
              "      <th>Data Término Operação</th>\n",
              "      <th>Ano da data de início da operação</th>\n",
              "      <th>Mês da data de início da operação</th>\n",
              "      <th>Tipo de Operação</th>\n",
              "      <th>Tipo de Navegação da Atracação</th>\n",
              "      <th>Nacionalidade do Armador</th>\n",
              "      <th>FlagMCOperacaoAtracacao</th>\n",
              "      <th>Terminal</th>\n",
              "      <th>Município</th>\n",
              "      <th>UF</th>\n",
              "      <th>SGUF</th>\n",
              "      <th>Região Geográfica</th>\n",
              "      <th>Nº da Capitania</th>\n",
              "      <th>Nº do IMO</th>\n",
              "      <th>TEsperaAtracacao</th>\n",
              "      <th>TEsperaInicioOp</th>\n",
              "      <th>TOperacao</th>\n",
              "      <th>TEsperaDesatracacao</th>\n",
              "      <th>TAtracado</th>\n",
              "      <th>TEstadia</th>\n",
              "    </tr>\n",
              "  </thead>\n",
              "  <tbody>\n",
              "    <tr>\n",
              "      <th>9215</th>\n",
              "      <td>939983</td>\n",
              "      <td>BRSFS</td>\n",
              "      <td>SFS0302</td>\n",
              "      <td>BRA302</td>\n",
              "      <td>São Francisco do Sul</td>\n",
              "      <td>NaN</td>\n",
              "      <td>São Francisco do Sul</td>\n",
              "      <td>Porto Público</td>\n",
              "      <td>13/07/2018 16:30:00</td>\n",
              "      <td>13/07/2018 12:50:00</td>\n",
              "      <td>16/07/2018 13:45:00</td>\n",
              "      <td>13/07/2018 16:50:00</td>\n",
              "      <td>16/07/2018 13:30:00</td>\n",
              "      <td>2018</td>\n",
              "      <td>jul</td>\n",
              "      <td>Movimentação da Carga</td>\n",
              "      <td>Cabotagem</td>\n",
              "      <td>1</td>\n",
              "      <td>1</td>\n",
              "      <td>TESC</td>\n",
              "      <td>São Francisco do Sul</td>\n",
              "      <td>Santa Catarina</td>\n",
              "      <td>SC</td>\n",
              "      <td>Sul</td>\n",
              "      <td>NaN</td>\n",
              "      <td>9164809</td>\n",
              "      <td>3.666667</td>\n",
              "      <td>0.333333</td>\n",
              "      <td>68.666667</td>\n",
              "      <td>0.250000</td>\n",
              "      <td>69.250000</td>\n",
              "      <td>72.916667</td>\n",
              "    </tr>\n",
              "    <tr>\n",
              "      <th>135359</th>\n",
              "      <td>879973</td>\n",
              "      <td>BRGO001</td>\n",
              "      <td>BRGO0010001</td>\n",
              "      <td>SSI01</td>\n",
              "      <td>LDC São Simão</td>\n",
              "      <td>NaN</td>\n",
              "      <td>São Simão</td>\n",
              "      <td>Porto Privado</td>\n",
              "      <td>18/11/2017 18:47:00</td>\n",
              "      <td>18/11/2017 18:47:00</td>\n",
              "      <td>18/11/2017 20:39:00</td>\n",
              "      <td>18/11/2017 18:47:00</td>\n",
              "      <td>18/11/2017 20:39:00</td>\n",
              "      <td>2017</td>\n",
              "      <td>nov</td>\n",
              "      <td>Movimentação da Carga</td>\n",
              "      <td>Interior</td>\n",
              "      <td>1</td>\n",
              "      <td>1</td>\n",
              "      <td>LDC São Simão</td>\n",
              "      <td>São Simão</td>\n",
              "      <td>Goiás</td>\n",
              "      <td>GO</td>\n",
              "      <td>Centro-Oeste</td>\n",
              "      <td>4050185091</td>\n",
              "      <td>0</td>\n",
              "      <td>0.000000</td>\n",
              "      <td>0.000000</td>\n",
              "      <td>1.866667</td>\n",
              "      <td>0.000000</td>\n",
              "      <td>1.866667</td>\n",
              "      <td>1.866667</td>\n",
              "    </tr>\n",
              "    <tr>\n",
              "      <th>87572</th>\n",
              "      <td>830632</td>\n",
              "      <td>BRFOR</td>\n",
              "      <td>FOR0401</td>\n",
              "      <td>Berço 201</td>\n",
              "      <td>Fortaleza</td>\n",
              "      <td>Mucuripe</td>\n",
              "      <td>Pecém - Fortaleza</td>\n",
              "      <td>Porto Público</td>\n",
              "      <td>07/03/2017 20:50:00</td>\n",
              "      <td>06/03/2017 16:00:00</td>\n",
              "      <td>11/03/2017 02:25:00</td>\n",
              "      <td>07/03/2017 20:50:00</td>\n",
              "      <td>11/03/2017 02:25:00</td>\n",
              "      <td>2017</td>\n",
              "      <td>mar</td>\n",
              "      <td>Movimentação da Carga</td>\n",
              "      <td>Cabotagem</td>\n",
              "      <td>2</td>\n",
              "      <td>1</td>\n",
              "      <td>Píer Petroleiro</td>\n",
              "      <td>Fortaleza</td>\n",
              "      <td>Ceará</td>\n",
              "      <td>CE</td>\n",
              "      <td>Nordeste</td>\n",
              "      <td>3813904768</td>\n",
              "      <td>9596856</td>\n",
              "      <td>28.833333</td>\n",
              "      <td>0.000000</td>\n",
              "      <td>77.583333</td>\n",
              "      <td>0.000000</td>\n",
              "      <td>77.583333</td>\n",
              "      <td>106.416667</td>\n",
              "    </tr>\n",
              "    <tr>\n",
              "      <th>111923</th>\n",
              "      <td>845830</td>\n",
              "      <td>BRSSZ</td>\n",
              "      <td>SSZ0910</td>\n",
              "      <td>AGEO I</td>\n",
              "      <td>Santos</td>\n",
              "      <td>NaN</td>\n",
              "      <td>Santos</td>\n",
              "      <td>Porto Público</td>\n",
              "      <td>20/02/2017 17:15:00</td>\n",
              "      <td>13/02/2017 15:42:00</td>\n",
              "      <td>24/02/2017 11:15:00</td>\n",
              "      <td>21/02/2017 02:15:00</td>\n",
              "      <td>24/02/2017 00:40:00</td>\n",
              "      <td>2017</td>\n",
              "      <td>fev</td>\n",
              "      <td>Movimentação da Carga</td>\n",
              "      <td>Longo Curso</td>\n",
              "      <td>2</td>\n",
              "      <td>1</td>\n",
              "      <td>Cais Público - Ilha Barnabé</td>\n",
              "      <td>Santos</td>\n",
              "      <td>São Paulo</td>\n",
              "      <td>SP</td>\n",
              "      <td>Sudeste</td>\n",
              "      <td>NaN</td>\n",
              "      <td>9125243</td>\n",
              "      <td>169.550000</td>\n",
              "      <td>9.000000</td>\n",
              "      <td>70.416667</td>\n",
              "      <td>10.583333</td>\n",
              "      <td>90.000000</td>\n",
              "      <td>259.550000</td>\n",
              "    </tr>\n",
              "  </tbody>\n",
              "</table>\n",
              "</div>"
            ],
            "text/plain": [
              "        IDAtracacao    CDTUP  ...  TAtracado    TEstadia\n",
              "9215         939983    BRSFS  ...  69.250000   72.916667\n",
              "135359       879973  BRGO001  ...   1.866667    1.866667\n",
              "87572        830632    BRFOR  ...  77.583333  106.416667\n",
              "111923       845830    BRSSZ  ...  90.000000  259.550000\n",
              "\n",
              "[4 rows x 32 columns]"
            ]
          },
          "metadata": {
            "tags": []
          },
          "execution_count": 23
        }
      ]
    },
    {
      "cell_type": "code",
      "metadata": {
        "colab": {
          "base_uri": "https://localhost:8080/"
        },
        "id": "SUoc_ew8Zo0M",
        "outputId": "e313ea8b-677c-4948-8fd3-2ff9fd2f9d27"
      },
      "source": [
        "atracacao_fato.info()"
      ],
      "execution_count": 26,
      "outputs": [
        {
          "output_type": "stream",
          "text": [
            "<class 'pandas.core.frame.DataFrame'>\n",
            "Int64Index: 150264 entries, 0 to 150263\n",
            "Data columns (total 32 columns):\n",
            " #   Column                             Non-Null Count   Dtype   \n",
            "---  ------                             --------------   -----   \n",
            " 0   IDAtracacao                        150264 non-null  int64   \n",
            " 1   CDTUP                              150264 non-null  object  \n",
            " 2   IDBerco                            149506 non-null  object  \n",
            " 3   Berço                              149506 non-null  object  \n",
            " 4   Porto Atracação                    149506 non-null  object  \n",
            " 5   Apelido Instalação Portuária       55136 non-null   object  \n",
            " 6   Complexo Portuário                 150264 non-null  object  \n",
            " 7   Tipo da Autoridade Portuária       150264 non-null  category\n",
            " 8   Data Atracação                     149506 non-null  object  \n",
            " 9   Data Chegada                       149506 non-null  object  \n",
            " 10  Data Desatracação                  150264 non-null  object  \n",
            " 11  Data Início Operação               142645 non-null  object  \n",
            " 12  Data Término Operação              142642 non-null  object  \n",
            " 13  Ano da data de início da operação  150264 non-null  int64   \n",
            " 14  Mês da data de início da operação  150264 non-null  category\n",
            " 15  Tipo de Operação                   149506 non-null  category\n",
            " 16  Tipo de Navegação da Atracação     149506 non-null  category\n",
            " 17  Nacionalidade do Armador           150264 non-null  category\n",
            " 18  FlagMCOperacaoAtracacao            150264 non-null  category\n",
            " 19  Terminal                           149506 non-null  object  \n",
            " 20  Município                          149506 non-null  object  \n",
            " 21  UF                                 149506 non-null  category\n",
            " 22  SGUF                               149506 non-null  category\n",
            " 23  Região Geográfica                  149506 non-null  category\n",
            " 24  Nº da Capitania                    85835 non-null   object  \n",
            " 25  Nº do IMO                          150264 non-null  int64   \n",
            " 26  TEsperaAtracacao                   149400 non-null  float64 \n",
            " 27  TEsperaInicioOp                    149400 non-null  float64 \n",
            " 28  TOperacao                          149400 non-null  float64 \n",
            " 29  TEsperaDesatracacao                149400 non-null  float64 \n",
            " 30  TAtracado                          149400 non-null  float64 \n",
            " 31  TEstadia                           149400 non-null  float64 \n",
            "dtypes: category(9), float64(6), int64(3), object(14)\n",
            "memory usage: 28.8+ MB\n"
          ],
          "name": "stdout"
        }
      ]
    },
    {
      "cell_type": "code",
      "metadata": {
        "colab": {
          "base_uri": "https://localhost:8080/",
          "height": 312
        },
        "id": "d8SFNjCMZo7Y",
        "outputId": "7c7f331a-af65-4666-f5f3-c166a15ae6d9"
      },
      "source": [
        "atracacao_fato.describe(include=['object','category'])"
      ],
      "execution_count": 27,
      "outputs": [
        {
          "output_type": "execute_result",
          "data": {
            "text/html": [
              "<div>\n",
              "<style scoped>\n",
              "    .dataframe tbody tr th:only-of-type {\n",
              "        vertical-align: middle;\n",
              "    }\n",
              "\n",
              "    .dataframe tbody tr th {\n",
              "        vertical-align: top;\n",
              "    }\n",
              "\n",
              "    .dataframe thead th {\n",
              "        text-align: right;\n",
              "    }\n",
              "</style>\n",
              "<table border=\"1\" class=\"dataframe\">\n",
              "  <thead>\n",
              "    <tr style=\"text-align: right;\">\n",
              "      <th></th>\n",
              "      <th>CDTUP</th>\n",
              "      <th>IDBerco</th>\n",
              "      <th>Berço</th>\n",
              "      <th>Porto Atracação</th>\n",
              "      <th>Apelido Instalação Portuária</th>\n",
              "      <th>Complexo Portuário</th>\n",
              "      <th>Tipo da Autoridade Portuária</th>\n",
              "      <th>Data Atracação</th>\n",
              "      <th>Data Chegada</th>\n",
              "      <th>Data Desatracação</th>\n",
              "      <th>Data Início Operação</th>\n",
              "      <th>Data Término Operação</th>\n",
              "      <th>Mês da data de início da operação</th>\n",
              "      <th>Tipo de Operação</th>\n",
              "      <th>Tipo de Navegação da Atracação</th>\n",
              "      <th>Nacionalidade do Armador</th>\n",
              "      <th>FlagMCOperacaoAtracacao</th>\n",
              "      <th>Terminal</th>\n",
              "      <th>Município</th>\n",
              "      <th>UF</th>\n",
              "      <th>SGUF</th>\n",
              "      <th>Região Geográfica</th>\n",
              "      <th>Nº da Capitania</th>\n",
              "    </tr>\n",
              "  </thead>\n",
              "  <tbody>\n",
              "    <tr>\n",
              "      <th>count</th>\n",
              "      <td>150264</td>\n",
              "      <td>149506</td>\n",
              "      <td>149506</td>\n",
              "      <td>149506</td>\n",
              "      <td>55136</td>\n",
              "      <td>150264</td>\n",
              "      <td>150264</td>\n",
              "      <td>149506</td>\n",
              "      <td>149506</td>\n",
              "      <td>150264</td>\n",
              "      <td>142645</td>\n",
              "      <td>142642</td>\n",
              "      <td>150264</td>\n",
              "      <td>149506</td>\n",
              "      <td>149506</td>\n",
              "      <td>150264</td>\n",
              "      <td>150264</td>\n",
              "      <td>149506</td>\n",
              "      <td>149506</td>\n",
              "      <td>149506</td>\n",
              "      <td>149506</td>\n",
              "      <td>149506</td>\n",
              "      <td>85835</td>\n",
              "    </tr>\n",
              "    <tr>\n",
              "      <th>unique</th>\n",
              "      <td>195</td>\n",
              "      <td>627</td>\n",
              "      <td>510</td>\n",
              "      <td>194</td>\n",
              "      <td>74</td>\n",
              "      <td>40</td>\n",
              "      <td>2</td>\n",
              "      <td>112643</td>\n",
              "      <td>91612</td>\n",
              "      <td>111507</td>\n",
              "      <td>110378</td>\n",
              "      <td>109706</td>\n",
              "      <td>12</td>\n",
              "      <td>8</td>\n",
              "      <td>5</td>\n",
              "      <td>3</td>\n",
              "      <td>1</td>\n",
              "      <td>266</td>\n",
              "      <td>80</td>\n",
              "      <td>21</td>\n",
              "      <td>21</td>\n",
              "      <td>5</td>\n",
              "      <td>2524</td>\n",
              "    </tr>\n",
              "    <tr>\n",
              "      <th>top</th>\n",
              "      <td>BRSSZ</td>\n",
              "      <td>BEL0006</td>\n",
              "      <td>6F</td>\n",
              "      <td>Santos</td>\n",
              "      <td>Terminal Alfandegado de Imbetiba - TAI</td>\n",
              "      <td>Vila do Conde - Belém</td>\n",
              "      <td>Porto Privado</td>\n",
              "      <td>01/09/2018 00:01:00</td>\n",
              "      <td>01/01/2016 00:01:00</td>\n",
              "      <td>01/06/2017 00:00:00</td>\n",
              "      <td>17/02/2018 07:00:00</td>\n",
              "      <td>17/02/2018 19:00:00</td>\n",
              "      <td>ago</td>\n",
              "      <td>Movimentação da Carga</td>\n",
              "      <td>Interior</td>\n",
              "      <td>1</td>\n",
              "      <td>1</td>\n",
              "      <td>Cais Público</td>\n",
              "      <td>Belém</td>\n",
              "      <td>Pará</td>\n",
              "      <td>PA</td>\n",
              "      <td>Norte</td>\n",
              "      <td>0210254220</td>\n",
              "    </tr>\n",
              "    <tr>\n",
              "      <th>freq</th>\n",
              "      <td>9724</td>\n",
              "      <td>5426</td>\n",
              "      <td>5426</td>\n",
              "      <td>9724</td>\n",
              "      <td>4140</td>\n",
              "      <td>18689</td>\n",
              "      <td>83346</td>\n",
              "      <td>26</td>\n",
              "      <td>230</td>\n",
              "      <td>40</td>\n",
              "      <td>20</td>\n",
              "      <td>20</td>\n",
              "      <td>13393</td>\n",
              "      <td>119028</td>\n",
              "      <td>71050</td>\n",
              "      <td>96269</td>\n",
              "      <td>150264</td>\n",
              "      <td>18691</td>\n",
              "      <td>12753</td>\n",
              "      <td>30625</td>\n",
              "      <td>30625</td>\n",
              "      <td>59705</td>\n",
              "      <td>926</td>\n",
              "    </tr>\n",
              "  </tbody>\n",
              "</table>\n",
              "</div>"
            ],
            "text/plain": [
              "         CDTUP  IDBerco   Berço  ...    SGUF Região Geográfica Nº da Capitania\n",
              "count   150264   149506  149506  ...  149506            149506           85835\n",
              "unique     195      627     510  ...      21                 5            2524\n",
              "top      BRSSZ  BEL0006      6F  ...      PA             Norte      0210254220\n",
              "freq      9724     5426    5426  ...   30625             59705             926\n",
              "\n",
              "[4 rows x 23 columns]"
            ]
          },
          "metadata": {
            "tags": []
          },
          "execution_count": 27
        }
      ]
    },
    {
      "cell_type": "code",
      "metadata": {
        "id": "1_FsUrRl3UzJ"
      },
      "source": [
        "#Escrever tabela em arquivo CSV:\n",
        "atracacao_fato.to_csv('Tabela_atracacao_fato.csv', index=False)"
      ],
      "execution_count": 70,
      "outputs": []
    },
    {
      "cell_type": "markdown",
      "metadata": {
        "id": "WlxQyOabTFu7"
      },
      "source": [
        "# Carga"
      ]
    },
    {
      "cell_type": "markdown",
      "metadata": {
        "id": "AYY-ZLaSWSwH"
      },
      "source": [
        "### Carga.txt"
      ]
    },
    {
      "cell_type": "code",
      "metadata": {
        "colab": {
          "base_uri": "https://localhost:8080/"
        },
        "id": "dcb5y7jv6Ckc",
        "outputId": "21d888e1-fdae-48ba-b546-1248b4339289"
      },
      "source": [
        "#Importar dataframe\n",
        "df_Carga = pd.read_csv(Carga[0], index_col=0, sep=';')\n",
        "\n",
        "print(Carga[0])\n",
        "if len(Carga)>1:\n",
        "  for f in Carga[1:]:\n",
        "    print(f)\n",
        "    aux = pd.read_csv(f, index_col=0, sep=';')\n",
        "    df_Carga = pd.concat([df_Carga,aux]).copy()"
      ],
      "execution_count": 28,
      "outputs": [
        {
          "output_type": "stream",
          "text": [
            "2017Carga.txt\n",
            "2018Carga.txt\n"
          ],
          "name": "stdout"
        }
      ]
    },
    {
      "cell_type": "code",
      "metadata": {
        "id": "mHWVeNVPraOP"
      },
      "source": [
        "df_Carga.reset_index(level=0,inplace=True)"
      ],
      "execution_count": 29,
      "outputs": []
    },
    {
      "cell_type": "code",
      "metadata": {
        "colab": {
          "base_uri": "https://localhost:8080/",
          "height": 233
        },
        "id": "FnmSvD6R6UHT",
        "outputId": "de0be851-1ca4-4087-bf8a-98417ebb79f7"
      },
      "source": [
        "df_Carga.sample(2)"
      ],
      "execution_count": 30,
      "outputs": [
        {
          "output_type": "execute_result",
          "data": {
            "text/html": [
              "<div>\n",
              "<style scoped>\n",
              "    .dataframe tbody tr th:only-of-type {\n",
              "        vertical-align: middle;\n",
              "    }\n",
              "\n",
              "    .dataframe tbody tr th {\n",
              "        vertical-align: top;\n",
              "    }\n",
              "\n",
              "    .dataframe thead th {\n",
              "        text-align: right;\n",
              "    }\n",
              "</style>\n",
              "<table border=\"1\" class=\"dataframe\">\n",
              "  <thead>\n",
              "    <tr style=\"text-align: right;\">\n",
              "      <th></th>\n",
              "      <th>IDCarga</th>\n",
              "      <th>IDAtracacao</th>\n",
              "      <th>Origem</th>\n",
              "      <th>Destino</th>\n",
              "      <th>CDMercadoria</th>\n",
              "      <th>Tipo Operação da Carga</th>\n",
              "      <th>Carga Geral Acondicionamento</th>\n",
              "      <th>ConteinerEstado</th>\n",
              "      <th>Tipo Navegação</th>\n",
              "      <th>FlagAutorizacao</th>\n",
              "      <th>FlagCabotagem</th>\n",
              "      <th>FlagCabotagemMovimentacao</th>\n",
              "      <th>FlagConteinerTamanho</th>\n",
              "      <th>FlagLongoCurso</th>\n",
              "      <th>FlagMCOperacaoCarga</th>\n",
              "      <th>FlagOffshore</th>\n",
              "      <th>FlagTransporteViaInterioir</th>\n",
              "      <th>Percurso Transporte em vias Interiores</th>\n",
              "      <th>Percurso Transporte Interiores</th>\n",
              "      <th>STNaturezaCarga</th>\n",
              "      <th>STSH2</th>\n",
              "      <th>STSH4</th>\n",
              "      <th>Natureza da Carga</th>\n",
              "      <th>Sentido</th>\n",
              "      <th>TEU</th>\n",
              "      <th>QTCarga</th>\n",
              "      <th>VLPesoCargaBruta</th>\n",
              "    </tr>\n",
              "  </thead>\n",
              "  <tbody>\n",
              "    <tr>\n",
              "      <th>3808243</th>\n",
              "      <td>23248279</td>\n",
              "      <td>962927</td>\n",
              "      <td>BRPNG</td>\n",
              "      <td>MXVER</td>\n",
              "      <td>22G0</td>\n",
              "      <td>Longo Curso Exportação</td>\n",
              "      <td>Conteinerizada</td>\n",
              "      <td>Cheio</td>\n",
              "      <td>Longo Curso</td>\n",
              "      <td>S</td>\n",
              "      <td>0.0</td>\n",
              "      <td>0.0</td>\n",
              "      <td>20</td>\n",
              "      <td>1.0</td>\n",
              "      <td>1</td>\n",
              "      <td>0.0</td>\n",
              "      <td>0</td>\n",
              "      <td>NaN</td>\n",
              "      <td>NaN</td>\n",
              "      <td>Exclusivo</td>\n",
              "      <td>Exclusivo</td>\n",
              "      <td>Exclusivo</td>\n",
              "      <td>Carga Conteinerizada</td>\n",
              "      <td>Embarcados</td>\n",
              "      <td>6</td>\n",
              "      <td>6</td>\n",
              "      <td>78,505</td>\n",
              "    </tr>\n",
              "    <tr>\n",
              "      <th>3966005</th>\n",
              "      <td>23408357</td>\n",
              "      <td>969745</td>\n",
              "      <td>BRAM001</td>\n",
              "      <td>BRPA013</td>\n",
              "      <td>SRFC</td>\n",
              "      <td>Interior</td>\n",
              "      <td>Solta</td>\n",
              "      <td>NaN</td>\n",
              "      <td>Interior</td>\n",
              "      <td>S</td>\n",
              "      <td>0.0</td>\n",
              "      <td>0.0</td>\n",
              "      <td>NaN</td>\n",
              "      <td>0.0</td>\n",
              "      <td>1</td>\n",
              "      <td>0.0</td>\n",
              "      <td>1</td>\n",
              "      <td>Interior Interestadual</td>\n",
              "      <td>Navegação Interior</td>\n",
              "      <td>Exclusivo</td>\n",
              "      <td>Compartilhado</td>\n",
              "      <td>Compartilhado</td>\n",
              "      <td>Carga Geral</td>\n",
              "      <td>Desembarcados</td>\n",
              "      <td>0</td>\n",
              "      <td>1</td>\n",
              "      <td>15,356</td>\n",
              "    </tr>\n",
              "  </tbody>\n",
              "</table>\n",
              "</div>"
            ],
            "text/plain": [
              "          IDCarga  IDAtracacao   Origem  ... TEU QTCarga VLPesoCargaBruta\n",
              "3808243  23248279       962927    BRPNG  ...   6       6           78,505\n",
              "3966005  23408357       969745  BRAM001  ...   0       1           15,356\n",
              "\n",
              "[2 rows x 27 columns]"
            ]
          },
          "metadata": {
            "tags": []
          },
          "execution_count": 30
        }
      ]
    },
    {
      "cell_type": "markdown",
      "metadata": {
        "id": "9pnBAcJzraOQ"
      },
      "source": [
        "____________\n",
        "Corrigir colunas (Alterar tipo, Substituir ',' por '.'):"
      ]
    },
    {
      "cell_type": "code",
      "metadata": {
        "id": "RYufHrAdCF5q"
      },
      "source": [
        "Lista=['STNaturezaCarga', 'STSH2', 'STSH4', 'Natureza da Carga', 'Sentido',\n",
        "       'Tipo Navegação', 'Carga Geral Acondicionamento', 'ConteinerEstado',\n",
        "       'Tipo Operação da Carga', 'Percurso Transporte em vias Interiores',\n",
        "       'Percurso Transporte Interiores', 'FlagAutorizacao']\n",
        "\n",
        "#Altera tipo objetos_string para categoria:\n",
        "for col in Lista:\n",
        "  df_Carga[col] = df_Carga[col].astype('category')"
      ],
      "execution_count": 31,
      "outputs": []
    },
    {
      "cell_type": "code",
      "metadata": {
        "id": "EDroNbPoFr2F"
      },
      "source": [
        "df_Carga['TEU']=df_Carga['TEU'].map(lambda v:str(v)).map(lambda v:v.replace(',','.')).map(lambda v:float(v))"
      ],
      "execution_count": 32,
      "outputs": []
    },
    {
      "cell_type": "code",
      "metadata": {
        "id": "kX0QI0uAIYZv"
      },
      "source": [
        "df_Carga['VLPesoCargaBruta']=df_Carga['VLPesoCargaBruta'].map(lambda v:v.replace(',','.')).map(lambda v:float(v))"
      ],
      "execution_count": 33,
      "outputs": []
    },
    {
      "cell_type": "code",
      "metadata": {
        "colab": {
          "base_uri": "https://localhost:8080/"
        },
        "id": "Mg7EMDN8raOQ",
        "outputId": "eceb46ff-9329-421a-a3e3-410758426648"
      },
      "source": [
        "%%time\n",
        "\n",
        "df_Carga['FlagConteinerTamanho']=df_Carga['FlagConteinerTamanho'].map(lambda v:str(v)).map(lambda v:v.replace('.0',''))\n",
        "\n",
        "Lista=[]\n",
        "for idx in df_Carga.index:\n",
        "  aux=df_Carga.loc[idx,'FlagConteinerTamanho']\n",
        "  #if str(aux)=='nan': aux=np.nan\n",
        "  if aux=='nan': aux=np.nan\n",
        "  Lista.append( aux )\n",
        "\n",
        "df_Carga['FlagConteinerTamanho']=pd.Series(Lista).astype('category')"
      ],
      "execution_count": 34,
      "outputs": [
        {
          "output_type": "stream",
          "text": [
            "CPU times: user 1min 13s, sys: 172 ms, total: 1min 13s\n",
            "Wall time: 1min 13s\n"
          ],
          "name": "stdout"
        }
      ]
    },
    {
      "cell_type": "markdown",
      "metadata": {
        "id": "5vS1QHhMraOR"
      },
      "source": [
        "____________"
      ]
    },
    {
      "cell_type": "code",
      "metadata": {
        "colab": {
          "base_uri": "https://localhost:8080/"
        },
        "id": "w6OVFc_kX3Lq",
        "outputId": "e0f1a8a8-17de-4c31-cd8a-172c157dcb94"
      },
      "source": [
        "df_Carga.info()"
      ],
      "execution_count": 35,
      "outputs": [
        {
          "output_type": "stream",
          "text": [
            "<class 'pandas.core.frame.DataFrame'>\n",
            "RangeIndex: 4093051 entries, 0 to 4093050\n",
            "Data columns (total 27 columns):\n",
            " #   Column                                  Dtype   \n",
            "---  ------                                  -----   \n",
            " 0   IDCarga                                 int64   \n",
            " 1   IDAtracacao                             int64   \n",
            " 2   Origem                                  object  \n",
            " 3   Destino                                 object  \n",
            " 4   CDMercadoria                            object  \n",
            " 5   Tipo Operação da Carga                  category\n",
            " 6   Carga Geral Acondicionamento            category\n",
            " 7   ConteinerEstado                         category\n",
            " 8   Tipo Navegação                          category\n",
            " 9   FlagAutorizacao                         category\n",
            " 10  FlagCabotagem                           float64 \n",
            " 11  FlagCabotagemMovimentacao               float64 \n",
            " 12  FlagConteinerTamanho                    category\n",
            " 13  FlagLongoCurso                          float64 \n",
            " 14  FlagMCOperacaoCarga                     int64   \n",
            " 15  FlagOffshore                            float64 \n",
            " 16  FlagTransporteViaInterioir              int64   \n",
            " 17  Percurso Transporte em vias Interiores  category\n",
            " 18  Percurso Transporte Interiores          category\n",
            " 19  STNaturezaCarga                         category\n",
            " 20  STSH2                                   category\n",
            " 21  STSH4                                   category\n",
            " 22  Natureza da Carga                       category\n",
            " 23  Sentido                                 category\n",
            " 24  TEU                                     float64 \n",
            " 25  QTCarga                                 int64   \n",
            " 26  VLPesoCargaBruta                        float64 \n",
            "dtypes: category(13), float64(6), int64(5), object(3)\n",
            "memory usage: 487.9+ MB\n"
          ],
          "name": "stdout"
        }
      ]
    },
    {
      "cell_type": "markdown",
      "metadata": {
        "id": "s0LHu-7vYukv"
      },
      "source": [
        "### Carga_Conteinerizada.txt"
      ]
    },
    {
      "cell_type": "code",
      "metadata": {
        "colab": {
          "base_uri": "https://localhost:8080/"
        },
        "id": "brlCAjrGraOR",
        "outputId": "90436f19-44f4-44ef-b910-d5f343fab3ec"
      },
      "source": [
        "#Importar dataframe\n",
        "df_CargaC = pd.read_csv(Carga_Conteinerizada[0], index_col=0, sep=';')\n",
        "\n",
        "print(Carga_Conteinerizada[0])\n",
        "if len(Carga_Conteinerizada)>1:\n",
        "  for f in Carga_Conteinerizada[1:]:\n",
        "    print(f)\n",
        "    aux = pd.read_csv(f, index_col=0, sep=';')\n",
        "    df_CargaC = pd.concat([df_CargaC,aux]).copy()"
      ],
      "execution_count": 36,
      "outputs": [
        {
          "output_type": "stream",
          "text": [
            "2018Carga_Conteinerizada.txt\n",
            "2017Carga_Conteinerizada.txt\n"
          ],
          "name": "stdout"
        }
      ]
    },
    {
      "cell_type": "code",
      "metadata": {
        "colab": {
          "base_uri": "https://localhost:8080/",
          "height": 111
        },
        "id": "qrZM2XAZraOR",
        "outputId": "45c055b0-214f-4de0-d750-39f7dad42719"
      },
      "source": [
        "df_CargaC.reset_index(level=0,inplace=True)\n",
        "df_CargaC.sample(2)"
      ],
      "execution_count": 37,
      "outputs": [
        {
          "output_type": "execute_result",
          "data": {
            "text/html": [
              "<div>\n",
              "<style scoped>\n",
              "    .dataframe tbody tr th:only-of-type {\n",
              "        vertical-align: middle;\n",
              "    }\n",
              "\n",
              "    .dataframe tbody tr th {\n",
              "        vertical-align: top;\n",
              "    }\n",
              "\n",
              "    .dataframe thead th {\n",
              "        text-align: right;\n",
              "    }\n",
              "</style>\n",
              "<table border=\"1\" class=\"dataframe\">\n",
              "  <thead>\n",
              "    <tr style=\"text-align: right;\">\n",
              "      <th></th>\n",
              "      <th>IDCarga</th>\n",
              "      <th>CDMercadoriaConteinerizada</th>\n",
              "      <th>VLPesoCargaConteinerizada</th>\n",
              "    </tr>\n",
              "  </thead>\n",
              "  <tbody>\n",
              "    <tr>\n",
              "      <th>3397394</th>\n",
              "      <td>22010404</td>\n",
              "      <td>8708</td>\n",
              "      <td>0,77</td>\n",
              "    </tr>\n",
              "    <tr>\n",
              "      <th>2169097</th>\n",
              "      <td>21595630</td>\n",
              "      <td>5806</td>\n",
              "      <td>0,96</td>\n",
              "    </tr>\n",
              "  </tbody>\n",
              "</table>\n",
              "</div>"
            ],
            "text/plain": [
              "          IDCarga CDMercadoriaConteinerizada VLPesoCargaConteinerizada\n",
              "3397394  22010404                       8708                      0,77\n",
              "2169097  21595630                       5806                      0,96"
            ]
          },
          "metadata": {
            "tags": []
          },
          "execution_count": 37
        }
      ]
    },
    {
      "cell_type": "code",
      "metadata": {
        "id": "Vqvn2mSNcAko"
      },
      "source": [
        "#Trocar ',' por '.':\n",
        "df_CargaC=df_CargaC.assign( VLPesoCargaConteinerizada = df_CargaC['VLPesoCargaConteinerizada'].astype('str').map( lambda v: v.replace(',','.') ) )\n",
        "\n",
        "#Converter em object/string em float:\n",
        "df_CargaC['VLPesoCargaConteinerizada']=df_CargaC['VLPesoCargaConteinerizada'].astype('float64')"
      ],
      "execution_count": 38,
      "outputs": []
    },
    {
      "cell_type": "code",
      "metadata": {
        "colab": {
          "base_uri": "https://localhost:8080/"
        },
        "id": "kUNyYxOAX28W",
        "outputId": "d8433523-ebaa-49f9-d1c0-6dff76a5e0ac"
      },
      "source": [
        "df_CargaC.info()"
      ],
      "execution_count": null,
      "outputs": [
        {
          "output_type": "stream",
          "text": [
            "<class 'pandas.core.frame.DataFrame'>\n",
            "RangeIndex: 7045250 entries, 0 to 7045249\n",
            "Data columns (total 3 columns):\n",
            "IDCarga                       int64\n",
            "CDMercadoriaConteinerizada    object\n",
            "VLPesoCargaConteinerizada     float64\n",
            "dtypes: float64(1), int64(1), object(1)\n",
            "memory usage: 161.3+ MB\n"
          ],
          "name": "stdout"
        }
      ]
    },
    {
      "cell_type": "code",
      "metadata": {
        "colab": {
          "base_uri": "https://localhost:8080/"
        },
        "id": "GbdXWDcXfQ-2",
        "outputId": "258be1aa-d49e-4c94-bf6c-7318bb58446b"
      },
      "source": [
        "#Possui valores nulos?\n",
        "df_CargaC.isnull().any()"
      ],
      "execution_count": 39,
      "outputs": [
        {
          "output_type": "execute_result",
          "data": {
            "text/plain": [
              "IDCarga                       False\n",
              "CDMercadoriaConteinerizada    False\n",
              "VLPesoCargaConteinerizada     False\n",
              "dtype: bool"
            ]
          },
          "metadata": {
            "tags": []
          },
          "execution_count": 39
        }
      ]
    },
    {
      "cell_type": "code",
      "metadata": {
        "colab": {
          "base_uri": "https://localhost:8080/"
        },
        "id": "C71z2BYbeer_",
        "outputId": "282e67ca-965e-4092-d5c9-14be27ebfe18"
      },
      "source": [
        "%%time\n",
        "df_CargaC_group=df_CargaC.groupby(['IDCarga']).agg({'CDMercadoriaConteinerizada':'unique','VLPesoCargaConteinerizada':'sum'})"
      ],
      "execution_count": 40,
      "outputs": [
        {
          "output_type": "stream",
          "text": [
            "CPU times: user 4min 36s, sys: 11.9 s, total: 4min 48s\n",
            "Wall time: 4min 29s\n"
          ],
          "name": "stdout"
        }
      ]
    },
    {
      "cell_type": "code",
      "metadata": {
        "id": "wygVQ0neraOV"
      },
      "source": [
        "df_CargaC_group=df_CargaC_group.rename(columns={'VLPesoCargaConteinerizada':'sumVLPesoCargaConteinerizada'})"
      ],
      "execution_count": null,
      "outputs": []
    },
    {
      "cell_type": "code",
      "metadata": {
        "colab": {
          "base_uri": "https://localhost:8080/",
          "height": 419
        },
        "id": "4Z34SLvApokh",
        "outputId": "aea880fb-efab-4e87-d09b-648b22309d20"
      },
      "source": [
        "df_CargaC_group.reset_index(level=0,inplace=True)\n",
        "df_CargaC_group"
      ],
      "execution_count": 44,
      "outputs": [
        {
          "output_type": "execute_result",
          "data": {
            "text/html": [
              "<div>\n",
              "<style scoped>\n",
              "    .dataframe tbody tr th:only-of-type {\n",
              "        vertical-align: middle;\n",
              "    }\n",
              "\n",
              "    .dataframe tbody tr th {\n",
              "        vertical-align: top;\n",
              "    }\n",
              "\n",
              "    .dataframe thead th {\n",
              "        text-align: right;\n",
              "    }\n",
              "</style>\n",
              "<table border=\"1\" class=\"dataframe\">\n",
              "  <thead>\n",
              "    <tr style=\"text-align: right;\">\n",
              "      <th></th>\n",
              "      <th>IDCarga</th>\n",
              "      <th>CDMercadoriaConteinerizada</th>\n",
              "      <th>sumVLPesoCargaConteinerizada</th>\n",
              "    </tr>\n",
              "  </thead>\n",
              "  <tbody>\n",
              "    <tr>\n",
              "      <th>0</th>\n",
              "      <td>17765801</td>\n",
              "      <td>[4409]</td>\n",
              "      <td>19.31</td>\n",
              "    </tr>\n",
              "    <tr>\n",
              "      <th>1</th>\n",
              "      <td>17765802</td>\n",
              "      <td>[4409]</td>\n",
              "      <td>21.00</td>\n",
              "    </tr>\n",
              "    <tr>\n",
              "      <th>2</th>\n",
              "      <td>17765803</td>\n",
              "      <td>[0511]</td>\n",
              "      <td>3.34</td>\n",
              "    </tr>\n",
              "    <tr>\n",
              "      <th>3</th>\n",
              "      <td>17765804</td>\n",
              "      <td>[0904]</td>\n",
              "      <td>10.82</td>\n",
              "    </tr>\n",
              "    <tr>\n",
              "      <th>4</th>\n",
              "      <td>17765805</td>\n",
              "      <td>[4409]</td>\n",
              "      <td>21.86</td>\n",
              "    </tr>\n",
              "    <tr>\n",
              "      <th>...</th>\n",
              "      <td>...</td>\n",
              "      <td>...</td>\n",
              "      <td>...</td>\n",
              "    </tr>\n",
              "    <tr>\n",
              "      <th>3501232</th>\n",
              "      <td>27705307</td>\n",
              "      <td>[0904]</td>\n",
              "      <td>24.93</td>\n",
              "    </tr>\n",
              "    <tr>\n",
              "      <th>3501233</th>\n",
              "      <td>27705308</td>\n",
              "      <td>[0904]</td>\n",
              "      <td>24.89</td>\n",
              "    </tr>\n",
              "    <tr>\n",
              "      <th>3501234</th>\n",
              "      <td>27705309</td>\n",
              "      <td>[0904]</td>\n",
              "      <td>25.15</td>\n",
              "    </tr>\n",
              "    <tr>\n",
              "      <th>3501235</th>\n",
              "      <td>27705310</td>\n",
              "      <td>[0904]</td>\n",
              "      <td>25.15</td>\n",
              "    </tr>\n",
              "    <tr>\n",
              "      <th>3501236</th>\n",
              "      <td>27705311</td>\n",
              "      <td>[0904]</td>\n",
              "      <td>24.97</td>\n",
              "    </tr>\n",
              "  </tbody>\n",
              "</table>\n",
              "<p>3501237 rows × 3 columns</p>\n",
              "</div>"
            ],
            "text/plain": [
              "          IDCarga CDMercadoriaConteinerizada  sumVLPesoCargaConteinerizada\n",
              "0        17765801                     [4409]                         19.31\n",
              "1        17765802                     [4409]                         21.00\n",
              "2        17765803                     [0511]                          3.34\n",
              "3        17765804                     [0904]                         10.82\n",
              "4        17765805                     [4409]                         21.86\n",
              "...           ...                        ...                           ...\n",
              "3501232  27705307                     [0904]                         24.93\n",
              "3501233  27705308                     [0904]                         24.89\n",
              "3501234  27705309                     [0904]                         25.15\n",
              "3501235  27705310                     [0904]                         25.15\n",
              "3501236  27705311                     [0904]                         24.97\n",
              "\n",
              "[3501237 rows x 3 columns]"
            ]
          },
          "metadata": {
            "tags": []
          },
          "execution_count": 44
        }
      ]
    },
    {
      "cell_type": "code",
      "metadata": {
        "colab": {
          "base_uri": "https://localhost:8080/"
        },
        "id": "15G4lZR_g2UT",
        "outputId": "296764a4-bd64-45a4-ca95-a652a4f3fc39"
      },
      "source": [
        "df_CargaC_group.info()"
      ],
      "execution_count": 45,
      "outputs": [
        {
          "output_type": "stream",
          "text": [
            "<class 'pandas.core.frame.DataFrame'>\n",
            "RangeIndex: 3501237 entries, 0 to 3501236\n",
            "Data columns (total 3 columns):\n",
            " #   Column                        Dtype  \n",
            "---  ------                        -----  \n",
            " 0   IDCarga                       int64  \n",
            " 1   CDMercadoriaConteinerizada    object \n",
            " 2   sumVLPesoCargaConteinerizada  float64\n",
            "dtypes: float64(1), int64(1), object(1)\n",
            "memory usage: 80.1+ MB\n"
          ],
          "name": "stdout"
        }
      ]
    },
    {
      "cell_type": "markdown",
      "metadata": {
        "id": "XeqCoy81TVvk"
      },
      "source": [
        "## Tabela carga_fato"
      ]
    },
    {
      "cell_type": "code",
      "metadata": {
        "colab": {
          "base_uri": "https://localhost:8080/",
          "height": 419
        },
        "id": "kDNuFfsSTUbA",
        "outputId": "8c00dcf7-8a26-4c7f-e5e0-1c75efaa480b"
      },
      "source": [
        "atracacao_fato_part=atracacao_fato[['IDAtracacao','Ano da data de início da operação',\n",
        "                                    'Mês da data de início da operação','Porto Atracação','SGUF']]\n",
        "atracacao_fato_part=atracacao_fato_part.rename(columns={'Mês da data de início da operação':'Mês da data de início da operação da atracação',\n",
        "                                                        'Ano da data de início da operação':'Ano da data de início da operação da atracação'})\n",
        "\n",
        "atracacao_fato_part"
      ],
      "execution_count": 46,
      "outputs": [
        {
          "output_type": "execute_result",
          "data": {
            "text/html": [
              "<div>\n",
              "<style scoped>\n",
              "    .dataframe tbody tr th:only-of-type {\n",
              "        vertical-align: middle;\n",
              "    }\n",
              "\n",
              "    .dataframe tbody tr th {\n",
              "        vertical-align: top;\n",
              "    }\n",
              "\n",
              "    .dataframe thead th {\n",
              "        text-align: right;\n",
              "    }\n",
              "</style>\n",
              "<table border=\"1\" class=\"dataframe\">\n",
              "  <thead>\n",
              "    <tr style=\"text-align: right;\">\n",
              "      <th></th>\n",
              "      <th>IDAtracacao</th>\n",
              "      <th>Ano da data de início da operação da atracação</th>\n",
              "      <th>Mês da data de início da operação da atracação</th>\n",
              "      <th>Porto Atracação</th>\n",
              "      <th>SGUF</th>\n",
              "    </tr>\n",
              "  </thead>\n",
              "  <tbody>\n",
              "    <tr>\n",
              "      <th>0</th>\n",
              "      <td>2462</td>\n",
              "      <td>2018</td>\n",
              "      <td>set</td>\n",
              "      <td>NaN</td>\n",
              "      <td>NaN</td>\n",
              "    </tr>\n",
              "    <tr>\n",
              "      <th>1</th>\n",
              "      <td>2487</td>\n",
              "      <td>2018</td>\n",
              "      <td>out</td>\n",
              "      <td>NaN</td>\n",
              "      <td>NaN</td>\n",
              "    </tr>\n",
              "    <tr>\n",
              "      <th>2</th>\n",
              "      <td>2474</td>\n",
              "      <td>2018</td>\n",
              "      <td>out</td>\n",
              "      <td>NaN</td>\n",
              "      <td>NaN</td>\n",
              "    </tr>\n",
              "    <tr>\n",
              "      <th>3</th>\n",
              "      <td>2489</td>\n",
              "      <td>2018</td>\n",
              "      <td>out</td>\n",
              "      <td>NaN</td>\n",
              "      <td>NaN</td>\n",
              "    </tr>\n",
              "    <tr>\n",
              "      <th>4</th>\n",
              "      <td>2488</td>\n",
              "      <td>2018</td>\n",
              "      <td>out</td>\n",
              "      <td>NaN</td>\n",
              "      <td>NaN</td>\n",
              "    </tr>\n",
              "    <tr>\n",
              "      <th>...</th>\n",
              "      <td>...</td>\n",
              "      <td>...</td>\n",
              "      <td>...</td>\n",
              "      <td>...</td>\n",
              "      <td>...</td>\n",
              "    </tr>\n",
              "    <tr>\n",
              "      <th>150259</th>\n",
              "      <td>943303</td>\n",
              "      <td>2017</td>\n",
              "      <td>mar</td>\n",
              "      <td>Terminal Santa Clara</td>\n",
              "      <td>RS</td>\n",
              "    </tr>\n",
              "    <tr>\n",
              "      <th>150260</th>\n",
              "      <td>943346</td>\n",
              "      <td>2017</td>\n",
              "      <td>ago</td>\n",
              "      <td>Terminal Santa Clara</td>\n",
              "      <td>RS</td>\n",
              "    </tr>\n",
              "    <tr>\n",
              "      <th>150261</th>\n",
              "      <td>943343</td>\n",
              "      <td>2017</td>\n",
              "      <td>jul</td>\n",
              "      <td>Terminal Santa Clara</td>\n",
              "      <td>RS</td>\n",
              "    </tr>\n",
              "    <tr>\n",
              "      <th>150262</th>\n",
              "      <td>943304</td>\n",
              "      <td>2017</td>\n",
              "      <td>mar</td>\n",
              "      <td>Terminal Santa Clara</td>\n",
              "      <td>RS</td>\n",
              "    </tr>\n",
              "    <tr>\n",
              "      <th>150263</th>\n",
              "      <td>943368</td>\n",
              "      <td>2017</td>\n",
              "      <td>out</td>\n",
              "      <td>Terminal Santa Clara</td>\n",
              "      <td>RS</td>\n",
              "    </tr>\n",
              "  </tbody>\n",
              "</table>\n",
              "<p>150264 rows × 5 columns</p>\n",
              "</div>"
            ],
            "text/plain": [
              "        IDAtracacao  ...  SGUF\n",
              "0              2462  ...   NaN\n",
              "1              2487  ...   NaN\n",
              "2              2474  ...   NaN\n",
              "3              2489  ...   NaN\n",
              "4              2488  ...   NaN\n",
              "...             ...  ...   ...\n",
              "150259       943303  ...    RS\n",
              "150260       943346  ...    RS\n",
              "150261       943343  ...    RS\n",
              "150262       943304  ...    RS\n",
              "150263       943368  ...    RS\n",
              "\n",
              "[150264 rows x 5 columns]"
            ]
          },
          "metadata": {
            "tags": []
          },
          "execution_count": 46
        }
      ]
    },
    {
      "cell_type": "code",
      "metadata": {
        "colab": {
          "base_uri": "https://localhost:8080/",
          "height": 779
        },
        "id": "NNiY9yXskkuy",
        "outputId": "cc5217d5-fdc6-4c64-f4e0-b7988a67806e"
      },
      "source": [
        "Carga_At = pd.merge(df_Carga, atracacao_fato_part, how=\"left\", on=\"IDAtracacao\")\n",
        "Carga_At = Carga_At.sort_values(by=['IDCarga'], ignore_index=True)\n",
        "\n",
        "#Carga_At.sample(12)\n",
        "Carga_At"
      ],
      "execution_count": 47,
      "outputs": [
        {
          "output_type": "execute_result",
          "data": {
            "text/html": [
              "<div>\n",
              "<style scoped>\n",
              "    .dataframe tbody tr th:only-of-type {\n",
              "        vertical-align: middle;\n",
              "    }\n",
              "\n",
              "    .dataframe tbody tr th {\n",
              "        vertical-align: top;\n",
              "    }\n",
              "\n",
              "    .dataframe thead th {\n",
              "        text-align: right;\n",
              "    }\n",
              "</style>\n",
              "<table border=\"1\" class=\"dataframe\">\n",
              "  <thead>\n",
              "    <tr style=\"text-align: right;\">\n",
              "      <th></th>\n",
              "      <th>IDCarga</th>\n",
              "      <th>IDAtracacao</th>\n",
              "      <th>Origem</th>\n",
              "      <th>Destino</th>\n",
              "      <th>CDMercadoria</th>\n",
              "      <th>Tipo Operação da Carga</th>\n",
              "      <th>Carga Geral Acondicionamento</th>\n",
              "      <th>ConteinerEstado</th>\n",
              "      <th>Tipo Navegação</th>\n",
              "      <th>FlagAutorizacao</th>\n",
              "      <th>FlagCabotagem</th>\n",
              "      <th>FlagCabotagemMovimentacao</th>\n",
              "      <th>FlagConteinerTamanho</th>\n",
              "      <th>FlagLongoCurso</th>\n",
              "      <th>FlagMCOperacaoCarga</th>\n",
              "      <th>FlagOffshore</th>\n",
              "      <th>FlagTransporteViaInterioir</th>\n",
              "      <th>Percurso Transporte em vias Interiores</th>\n",
              "      <th>Percurso Transporte Interiores</th>\n",
              "      <th>STNaturezaCarga</th>\n",
              "      <th>STSH2</th>\n",
              "      <th>STSH4</th>\n",
              "      <th>Natureza da Carga</th>\n",
              "      <th>Sentido</th>\n",
              "      <th>TEU</th>\n",
              "      <th>QTCarga</th>\n",
              "      <th>VLPesoCargaBruta</th>\n",
              "      <th>Ano da data de início da operação da atracação</th>\n",
              "      <th>Mês da data de início da operação da atracação</th>\n",
              "      <th>Porto Atracação</th>\n",
              "      <th>SGUF</th>\n",
              "    </tr>\n",
              "  </thead>\n",
              "  <tbody>\n",
              "    <tr>\n",
              "      <th>0</th>\n",
              "      <td>118</td>\n",
              "      <td>118</td>\n",
              "      <td>BRQGA</td>\n",
              "      <td>BRQGA</td>\n",
              "      <td>2505</td>\n",
              "      <td>NaN</td>\n",
              "      <td>NaN</td>\n",
              "      <td>NaN</td>\n",
              "      <td>Interior</td>\n",
              "      <td>N</td>\n",
              "      <td>NaN</td>\n",
              "      <td>NaN</td>\n",
              "      <td>NaN</td>\n",
              "      <td>NaN</td>\n",
              "      <td>1</td>\n",
              "      <td>NaN</td>\n",
              "      <td>1</td>\n",
              "      <td>Interior Estadual</td>\n",
              "      <td>Navegação Interior</td>\n",
              "      <td>Compartilhado</td>\n",
              "      <td>Compartilhado</td>\n",
              "      <td>Compartilhado</td>\n",
              "      <td>Granel Sólido</td>\n",
              "      <td>Desembarcados</td>\n",
              "      <td>0.0</td>\n",
              "      <td>0</td>\n",
              "      <td>66000.00</td>\n",
              "      <td>2017</td>\n",
              "      <td>jan</td>\n",
              "      <td>NaN</td>\n",
              "      <td>NaN</td>\n",
              "    </tr>\n",
              "    <tr>\n",
              "      <th>1</th>\n",
              "      <td>119</td>\n",
              "      <td>119</td>\n",
              "      <td>BRQGA</td>\n",
              "      <td>BR373</td>\n",
              "      <td>2505</td>\n",
              "      <td>NaN</td>\n",
              "      <td>NaN</td>\n",
              "      <td>NaN</td>\n",
              "      <td>Interior</td>\n",
              "      <td>N</td>\n",
              "      <td>NaN</td>\n",
              "      <td>NaN</td>\n",
              "      <td>NaN</td>\n",
              "      <td>NaN</td>\n",
              "      <td>1</td>\n",
              "      <td>NaN</td>\n",
              "      <td>1</td>\n",
              "      <td>Interior Interestadual</td>\n",
              "      <td>Navegação Interior</td>\n",
              "      <td>Compartilhado</td>\n",
              "      <td>Compartilhado</td>\n",
              "      <td>Compartilhado</td>\n",
              "      <td>Granel Sólido</td>\n",
              "      <td>Desembarcados</td>\n",
              "      <td>0.0</td>\n",
              "      <td>0</td>\n",
              "      <td>9900.00</td>\n",
              "      <td>2017</td>\n",
              "      <td>jan</td>\n",
              "      <td>NaN</td>\n",
              "      <td>NaN</td>\n",
              "    </tr>\n",
              "    <tr>\n",
              "      <th>2</th>\n",
              "      <td>120</td>\n",
              "      <td>120</td>\n",
              "      <td>BRQGA</td>\n",
              "      <td>BR375</td>\n",
              "      <td>2505</td>\n",
              "      <td>NaN</td>\n",
              "      <td>NaN</td>\n",
              "      <td>NaN</td>\n",
              "      <td>Interior</td>\n",
              "      <td>N</td>\n",
              "      <td>NaN</td>\n",
              "      <td>NaN</td>\n",
              "      <td>NaN</td>\n",
              "      <td>NaN</td>\n",
              "      <td>1</td>\n",
              "      <td>NaN</td>\n",
              "      <td>1</td>\n",
              "      <td>Interior Estadual</td>\n",
              "      <td>Navegação Interior</td>\n",
              "      <td>Compartilhado</td>\n",
              "      <td>Compartilhado</td>\n",
              "      <td>Compartilhado</td>\n",
              "      <td>Granel Sólido</td>\n",
              "      <td>Desembarcados</td>\n",
              "      <td>0.0</td>\n",
              "      <td>0</td>\n",
              "      <td>26400.00</td>\n",
              "      <td>2017</td>\n",
              "      <td>jan</td>\n",
              "      <td>NaN</td>\n",
              "      <td>NaN</td>\n",
              "    </tr>\n",
              "    <tr>\n",
              "      <th>3</th>\n",
              "      <td>128</td>\n",
              "      <td>128</td>\n",
              "      <td>BRQGA</td>\n",
              "      <td>PYZ06</td>\n",
              "      <td>3102</td>\n",
              "      <td>NaN</td>\n",
              "      <td>NaN</td>\n",
              "      <td>NaN</td>\n",
              "      <td>Interior</td>\n",
              "      <td>N</td>\n",
              "      <td>NaN</td>\n",
              "      <td>NaN</td>\n",
              "      <td>NaN</td>\n",
              "      <td>NaN</td>\n",
              "      <td>1</td>\n",
              "      <td>NaN</td>\n",
              "      <td>1</td>\n",
              "      <td>Interior Internacional</td>\n",
              "      <td>Navegação Interior</td>\n",
              "      <td>Compartilhado</td>\n",
              "      <td>Compartilhado</td>\n",
              "      <td>Compartilhado</td>\n",
              "      <td>Granel Sólido</td>\n",
              "      <td>Desembarcados</td>\n",
              "      <td>0.0</td>\n",
              "      <td>0</td>\n",
              "      <td>1425.90</td>\n",
              "      <td>2017</td>\n",
              "      <td>jan</td>\n",
              "      <td>NaN</td>\n",
              "      <td>NaN</td>\n",
              "    </tr>\n",
              "    <tr>\n",
              "      <th>4</th>\n",
              "      <td>177</td>\n",
              "      <td>177</td>\n",
              "      <td>BRQGA</td>\n",
              "      <td>PYZ06</td>\n",
              "      <td>2521</td>\n",
              "      <td>NaN</td>\n",
              "      <td>NaN</td>\n",
              "      <td>NaN</td>\n",
              "      <td>Interior</td>\n",
              "      <td>N</td>\n",
              "      <td>NaN</td>\n",
              "      <td>NaN</td>\n",
              "      <td>NaN</td>\n",
              "      <td>NaN</td>\n",
              "      <td>1</td>\n",
              "      <td>NaN</td>\n",
              "      <td>1</td>\n",
              "      <td>Interior Internacional</td>\n",
              "      <td>Navegação Interior</td>\n",
              "      <td>Compartilhado</td>\n",
              "      <td>Compartilhado</td>\n",
              "      <td>Compartilhado</td>\n",
              "      <td>Granel Sólido</td>\n",
              "      <td>Desembarcados</td>\n",
              "      <td>0.0</td>\n",
              "      <td>0</td>\n",
              "      <td>688.01</td>\n",
              "      <td>2017</td>\n",
              "      <td>jan</td>\n",
              "      <td>NaN</td>\n",
              "      <td>NaN</td>\n",
              "    </tr>\n",
              "    <tr>\n",
              "      <th>...</th>\n",
              "      <td>...</td>\n",
              "      <td>...</td>\n",
              "      <td>...</td>\n",
              "      <td>...</td>\n",
              "      <td>...</td>\n",
              "      <td>...</td>\n",
              "      <td>...</td>\n",
              "      <td>...</td>\n",
              "      <td>...</td>\n",
              "      <td>...</td>\n",
              "      <td>...</td>\n",
              "      <td>...</td>\n",
              "      <td>...</td>\n",
              "      <td>...</td>\n",
              "      <td>...</td>\n",
              "      <td>...</td>\n",
              "      <td>...</td>\n",
              "      <td>...</td>\n",
              "      <td>...</td>\n",
              "      <td>...</td>\n",
              "      <td>...</td>\n",
              "      <td>...</td>\n",
              "      <td>...</td>\n",
              "      <td>...</td>\n",
              "      <td>...</td>\n",
              "      <td>...</td>\n",
              "      <td>...</td>\n",
              "      <td>...</td>\n",
              "      <td>...</td>\n",
              "      <td>...</td>\n",
              "      <td>...</td>\n",
              "    </tr>\n",
              "    <tr>\n",
              "      <th>4093046</th>\n",
              "      <td>27705307</td>\n",
              "      <td>1133637</td>\n",
              "      <td>BRVDC</td>\n",
              "      <td>VNSGN</td>\n",
              "      <td>45G0</td>\n",
              "      <td>Longo Curso Exportação</td>\n",
              "      <td>Conteinerizada</td>\n",
              "      <td>Cheio</td>\n",
              "      <td>Longo Curso</td>\n",
              "      <td>S</td>\n",
              "      <td>0.0</td>\n",
              "      <td>0.0</td>\n",
              "      <td>40</td>\n",
              "      <td>1.0</td>\n",
              "      <td>1</td>\n",
              "      <td>0.0</td>\n",
              "      <td>1</td>\n",
              "      <td>NaN</td>\n",
              "      <td>Longo Curso em vias interiores</td>\n",
              "      <td>Exclusivo</td>\n",
              "      <td>Exclusivo</td>\n",
              "      <td>Exclusivo</td>\n",
              "      <td>Carga Conteinerizada</td>\n",
              "      <td>Embarcados</td>\n",
              "      <td>2.0</td>\n",
              "      <td>1</td>\n",
              "      <td>28.73</td>\n",
              "      <td>2018</td>\n",
              "      <td>dez</td>\n",
              "      <td>Vila do Conde</td>\n",
              "      <td>PA</td>\n",
              "    </tr>\n",
              "    <tr>\n",
              "      <th>4093047</th>\n",
              "      <td>27705308</td>\n",
              "      <td>1133637</td>\n",
              "      <td>BRVDC</td>\n",
              "      <td>VNSGN</td>\n",
              "      <td>45G0</td>\n",
              "      <td>Longo Curso Exportação</td>\n",
              "      <td>Conteinerizada</td>\n",
              "      <td>Cheio</td>\n",
              "      <td>Longo Curso</td>\n",
              "      <td>S</td>\n",
              "      <td>0.0</td>\n",
              "      <td>0.0</td>\n",
              "      <td>40</td>\n",
              "      <td>1.0</td>\n",
              "      <td>1</td>\n",
              "      <td>0.0</td>\n",
              "      <td>1</td>\n",
              "      <td>NaN</td>\n",
              "      <td>Longo Curso em vias interiores</td>\n",
              "      <td>Exclusivo</td>\n",
              "      <td>Exclusivo</td>\n",
              "      <td>Exclusivo</td>\n",
              "      <td>Carga Conteinerizada</td>\n",
              "      <td>Embarcados</td>\n",
              "      <td>2.0</td>\n",
              "      <td>1</td>\n",
              "      <td>28.69</td>\n",
              "      <td>2018</td>\n",
              "      <td>dez</td>\n",
              "      <td>Vila do Conde</td>\n",
              "      <td>PA</td>\n",
              "    </tr>\n",
              "    <tr>\n",
              "      <th>4093048</th>\n",
              "      <td>27705309</td>\n",
              "      <td>1133637</td>\n",
              "      <td>BRVDC</td>\n",
              "      <td>VNSGN</td>\n",
              "      <td>45G0</td>\n",
              "      <td>Longo Curso Exportação</td>\n",
              "      <td>Conteinerizada</td>\n",
              "      <td>Cheio</td>\n",
              "      <td>Longo Curso</td>\n",
              "      <td>S</td>\n",
              "      <td>0.0</td>\n",
              "      <td>0.0</td>\n",
              "      <td>40</td>\n",
              "      <td>1.0</td>\n",
              "      <td>1</td>\n",
              "      <td>0.0</td>\n",
              "      <td>1</td>\n",
              "      <td>NaN</td>\n",
              "      <td>Longo Curso em vias interiores</td>\n",
              "      <td>Exclusivo</td>\n",
              "      <td>Exclusivo</td>\n",
              "      <td>Exclusivo</td>\n",
              "      <td>Carga Conteinerizada</td>\n",
              "      <td>Embarcados</td>\n",
              "      <td>2.0</td>\n",
              "      <td>1</td>\n",
              "      <td>28.95</td>\n",
              "      <td>2018</td>\n",
              "      <td>dez</td>\n",
              "      <td>Vila do Conde</td>\n",
              "      <td>PA</td>\n",
              "    </tr>\n",
              "    <tr>\n",
              "      <th>4093049</th>\n",
              "      <td>27705310</td>\n",
              "      <td>1133637</td>\n",
              "      <td>BRVDC</td>\n",
              "      <td>VNSGN</td>\n",
              "      <td>45G0</td>\n",
              "      <td>Longo Curso Exportação</td>\n",
              "      <td>Conteinerizada</td>\n",
              "      <td>Cheio</td>\n",
              "      <td>Longo Curso</td>\n",
              "      <td>S</td>\n",
              "      <td>0.0</td>\n",
              "      <td>0.0</td>\n",
              "      <td>40</td>\n",
              "      <td>1.0</td>\n",
              "      <td>1</td>\n",
              "      <td>0.0</td>\n",
              "      <td>1</td>\n",
              "      <td>NaN</td>\n",
              "      <td>Longo Curso em vias interiores</td>\n",
              "      <td>Exclusivo</td>\n",
              "      <td>Exclusivo</td>\n",
              "      <td>Exclusivo</td>\n",
              "      <td>Carga Conteinerizada</td>\n",
              "      <td>Embarcados</td>\n",
              "      <td>2.0</td>\n",
              "      <td>1</td>\n",
              "      <td>28.95</td>\n",
              "      <td>2018</td>\n",
              "      <td>dez</td>\n",
              "      <td>Vila do Conde</td>\n",
              "      <td>PA</td>\n",
              "    </tr>\n",
              "    <tr>\n",
              "      <th>4093050</th>\n",
              "      <td>27705311</td>\n",
              "      <td>1133637</td>\n",
              "      <td>BRVDC</td>\n",
              "      <td>VNSGN</td>\n",
              "      <td>45G0</td>\n",
              "      <td>Longo Curso Exportação</td>\n",
              "      <td>Conteinerizada</td>\n",
              "      <td>Cheio</td>\n",
              "      <td>Longo Curso</td>\n",
              "      <td>S</td>\n",
              "      <td>0.0</td>\n",
              "      <td>0.0</td>\n",
              "      <td>40</td>\n",
              "      <td>1.0</td>\n",
              "      <td>1</td>\n",
              "      <td>0.0</td>\n",
              "      <td>1</td>\n",
              "      <td>NaN</td>\n",
              "      <td>Longo Curso em vias interiores</td>\n",
              "      <td>Exclusivo</td>\n",
              "      <td>Exclusivo</td>\n",
              "      <td>Exclusivo</td>\n",
              "      <td>Carga Conteinerizada</td>\n",
              "      <td>Embarcados</td>\n",
              "      <td>2.0</td>\n",
              "      <td>1</td>\n",
              "      <td>28.77</td>\n",
              "      <td>2018</td>\n",
              "      <td>dez</td>\n",
              "      <td>Vila do Conde</td>\n",
              "      <td>PA</td>\n",
              "    </tr>\n",
              "  </tbody>\n",
              "</table>\n",
              "<p>4093051 rows × 31 columns</p>\n",
              "</div>"
            ],
            "text/plain": [
              "          IDCarga  IDAtracacao  ... Porto Atracação SGUF\n",
              "0             118          118  ...             NaN  NaN\n",
              "1             119          119  ...             NaN  NaN\n",
              "2             120          120  ...             NaN  NaN\n",
              "3             128          128  ...             NaN  NaN\n",
              "4             177          177  ...             NaN  NaN\n",
              "...           ...          ...  ...             ...  ...\n",
              "4093046  27705307      1133637  ...   Vila do Conde   PA\n",
              "4093047  27705308      1133637  ...   Vila do Conde   PA\n",
              "4093048  27705309      1133637  ...   Vila do Conde   PA\n",
              "4093049  27705310      1133637  ...   Vila do Conde   PA\n",
              "4093050  27705311      1133637  ...   Vila do Conde   PA\n",
              "\n",
              "[4093051 rows x 31 columns]"
            ]
          },
          "metadata": {
            "tags": []
          },
          "execution_count": 47
        }
      ]
    },
    {
      "cell_type": "code",
      "metadata": {
        "colab": {
          "base_uri": "https://localhost:8080/",
          "height": 779
        },
        "id": "Whj6OTM3TUlT",
        "outputId": "facacc1b-f926-447e-b1bc-a16ebcd28ab9"
      },
      "source": [
        "carga_fato = pd.merge(Carga_At, df_CargaC_group, how=\"left\", on=\"IDCarga\")\n",
        "carga_fato = carga_fato.sort_values(by=['IDCarga'], ignore_index=True)\n",
        "carga_fato"
      ],
      "execution_count": 49,
      "outputs": [
        {
          "output_type": "execute_result",
          "data": {
            "text/html": [
              "<div>\n",
              "<style scoped>\n",
              "    .dataframe tbody tr th:only-of-type {\n",
              "        vertical-align: middle;\n",
              "    }\n",
              "\n",
              "    .dataframe tbody tr th {\n",
              "        vertical-align: top;\n",
              "    }\n",
              "\n",
              "    .dataframe thead th {\n",
              "        text-align: right;\n",
              "    }\n",
              "</style>\n",
              "<table border=\"1\" class=\"dataframe\">\n",
              "  <thead>\n",
              "    <tr style=\"text-align: right;\">\n",
              "      <th></th>\n",
              "      <th>IDCarga</th>\n",
              "      <th>IDAtracacao</th>\n",
              "      <th>Origem</th>\n",
              "      <th>Destino</th>\n",
              "      <th>CDMercadoria</th>\n",
              "      <th>Tipo Operação da Carga</th>\n",
              "      <th>Carga Geral Acondicionamento</th>\n",
              "      <th>ConteinerEstado</th>\n",
              "      <th>Tipo Navegação</th>\n",
              "      <th>FlagAutorizacao</th>\n",
              "      <th>FlagCabotagem</th>\n",
              "      <th>FlagCabotagemMovimentacao</th>\n",
              "      <th>FlagConteinerTamanho</th>\n",
              "      <th>FlagLongoCurso</th>\n",
              "      <th>FlagMCOperacaoCarga</th>\n",
              "      <th>FlagOffshore</th>\n",
              "      <th>FlagTransporteViaInterioir</th>\n",
              "      <th>Percurso Transporte em vias Interiores</th>\n",
              "      <th>Percurso Transporte Interiores</th>\n",
              "      <th>STNaturezaCarga</th>\n",
              "      <th>STSH2</th>\n",
              "      <th>STSH4</th>\n",
              "      <th>Natureza da Carga</th>\n",
              "      <th>Sentido</th>\n",
              "      <th>TEU</th>\n",
              "      <th>QTCarga</th>\n",
              "      <th>VLPesoCargaBruta</th>\n",
              "      <th>Ano da data de início da operação da atracação</th>\n",
              "      <th>Mês da data de início da operação da atracação</th>\n",
              "      <th>Porto Atracação</th>\n",
              "      <th>SGUF</th>\n",
              "      <th>CDMercadoriaConteinerizada</th>\n",
              "      <th>sumVLPesoCargaConteinerizada</th>\n",
              "    </tr>\n",
              "  </thead>\n",
              "  <tbody>\n",
              "    <tr>\n",
              "      <th>0</th>\n",
              "      <td>118</td>\n",
              "      <td>118</td>\n",
              "      <td>BRQGA</td>\n",
              "      <td>BRQGA</td>\n",
              "      <td>2505</td>\n",
              "      <td>NaN</td>\n",
              "      <td>NaN</td>\n",
              "      <td>NaN</td>\n",
              "      <td>Interior</td>\n",
              "      <td>N</td>\n",
              "      <td>NaN</td>\n",
              "      <td>NaN</td>\n",
              "      <td>NaN</td>\n",
              "      <td>NaN</td>\n",
              "      <td>1</td>\n",
              "      <td>NaN</td>\n",
              "      <td>1</td>\n",
              "      <td>Interior Estadual</td>\n",
              "      <td>Navegação Interior</td>\n",
              "      <td>Compartilhado</td>\n",
              "      <td>Compartilhado</td>\n",
              "      <td>Compartilhado</td>\n",
              "      <td>Granel Sólido</td>\n",
              "      <td>Desembarcados</td>\n",
              "      <td>0.0</td>\n",
              "      <td>0</td>\n",
              "      <td>66000.00</td>\n",
              "      <td>2017</td>\n",
              "      <td>jan</td>\n",
              "      <td>NaN</td>\n",
              "      <td>NaN</td>\n",
              "      <td>NaN</td>\n",
              "      <td>NaN</td>\n",
              "    </tr>\n",
              "    <tr>\n",
              "      <th>1</th>\n",
              "      <td>119</td>\n",
              "      <td>119</td>\n",
              "      <td>BRQGA</td>\n",
              "      <td>BR373</td>\n",
              "      <td>2505</td>\n",
              "      <td>NaN</td>\n",
              "      <td>NaN</td>\n",
              "      <td>NaN</td>\n",
              "      <td>Interior</td>\n",
              "      <td>N</td>\n",
              "      <td>NaN</td>\n",
              "      <td>NaN</td>\n",
              "      <td>NaN</td>\n",
              "      <td>NaN</td>\n",
              "      <td>1</td>\n",
              "      <td>NaN</td>\n",
              "      <td>1</td>\n",
              "      <td>Interior Interestadual</td>\n",
              "      <td>Navegação Interior</td>\n",
              "      <td>Compartilhado</td>\n",
              "      <td>Compartilhado</td>\n",
              "      <td>Compartilhado</td>\n",
              "      <td>Granel Sólido</td>\n",
              "      <td>Desembarcados</td>\n",
              "      <td>0.0</td>\n",
              "      <td>0</td>\n",
              "      <td>9900.00</td>\n",
              "      <td>2017</td>\n",
              "      <td>jan</td>\n",
              "      <td>NaN</td>\n",
              "      <td>NaN</td>\n",
              "      <td>NaN</td>\n",
              "      <td>NaN</td>\n",
              "    </tr>\n",
              "    <tr>\n",
              "      <th>2</th>\n",
              "      <td>120</td>\n",
              "      <td>120</td>\n",
              "      <td>BRQGA</td>\n",
              "      <td>BR375</td>\n",
              "      <td>2505</td>\n",
              "      <td>NaN</td>\n",
              "      <td>NaN</td>\n",
              "      <td>NaN</td>\n",
              "      <td>Interior</td>\n",
              "      <td>N</td>\n",
              "      <td>NaN</td>\n",
              "      <td>NaN</td>\n",
              "      <td>NaN</td>\n",
              "      <td>NaN</td>\n",
              "      <td>1</td>\n",
              "      <td>NaN</td>\n",
              "      <td>1</td>\n",
              "      <td>Interior Estadual</td>\n",
              "      <td>Navegação Interior</td>\n",
              "      <td>Compartilhado</td>\n",
              "      <td>Compartilhado</td>\n",
              "      <td>Compartilhado</td>\n",
              "      <td>Granel Sólido</td>\n",
              "      <td>Desembarcados</td>\n",
              "      <td>0.0</td>\n",
              "      <td>0</td>\n",
              "      <td>26400.00</td>\n",
              "      <td>2017</td>\n",
              "      <td>jan</td>\n",
              "      <td>NaN</td>\n",
              "      <td>NaN</td>\n",
              "      <td>NaN</td>\n",
              "      <td>NaN</td>\n",
              "    </tr>\n",
              "    <tr>\n",
              "      <th>3</th>\n",
              "      <td>128</td>\n",
              "      <td>128</td>\n",
              "      <td>BRQGA</td>\n",
              "      <td>PYZ06</td>\n",
              "      <td>3102</td>\n",
              "      <td>NaN</td>\n",
              "      <td>NaN</td>\n",
              "      <td>NaN</td>\n",
              "      <td>Interior</td>\n",
              "      <td>N</td>\n",
              "      <td>NaN</td>\n",
              "      <td>NaN</td>\n",
              "      <td>NaN</td>\n",
              "      <td>NaN</td>\n",
              "      <td>1</td>\n",
              "      <td>NaN</td>\n",
              "      <td>1</td>\n",
              "      <td>Interior Internacional</td>\n",
              "      <td>Navegação Interior</td>\n",
              "      <td>Compartilhado</td>\n",
              "      <td>Compartilhado</td>\n",
              "      <td>Compartilhado</td>\n",
              "      <td>Granel Sólido</td>\n",
              "      <td>Desembarcados</td>\n",
              "      <td>0.0</td>\n",
              "      <td>0</td>\n",
              "      <td>1425.90</td>\n",
              "      <td>2017</td>\n",
              "      <td>jan</td>\n",
              "      <td>NaN</td>\n",
              "      <td>NaN</td>\n",
              "      <td>NaN</td>\n",
              "      <td>NaN</td>\n",
              "    </tr>\n",
              "    <tr>\n",
              "      <th>4</th>\n",
              "      <td>177</td>\n",
              "      <td>177</td>\n",
              "      <td>BRQGA</td>\n",
              "      <td>PYZ06</td>\n",
              "      <td>2521</td>\n",
              "      <td>NaN</td>\n",
              "      <td>NaN</td>\n",
              "      <td>NaN</td>\n",
              "      <td>Interior</td>\n",
              "      <td>N</td>\n",
              "      <td>NaN</td>\n",
              "      <td>NaN</td>\n",
              "      <td>NaN</td>\n",
              "      <td>NaN</td>\n",
              "      <td>1</td>\n",
              "      <td>NaN</td>\n",
              "      <td>1</td>\n",
              "      <td>Interior Internacional</td>\n",
              "      <td>Navegação Interior</td>\n",
              "      <td>Compartilhado</td>\n",
              "      <td>Compartilhado</td>\n",
              "      <td>Compartilhado</td>\n",
              "      <td>Granel Sólido</td>\n",
              "      <td>Desembarcados</td>\n",
              "      <td>0.0</td>\n",
              "      <td>0</td>\n",
              "      <td>688.01</td>\n",
              "      <td>2017</td>\n",
              "      <td>jan</td>\n",
              "      <td>NaN</td>\n",
              "      <td>NaN</td>\n",
              "      <td>NaN</td>\n",
              "      <td>NaN</td>\n",
              "    </tr>\n",
              "    <tr>\n",
              "      <th>...</th>\n",
              "      <td>...</td>\n",
              "      <td>...</td>\n",
              "      <td>...</td>\n",
              "      <td>...</td>\n",
              "      <td>...</td>\n",
              "      <td>...</td>\n",
              "      <td>...</td>\n",
              "      <td>...</td>\n",
              "      <td>...</td>\n",
              "      <td>...</td>\n",
              "      <td>...</td>\n",
              "      <td>...</td>\n",
              "      <td>...</td>\n",
              "      <td>...</td>\n",
              "      <td>...</td>\n",
              "      <td>...</td>\n",
              "      <td>...</td>\n",
              "      <td>...</td>\n",
              "      <td>...</td>\n",
              "      <td>...</td>\n",
              "      <td>...</td>\n",
              "      <td>...</td>\n",
              "      <td>...</td>\n",
              "      <td>...</td>\n",
              "      <td>...</td>\n",
              "      <td>...</td>\n",
              "      <td>...</td>\n",
              "      <td>...</td>\n",
              "      <td>...</td>\n",
              "      <td>...</td>\n",
              "      <td>...</td>\n",
              "      <td>...</td>\n",
              "      <td>...</td>\n",
              "    </tr>\n",
              "    <tr>\n",
              "      <th>4093046</th>\n",
              "      <td>27705307</td>\n",
              "      <td>1133637</td>\n",
              "      <td>BRVDC</td>\n",
              "      <td>VNSGN</td>\n",
              "      <td>45G0</td>\n",
              "      <td>Longo Curso Exportação</td>\n",
              "      <td>Conteinerizada</td>\n",
              "      <td>Cheio</td>\n",
              "      <td>Longo Curso</td>\n",
              "      <td>S</td>\n",
              "      <td>0.0</td>\n",
              "      <td>0.0</td>\n",
              "      <td>40</td>\n",
              "      <td>1.0</td>\n",
              "      <td>1</td>\n",
              "      <td>0.0</td>\n",
              "      <td>1</td>\n",
              "      <td>NaN</td>\n",
              "      <td>Longo Curso em vias interiores</td>\n",
              "      <td>Exclusivo</td>\n",
              "      <td>Exclusivo</td>\n",
              "      <td>Exclusivo</td>\n",
              "      <td>Carga Conteinerizada</td>\n",
              "      <td>Embarcados</td>\n",
              "      <td>2.0</td>\n",
              "      <td>1</td>\n",
              "      <td>28.73</td>\n",
              "      <td>2018</td>\n",
              "      <td>dez</td>\n",
              "      <td>Vila do Conde</td>\n",
              "      <td>PA</td>\n",
              "      <td>[0904]</td>\n",
              "      <td>24.93</td>\n",
              "    </tr>\n",
              "    <tr>\n",
              "      <th>4093047</th>\n",
              "      <td>27705308</td>\n",
              "      <td>1133637</td>\n",
              "      <td>BRVDC</td>\n",
              "      <td>VNSGN</td>\n",
              "      <td>45G0</td>\n",
              "      <td>Longo Curso Exportação</td>\n",
              "      <td>Conteinerizada</td>\n",
              "      <td>Cheio</td>\n",
              "      <td>Longo Curso</td>\n",
              "      <td>S</td>\n",
              "      <td>0.0</td>\n",
              "      <td>0.0</td>\n",
              "      <td>40</td>\n",
              "      <td>1.0</td>\n",
              "      <td>1</td>\n",
              "      <td>0.0</td>\n",
              "      <td>1</td>\n",
              "      <td>NaN</td>\n",
              "      <td>Longo Curso em vias interiores</td>\n",
              "      <td>Exclusivo</td>\n",
              "      <td>Exclusivo</td>\n",
              "      <td>Exclusivo</td>\n",
              "      <td>Carga Conteinerizada</td>\n",
              "      <td>Embarcados</td>\n",
              "      <td>2.0</td>\n",
              "      <td>1</td>\n",
              "      <td>28.69</td>\n",
              "      <td>2018</td>\n",
              "      <td>dez</td>\n",
              "      <td>Vila do Conde</td>\n",
              "      <td>PA</td>\n",
              "      <td>[0904]</td>\n",
              "      <td>24.89</td>\n",
              "    </tr>\n",
              "    <tr>\n",
              "      <th>4093048</th>\n",
              "      <td>27705309</td>\n",
              "      <td>1133637</td>\n",
              "      <td>BRVDC</td>\n",
              "      <td>VNSGN</td>\n",
              "      <td>45G0</td>\n",
              "      <td>Longo Curso Exportação</td>\n",
              "      <td>Conteinerizada</td>\n",
              "      <td>Cheio</td>\n",
              "      <td>Longo Curso</td>\n",
              "      <td>S</td>\n",
              "      <td>0.0</td>\n",
              "      <td>0.0</td>\n",
              "      <td>40</td>\n",
              "      <td>1.0</td>\n",
              "      <td>1</td>\n",
              "      <td>0.0</td>\n",
              "      <td>1</td>\n",
              "      <td>NaN</td>\n",
              "      <td>Longo Curso em vias interiores</td>\n",
              "      <td>Exclusivo</td>\n",
              "      <td>Exclusivo</td>\n",
              "      <td>Exclusivo</td>\n",
              "      <td>Carga Conteinerizada</td>\n",
              "      <td>Embarcados</td>\n",
              "      <td>2.0</td>\n",
              "      <td>1</td>\n",
              "      <td>28.95</td>\n",
              "      <td>2018</td>\n",
              "      <td>dez</td>\n",
              "      <td>Vila do Conde</td>\n",
              "      <td>PA</td>\n",
              "      <td>[0904]</td>\n",
              "      <td>25.15</td>\n",
              "    </tr>\n",
              "    <tr>\n",
              "      <th>4093049</th>\n",
              "      <td>27705310</td>\n",
              "      <td>1133637</td>\n",
              "      <td>BRVDC</td>\n",
              "      <td>VNSGN</td>\n",
              "      <td>45G0</td>\n",
              "      <td>Longo Curso Exportação</td>\n",
              "      <td>Conteinerizada</td>\n",
              "      <td>Cheio</td>\n",
              "      <td>Longo Curso</td>\n",
              "      <td>S</td>\n",
              "      <td>0.0</td>\n",
              "      <td>0.0</td>\n",
              "      <td>40</td>\n",
              "      <td>1.0</td>\n",
              "      <td>1</td>\n",
              "      <td>0.0</td>\n",
              "      <td>1</td>\n",
              "      <td>NaN</td>\n",
              "      <td>Longo Curso em vias interiores</td>\n",
              "      <td>Exclusivo</td>\n",
              "      <td>Exclusivo</td>\n",
              "      <td>Exclusivo</td>\n",
              "      <td>Carga Conteinerizada</td>\n",
              "      <td>Embarcados</td>\n",
              "      <td>2.0</td>\n",
              "      <td>1</td>\n",
              "      <td>28.95</td>\n",
              "      <td>2018</td>\n",
              "      <td>dez</td>\n",
              "      <td>Vila do Conde</td>\n",
              "      <td>PA</td>\n",
              "      <td>[0904]</td>\n",
              "      <td>25.15</td>\n",
              "    </tr>\n",
              "    <tr>\n",
              "      <th>4093050</th>\n",
              "      <td>27705311</td>\n",
              "      <td>1133637</td>\n",
              "      <td>BRVDC</td>\n",
              "      <td>VNSGN</td>\n",
              "      <td>45G0</td>\n",
              "      <td>Longo Curso Exportação</td>\n",
              "      <td>Conteinerizada</td>\n",
              "      <td>Cheio</td>\n",
              "      <td>Longo Curso</td>\n",
              "      <td>S</td>\n",
              "      <td>0.0</td>\n",
              "      <td>0.0</td>\n",
              "      <td>40</td>\n",
              "      <td>1.0</td>\n",
              "      <td>1</td>\n",
              "      <td>0.0</td>\n",
              "      <td>1</td>\n",
              "      <td>NaN</td>\n",
              "      <td>Longo Curso em vias interiores</td>\n",
              "      <td>Exclusivo</td>\n",
              "      <td>Exclusivo</td>\n",
              "      <td>Exclusivo</td>\n",
              "      <td>Carga Conteinerizada</td>\n",
              "      <td>Embarcados</td>\n",
              "      <td>2.0</td>\n",
              "      <td>1</td>\n",
              "      <td>28.77</td>\n",
              "      <td>2018</td>\n",
              "      <td>dez</td>\n",
              "      <td>Vila do Conde</td>\n",
              "      <td>PA</td>\n",
              "      <td>[0904]</td>\n",
              "      <td>24.97</td>\n",
              "    </tr>\n",
              "  </tbody>\n",
              "</table>\n",
              "<p>4093051 rows × 33 columns</p>\n",
              "</div>"
            ],
            "text/plain": [
              "          IDCarga  ...  sumVLPesoCargaConteinerizada\n",
              "0             118  ...                           NaN\n",
              "1             119  ...                           NaN\n",
              "2             120  ...                           NaN\n",
              "3             128  ...                           NaN\n",
              "4             177  ...                           NaN\n",
              "...           ...  ...                           ...\n",
              "4093046  27705307  ...                         24.93\n",
              "4093047  27705308  ...                         24.89\n",
              "4093048  27705309  ...                         25.15\n",
              "4093049  27705310  ...                         25.15\n",
              "4093050  27705311  ...                         24.97\n",
              "\n",
              "[4093051 rows x 33 columns]"
            ]
          },
          "metadata": {
            "tags": []
          },
          "execution_count": 49
        }
      ]
    },
    {
      "cell_type": "markdown",
      "metadata": {
        "id": "2S2pvbGOpgr_"
      },
      "source": [
        "#### Coluna 'CDMercadoria'"
      ]
    },
    {
      "cell_type": "markdown",
      "metadata": {
        "id": "kwCHlIeEm26w"
      },
      "source": [
        "```\n",
        "CDMercadoria = {CDMercadoria:[Lista de código das mercadorias dentro do contêiner]} if carga conteinerizada\n",
        "             = CDMercadoria                                                         if carga não conteinerizada\n",
        "```"
      ]
    },
    {
      "cell_type": "code",
      "metadata": {
        "colab": {
          "base_uri": "https://localhost:8080/"
        },
        "id": "VKocNCn3Es_a",
        "outputId": "3148dad6-51e2-434b-dd2e-739a1c0ad7d1"
      },
      "source": [
        "#Há elementos nulos?\n",
        "carga_fato['CDMercadoria'].isnull().any()"
      ],
      "execution_count": 50,
      "outputs": [
        {
          "output_type": "execute_result",
          "data": {
            "text/plain": [
              "False"
            ]
          },
          "metadata": {
            "tags": []
          },
          "execution_count": 50
        }
      ]
    },
    {
      "cell_type": "markdown",
      "metadata": {
        "id": "yQK7_MxjJpr4"
      },
      "source": [
        "No arquivo '{ano}carga.txt' de algum {ano} específico está presente a coluna 'CDMercadoria' que não possui nenhum valor ausente.\n",
        "\n",
        "Pede-se que seja criada a tabela 'carga_fato' com a coluna 'CDMercadoria' onde se lê a seguinte observação: (Para carga conteinerizada informar código das mercadorias dentro do contêiner.).\n",
        "\n",
        "Considerando que a tabela 'carga_fato' deve conter APENAS as colunas apresentadas na questão e nenhuma outra, uma possível solução para isso, é criar um dicionário ({key:value}) com o valor 'CDMercadoria' como chave e uma lista contendo os códigos 'CDMercadoriaConteinerizada' correspondentes como valor.\n",
        "\n",
        "Destaco aqui que algumas cargas conteinerizadas não possuem os códigos das mercadorias."
      ]
    },
    {
      "cell_type": "code",
      "metadata": {
        "colab": {
          "base_uri": "https://localhost:8080/",
          "height": 419
        },
        "id": "x-03pLdxH2z8",
        "outputId": "163d0964-73a9-4add-8146-73f48edbf634"
      },
      "source": [
        "filtro=(carga_fato['CDMercadoriaConteinerizada'].isnull()) & (carga_fato['Carga Geral Acondicionamento'].notnull()) #254819 rows\n",
        "carga_fato.loc[filtro,['IDCarga','CDMercadoria','CDMercadoriaConteinerizada','Carga Geral Acondicionamento','ConteinerEstado']]"
      ],
      "execution_count": 54,
      "outputs": [
        {
          "output_type": "execute_result",
          "data": {
            "text/html": [
              "<div>\n",
              "<style scoped>\n",
              "    .dataframe tbody tr th:only-of-type {\n",
              "        vertical-align: middle;\n",
              "    }\n",
              "\n",
              "    .dataframe tbody tr th {\n",
              "        vertical-align: top;\n",
              "    }\n",
              "\n",
              "    .dataframe thead th {\n",
              "        text-align: right;\n",
              "    }\n",
              "</style>\n",
              "<table border=\"1\" class=\"dataframe\">\n",
              "  <thead>\n",
              "    <tr style=\"text-align: right;\">\n",
              "      <th></th>\n",
              "      <th>IDCarga</th>\n",
              "      <th>CDMercadoria</th>\n",
              "      <th>CDMercadoriaConteinerizada</th>\n",
              "      <th>Carga Geral Acondicionamento</th>\n",
              "      <th>ConteinerEstado</th>\n",
              "    </tr>\n",
              "  </thead>\n",
              "  <tbody>\n",
              "    <tr>\n",
              "      <th>759</th>\n",
              "      <td>17713375</td>\n",
              "      <td>CA01</td>\n",
              "      <td>NaN</td>\n",
              "      <td>Solta</td>\n",
              "      <td>NaN</td>\n",
              "    </tr>\n",
              "    <tr>\n",
              "      <th>775</th>\n",
              "      <td>17717423</td>\n",
              "      <td>7208</td>\n",
              "      <td>NaN</td>\n",
              "      <td>Solta</td>\n",
              "      <td>NaN</td>\n",
              "    </tr>\n",
              "    <tr>\n",
              "      <th>776</th>\n",
              "      <td>17717430</td>\n",
              "      <td>7208</td>\n",
              "      <td>NaN</td>\n",
              "      <td>Solta</td>\n",
              "      <td>NaN</td>\n",
              "    </tr>\n",
              "    <tr>\n",
              "      <th>938</th>\n",
              "      <td>17766920</td>\n",
              "      <td>7208</td>\n",
              "      <td>NaN</td>\n",
              "      <td>Solta</td>\n",
              "      <td>NaN</td>\n",
              "    </tr>\n",
              "    <tr>\n",
              "      <th>962</th>\n",
              "      <td>17774302</td>\n",
              "      <td>7210</td>\n",
              "      <td>NaN</td>\n",
              "      <td>Solta</td>\n",
              "      <td>NaN</td>\n",
              "    </tr>\n",
              "    <tr>\n",
              "      <th>...</th>\n",
              "      <td>...</td>\n",
              "      <td>...</td>\n",
              "      <td>...</td>\n",
              "      <td>...</td>\n",
              "      <td>...</td>\n",
              "    </tr>\n",
              "    <tr>\n",
              "      <th>4090646</th>\n",
              "      <td>24054964</td>\n",
              "      <td>45R0</td>\n",
              "      <td>NaN</td>\n",
              "      <td>Conteinerizada</td>\n",
              "      <td>NaN</td>\n",
              "    </tr>\n",
              "    <tr>\n",
              "      <th>4091031</th>\n",
              "      <td>24055349</td>\n",
              "      <td>49G9</td>\n",
              "      <td>NaN</td>\n",
              "      <td>Conteinerizada</td>\n",
              "      <td>NaN</td>\n",
              "    </tr>\n",
              "    <tr>\n",
              "      <th>4091032</th>\n",
              "      <td>24055350</td>\n",
              "      <td>49G9</td>\n",
              "      <td>NaN</td>\n",
              "      <td>Conteinerizada</td>\n",
              "      <td>NaN</td>\n",
              "    </tr>\n",
              "    <tr>\n",
              "      <th>4091033</th>\n",
              "      <td>24055351</td>\n",
              "      <td>49G9</td>\n",
              "      <td>NaN</td>\n",
              "      <td>Conteinerizada</td>\n",
              "      <td>NaN</td>\n",
              "    </tr>\n",
              "    <tr>\n",
              "      <th>4091034</th>\n",
              "      <td>24055352</td>\n",
              "      <td>49G9</td>\n",
              "      <td>NaN</td>\n",
              "      <td>Conteinerizada</td>\n",
              "      <td>NaN</td>\n",
              "    </tr>\n",
              "  </tbody>\n",
              "</table>\n",
              "<p>455511 rows × 5 columns</p>\n",
              "</div>"
            ],
            "text/plain": [
              "          IDCarga CDMercadoria  ... Carga Geral Acondicionamento ConteinerEstado\n",
              "759      17713375         CA01  ...                        Solta             NaN\n",
              "775      17717423         7208  ...                        Solta             NaN\n",
              "776      17717430         7208  ...                        Solta             NaN\n",
              "938      17766920         7208  ...                        Solta             NaN\n",
              "962      17774302         7210  ...                        Solta             NaN\n",
              "...           ...          ...  ...                          ...             ...\n",
              "4090646  24054964         45R0  ...               Conteinerizada             NaN\n",
              "4091031  24055349         49G9  ...               Conteinerizada             NaN\n",
              "4091032  24055350         49G9  ...               Conteinerizada             NaN\n",
              "4091033  24055351         49G9  ...               Conteinerizada             NaN\n",
              "4091034  24055352         49G9  ...               Conteinerizada             NaN\n",
              "\n",
              "[455511 rows x 5 columns]"
            ]
          },
          "metadata": {
            "tags": []
          },
          "execution_count": 54
        }
      ]
    },
    {
      "cell_type": "code",
      "metadata": {
        "colab": {
          "base_uri": "https://localhost:8080/"
        },
        "id": "TbF9mzGRYQsp",
        "outputId": "48356183-fc90-4cd0-c623-f4151981f053"
      },
      "source": [
        "%%time\n",
        "Lista=[]\n",
        "for idx in carga_fato.index:\n",
        "  aux=carga_fato.loc[idx,'CDMercadoriaConteinerizada']\n",
        "  if str(aux)=='nan': aux=''\n",
        "  Lista.append( {carga_fato.loc[idx,'CDMercadoria']:aux} )"
      ],
      "execution_count": 55,
      "outputs": [
        {
          "output_type": "stream",
          "text": [
            "CPU times: user 3min 57s, sys: 2.56 s, total: 4min\n",
            "Wall time: 4min\n"
          ],
          "name": "stdout"
        }
      ]
    },
    {
      "cell_type": "code",
      "metadata": {
        "id": "EtUHtJ_vrFuk"
      },
      "source": [
        "carga_fato.insert(4, 'CDMercadoria2', pd.Series(Lista))\n",
        "\n",
        "carga_fato=carga_fato.drop(columns=['CDMercadoria', 'CDMercadoriaConteinerizada'])\n",
        "\n",
        "carga_fato.rename(columns={'CDMercadoria2':'CDMercadoria'},inplace=True)"
      ],
      "execution_count": 57,
      "outputs": []
    },
    {
      "cell_type": "code",
      "metadata": {
        "colab": {
          "base_uri": "https://localhost:8080/",
          "height": 417
        },
        "id": "7XGHgLhyg0nr",
        "outputId": "7230d1e8-4e3e-497a-ee9f-b8e90d048539"
      },
      "source": [
        "carga_fato.sample(3)"
      ],
      "execution_count": 59,
      "outputs": [
        {
          "output_type": "execute_result",
          "data": {
            "text/html": [
              "<div>\n",
              "<style scoped>\n",
              "    .dataframe tbody tr th:only-of-type {\n",
              "        vertical-align: middle;\n",
              "    }\n",
              "\n",
              "    .dataframe tbody tr th {\n",
              "        vertical-align: top;\n",
              "    }\n",
              "\n",
              "    .dataframe thead th {\n",
              "        text-align: right;\n",
              "    }\n",
              "</style>\n",
              "<table border=\"1\" class=\"dataframe\">\n",
              "  <thead>\n",
              "    <tr style=\"text-align: right;\">\n",
              "      <th></th>\n",
              "      <th>IDCarga</th>\n",
              "      <th>IDAtracacao</th>\n",
              "      <th>Origem</th>\n",
              "      <th>Destino</th>\n",
              "      <th>CDMercadoria</th>\n",
              "      <th>Tipo Operação da Carga</th>\n",
              "      <th>Carga Geral Acondicionamento</th>\n",
              "      <th>ConteinerEstado</th>\n",
              "      <th>Tipo Navegação</th>\n",
              "      <th>FlagAutorizacao</th>\n",
              "      <th>FlagCabotagem</th>\n",
              "      <th>FlagCabotagemMovimentacao</th>\n",
              "      <th>FlagConteinerTamanho</th>\n",
              "      <th>FlagLongoCurso</th>\n",
              "      <th>FlagMCOperacaoCarga</th>\n",
              "      <th>FlagOffshore</th>\n",
              "      <th>FlagTransporteViaInterioir</th>\n",
              "      <th>Percurso Transporte em vias Interiores</th>\n",
              "      <th>Percurso Transporte Interiores</th>\n",
              "      <th>STNaturezaCarga</th>\n",
              "      <th>STSH2</th>\n",
              "      <th>STSH4</th>\n",
              "      <th>Natureza da Carga</th>\n",
              "      <th>Sentido</th>\n",
              "      <th>TEU</th>\n",
              "      <th>QTCarga</th>\n",
              "      <th>VLPesoCargaBruta</th>\n",
              "      <th>Ano da data de início da operação da atracação</th>\n",
              "      <th>Mês da data de início da operação da atracação</th>\n",
              "      <th>Porto Atracação</th>\n",
              "      <th>SGUF</th>\n",
              "      <th>sumVLPesoCargaConteinerizada</th>\n",
              "    </tr>\n",
              "  </thead>\n",
              "  <tbody>\n",
              "    <tr>\n",
              "      <th>1127591</th>\n",
              "      <td>20113918</td>\n",
              "      <td>869831</td>\n",
              "      <td>BRITJ</td>\n",
              "      <td>BRCE001</td>\n",
              "      <td>{'45G0': ['4804']}</td>\n",
              "      <td>Movimentação de Carga</td>\n",
              "      <td>Conteinerizada</td>\n",
              "      <td>Cheio</td>\n",
              "      <td>Cabotagem</td>\n",
              "      <td>S</td>\n",
              "      <td>1.0</td>\n",
              "      <td>1.0</td>\n",
              "      <td>40</td>\n",
              "      <td>0.0</td>\n",
              "      <td>1</td>\n",
              "      <td>0.0</td>\n",
              "      <td>0</td>\n",
              "      <td>NaN</td>\n",
              "      <td>NaN</td>\n",
              "      <td>Exclusivo</td>\n",
              "      <td>Exclusivo</td>\n",
              "      <td>Exclusivo</td>\n",
              "      <td>Carga Conteinerizada</td>\n",
              "      <td>Desembarcados</td>\n",
              "      <td>2.0</td>\n",
              "      <td>1</td>\n",
              "      <td>30.008</td>\n",
              "      <td>2017</td>\n",
              "      <td>ago</td>\n",
              "      <td>Terminal Portuário do Pecém</td>\n",
              "      <td>CE</td>\n",
              "      <td>25.99</td>\n",
              "    </tr>\n",
              "    <tr>\n",
              "      <th>4006737</th>\n",
              "      <td>23449090</td>\n",
              "      <td>971382</td>\n",
              "      <td>BRSC008</td>\n",
              "      <td>ESBCN</td>\n",
              "      <td>{'42G0': ['4407']}</td>\n",
              "      <td>Longo Curso Exportação</td>\n",
              "      <td>Conteinerizada</td>\n",
              "      <td>Cheio</td>\n",
              "      <td>Longo Curso</td>\n",
              "      <td>S</td>\n",
              "      <td>0.0</td>\n",
              "      <td>0.0</td>\n",
              "      <td>40</td>\n",
              "      <td>1.0</td>\n",
              "      <td>1</td>\n",
              "      <td>0.0</td>\n",
              "      <td>0</td>\n",
              "      <td>NaN</td>\n",
              "      <td>NaN</td>\n",
              "      <td>Exclusivo</td>\n",
              "      <td>Exclusivo</td>\n",
              "      <td>Exclusivo</td>\n",
              "      <td>Carga Conteinerizada</td>\n",
              "      <td>Embarcados</td>\n",
              "      <td>2.0</td>\n",
              "      <td>1</td>\n",
              "      <td>28.940</td>\n",
              "      <td>2018</td>\n",
              "      <td>dez</td>\n",
              "      <td>Portonave - Terminais Portuários de Navegantes</td>\n",
              "      <td>SC</td>\n",
              "      <td>25.00</td>\n",
              "    </tr>\n",
              "    <tr>\n",
              "      <th>1826684</th>\n",
              "      <td>21090926</td>\n",
              "      <td>905143</td>\n",
              "      <td>BRSSZ</td>\n",
              "      <td>BRSUA</td>\n",
              "      <td>{'45G0': [7306]}</td>\n",
              "      <td>Longo Curso Importação com Baldeação de Carga ...</td>\n",
              "      <td>Conteinerizada</td>\n",
              "      <td>Cheio</td>\n",
              "      <td>Cabotagem</td>\n",
              "      <td>S</td>\n",
              "      <td>0.0</td>\n",
              "      <td>1.0</td>\n",
              "      <td>40</td>\n",
              "      <td>0.0</td>\n",
              "      <td>1</td>\n",
              "      <td>0.0</td>\n",
              "      <td>0</td>\n",
              "      <td>NaN</td>\n",
              "      <td>NaN</td>\n",
              "      <td>Exclusivo</td>\n",
              "      <td>Exclusivo</td>\n",
              "      <td>Exclusivo</td>\n",
              "      <td>Carga Conteinerizada</td>\n",
              "      <td>Embarcados</td>\n",
              "      <td>2.0</td>\n",
              "      <td>1</td>\n",
              "      <td>23.760</td>\n",
              "      <td>2018</td>\n",
              "      <td>fev</td>\n",
              "      <td>Santos</td>\n",
              "      <td>SP</td>\n",
              "      <td>19.93</td>\n",
              "    </tr>\n",
              "  </tbody>\n",
              "</table>\n",
              "</div>"
            ],
            "text/plain": [
              "          IDCarga  IDAtracacao  ... SGUF sumVLPesoCargaConteinerizada\n",
              "1127591  20113918       869831  ...   CE                        25.99\n",
              "4006737  23449090       971382  ...   SC                        25.00\n",
              "1826684  21090926       905143  ...   SP                        19.93\n",
              "\n",
              "[3 rows x 32 columns]"
            ]
          },
          "metadata": {
            "tags": []
          },
          "execution_count": 59
        }
      ]
    },
    {
      "cell_type": "markdown",
      "metadata": {
        "id": "_Xg0OASxpYu1"
      },
      "source": [
        "#### Coluna 'Peso líquido da carga'"
      ]
    },
    {
      "cell_type": "markdown",
      "metadata": {
        "id": "pYKPfEQ2kYpT"
      },
      "source": [
        "```\n",
        "Peso líquido da carga = 'Peso bruto'         if Carga não conteinerizada \n",
        "                      = 'Peso sem contêiner' if Carga conteinerizada\n",
        "\n",
        "'Peso líquido da carga' = 'VLPesoCargaBruta'               if 'Carga Geral Acondicionamento' == 'Solta'\n",
        "                        = [Sum]'VLPesoCargaConteinerizada' if 'Carga Geral Acondicionamento' == 'Conteinerizada'\n",
        "                        = 'VLPesoCargaBruta'               if 'Carga Geral Acondicionamento' ==  NaN\n",
        "```"
      ]
    },
    {
      "cell_type": "code",
      "metadata": {
        "colab": {
          "base_uri": "https://localhost:8080/"
        },
        "id": "SZxDez8hpGjL",
        "outputId": "45eb8ea2-c4b3-4782-fbae-015fa0bb6172"
      },
      "source": [
        "#Há algum valor nulo?\n",
        "carga_fato['VLPesoCargaBruta'].isnull().any()"
      ],
      "execution_count": 62,
      "outputs": [
        {
          "output_type": "execute_result",
          "data": {
            "text/plain": [
              "False"
            ]
          },
          "metadata": {
            "tags": []
          },
          "execution_count": 62
        }
      ]
    },
    {
      "cell_type": "code",
      "metadata": {
        "colab": {
          "base_uri": "https://localhost:8080/"
        },
        "id": "HsVnOplspGmj",
        "outputId": "bad4c2be-e1aa-4487-c632-4fa3931af2c9"
      },
      "source": [
        "%%time\n",
        "List=[]\n",
        "for idx in carga_fato.index:\n",
        "  if carga_fato.loc[idx,'Carga Geral Acondicionamento'] == 'Conteinerizada':\n",
        "    value=carga_fato.loc[idx,'sumVLPesoCargaConteinerizada']\n",
        "  else:\n",
        "    value=carga_fato.loc[idx,'VLPesoCargaBruta']\n",
        "  List.append( value )"
      ],
      "execution_count": 64,
      "outputs": [
        {
          "output_type": "stream",
          "text": [
            "CPU times: user 2min 47s, sys: 678 ms, total: 2min 47s\n",
            "Wall time: 2min 47s\n"
          ],
          "name": "stdout"
        }
      ]
    },
    {
      "cell_type": "code",
      "metadata": {
        "id": "GFSfZjiqwHmK"
      },
      "source": [
        "carga_fato['Peso líquido da carga']=pd.Series(List)\n",
        "\n",
        "carga_fato.drop(columns=['sumVLPesoCargaConteinerizada'],inplace=True)"
      ],
      "execution_count": 66,
      "outputs": []
    },
    {
      "cell_type": "code",
      "metadata": {
        "colab": {
          "base_uri": "https://localhost:8080/",
          "height": 267
        },
        "id": "zt3TNtKOyxz6",
        "outputId": "2ef7a53b-3742-49a6-9b69-70dd936bf3a8"
      },
      "source": [
        "carga_fato.sample(2)"
      ],
      "execution_count": 67,
      "outputs": [
        {
          "output_type": "execute_result",
          "data": {
            "text/html": [
              "<div>\n",
              "<style scoped>\n",
              "    .dataframe tbody tr th:only-of-type {\n",
              "        vertical-align: middle;\n",
              "    }\n",
              "\n",
              "    .dataframe tbody tr th {\n",
              "        vertical-align: top;\n",
              "    }\n",
              "\n",
              "    .dataframe thead th {\n",
              "        text-align: right;\n",
              "    }\n",
              "</style>\n",
              "<table border=\"1\" class=\"dataframe\">\n",
              "  <thead>\n",
              "    <tr style=\"text-align: right;\">\n",
              "      <th></th>\n",
              "      <th>IDCarga</th>\n",
              "      <th>IDAtracacao</th>\n",
              "      <th>Origem</th>\n",
              "      <th>Destino</th>\n",
              "      <th>CDMercadoria</th>\n",
              "      <th>Tipo Operação da Carga</th>\n",
              "      <th>Carga Geral Acondicionamento</th>\n",
              "      <th>ConteinerEstado</th>\n",
              "      <th>Tipo Navegação</th>\n",
              "      <th>FlagAutorizacao</th>\n",
              "      <th>FlagCabotagem</th>\n",
              "      <th>FlagCabotagemMovimentacao</th>\n",
              "      <th>FlagConteinerTamanho</th>\n",
              "      <th>FlagLongoCurso</th>\n",
              "      <th>FlagMCOperacaoCarga</th>\n",
              "      <th>FlagOffshore</th>\n",
              "      <th>FlagTransporteViaInterioir</th>\n",
              "      <th>Percurso Transporte em vias Interiores</th>\n",
              "      <th>Percurso Transporte Interiores</th>\n",
              "      <th>STNaturezaCarga</th>\n",
              "      <th>STSH2</th>\n",
              "      <th>STSH4</th>\n",
              "      <th>Natureza da Carga</th>\n",
              "      <th>Sentido</th>\n",
              "      <th>TEU</th>\n",
              "      <th>QTCarga</th>\n",
              "      <th>VLPesoCargaBruta</th>\n",
              "      <th>Ano da data de início da operação da atracação</th>\n",
              "      <th>Mês da data de início da operação da atracação</th>\n",
              "      <th>Porto Atracação</th>\n",
              "      <th>SGUF</th>\n",
              "      <th>Peso líquido da carga</th>\n",
              "    </tr>\n",
              "  </thead>\n",
              "  <tbody>\n",
              "    <tr>\n",
              "      <th>2864689</th>\n",
              "      <td>22226051</td>\n",
              "      <td>930997</td>\n",
              "      <td>ZADUR</td>\n",
              "      <td>BRITJ</td>\n",
              "      <td>{'45R0': ['45R0']}</td>\n",
              "      <td>Longo Curso Importação</td>\n",
              "      <td>Conteinerizada</td>\n",
              "      <td>Vazio</td>\n",
              "      <td>Longo Curso</td>\n",
              "      <td>S</td>\n",
              "      <td>0.0</td>\n",
              "      <td>0.0</td>\n",
              "      <td>40</td>\n",
              "      <td>1.0</td>\n",
              "      <td>1</td>\n",
              "      <td>0.0</td>\n",
              "      <td>0</td>\n",
              "      <td>NaN</td>\n",
              "      <td>NaN</td>\n",
              "      <td>Exclusivo</td>\n",
              "      <td>Exclusivo</td>\n",
              "      <td>Exclusivo</td>\n",
              "      <td>Carga Conteinerizada</td>\n",
              "      <td>Desembarcados</td>\n",
              "      <td>2.0</td>\n",
              "      <td>1</td>\n",
              "      <td>4.00</td>\n",
              "      <td>2018</td>\n",
              "      <td>jun</td>\n",
              "      <td>Itajaí</td>\n",
              "      <td>SC</td>\n",
              "      <td>0.00</td>\n",
              "    </tr>\n",
              "    <tr>\n",
              "      <th>911119</th>\n",
              "      <td>19802333</td>\n",
              "      <td>859282</td>\n",
              "      <td>NaN</td>\n",
              "      <td>NaN</td>\n",
              "      <td>{'22G1': ['1005']}</td>\n",
              "      <td>Safamento</td>\n",
              "      <td>Conteinerizada</td>\n",
              "      <td>Cheio</td>\n",
              "      <td>Não Indentificado</td>\n",
              "      <td>S</td>\n",
              "      <td>0.0</td>\n",
              "      <td>0.0</td>\n",
              "      <td>20</td>\n",
              "      <td>0.0</td>\n",
              "      <td>0</td>\n",
              "      <td>0.0</td>\n",
              "      <td>0</td>\n",
              "      <td>NaN</td>\n",
              "      <td>NaN</td>\n",
              "      <td>Exclusivo</td>\n",
              "      <td>Exclusivo</td>\n",
              "      <td>Exclusivo</td>\n",
              "      <td>Carga Conteinerizada</td>\n",
              "      <td>Não Informado</td>\n",
              "      <td>1.0</td>\n",
              "      <td>1</td>\n",
              "      <td>32.28</td>\n",
              "      <td>2017</td>\n",
              "      <td>jul</td>\n",
              "      <td>Salvador</td>\n",
              "      <td>BA</td>\n",
              "      <td>30.06</td>\n",
              "    </tr>\n",
              "  </tbody>\n",
              "</table>\n",
              "</div>"
            ],
            "text/plain": [
              "          IDCarga  IDAtracacao  ... SGUF Peso líquido da carga\n",
              "2864689  22226051       930997  ...   SC                  0.00\n",
              "911119   19802333       859282  ...   BA                 30.06\n",
              "\n",
              "[2 rows x 32 columns]"
            ]
          },
          "metadata": {
            "tags": []
          },
          "execution_count": 67
        }
      ]
    },
    {
      "cell_type": "markdown",
      "metadata": {
        "id": "F0erAcfMTcQF"
      },
      "source": [
        "________________________"
      ]
    },
    {
      "cell_type": "code",
      "metadata": {
        "id": "Ch7m6oD81EBZ"
      },
      "source": [
        "#Escrever tabela em arquivo CSV:\n",
        "carga_fato.to_csv('Tabela_carga_fato.csv', index=False)"
      ],
      "execution_count": 71,
      "outputs": []
    },
    {
      "cell_type": "markdown",
      "metadata": {
        "id": "VnbLlKGb1Bpr"
      },
      "source": [
        "# Armazenando tabelas em Banco de Dados\n",
        "________________________"
      ]
    },
    {
      "cell_type": "code",
      "metadata": {
        "id": "2U_cWSn84YmH"
      },
      "source": [
        "from sqlalchemy import create_engine"
      ],
      "execution_count": 91,
      "outputs": []
    },
    {
      "cell_type": "code",
      "metadata": {
        "id": "MJwgAEma4Yni"
      },
      "source": [
        "eng = create_engine('sqlite:///Banco_Dados.db')"
      ],
      "execution_count": 92,
      "outputs": []
    },
    {
      "cell_type": "code",
      "metadata": {
        "id": "x97Gz4Sa4YqI"
      },
      "source": [
        "atracacao_fato.to_sql('atracacao_fato', con=eng, index=False)\n",
        "#carga_fato.to_sql('carga_fato',con=eng, index=False)\n",
        "\n",
        "#con.commit()"
      ],
      "execution_count": 93,
      "outputs": []
    },
    {
      "cell_type": "code",
      "metadata": {
        "colab": {
          "base_uri": "https://localhost:8080/"
        },
        "id": "goTsNIDP4Ysw",
        "outputId": "77895138-2c49-4270-b0ea-e1ecec8223d7"
      },
      "source": [
        "eng.execute('SELECT * FROM atracacao_fato LIMIT 10000,10').fetchall()"
      ],
      "execution_count": 94,
      "outputs": [
        {
          "output_type": "execute_result",
          "data": {
            "text/plain": [
              "[(987590, 'BRCE001', 'BRCE0015008', 'TMUT-B8', 'Terminal Portuário do Pecém', None, 'Pecém - Fortaleza', 'Porto Privado', '03/12/2018 20:59:00', '03/12/2018 19:12:00', '04/12/2018 09:35:00', '03/12/2018 22:00:00', '04/12/2018 08:40:00', 2018, 'dez', 'Movimentação da Carga', 'Cabotagem', '2', '1', 'Terminal Portuário do Pecém', 'São Gonçalo do Amarante', 'Ceará', 'CE', 'Nordeste', None, 9307839, 1.7833333332092, 1.0166666666628, 10.666666666686, 0.91666666668607, 12.600000000035, 14.383333333244),\n",
              " (911072, 'BRITJ', 'ITJ0102', 'APTM 2', 'Itajaí', None, 'Itajaí', 'Porto Público', '02/03/2018 15:05:00', '28/02/2018 07:48:00', '03/03/2018 11:15:00', '02/03/2018 16:00:00', '03/03/2018 04:12:00', 2018, 'mar', 'Movimentação da Carga', 'Longo Curso', '2', '1', 'Cais Arrendado', 'Itajaí', 'Santa Catarina', 'SC', 'Sul', None, 9307839, 55.283333333326, 0.91666666668607, 12.200000000128, 7.0499999999302, 20.166666666744, 75.45000000007),\n",
              " (937804, 'BRSSA', 'SSA0611', 'TECON', 'Salvador', None, 'Aratu - Salvador', 'Porto Público', '20/07/2018 07:41:00', '20/07/2018 06:00:00', '21/07/2018 04:15:00', '20/07/2018 08:01:00', '21/07/2018 02:52:00', 2018, 'jul', 'Movimentação da Carga', 'Cabotagem', '2', '1', 'TECON', 'Salvador', 'Bahia', 'BA', 'Nordeste', None, 9307839, 1.6833333334071, 0.33333333319752, 18.849999999977, 1.3833333334769, 20.566666666651, 22.250000000058),\n",
              " (906274, 'BRSSA', 'SSA0611', 'TECON', 'Salvador', None, 'Aratu - Salvador', 'Porto Público', '23/02/2018 03:25:00', '23/02/2018 02:00:00', '23/02/2018 12:11:00', '23/02/2018 03:55:00', '23/02/2018 10:20:00', 2018, 'fev', 'Movimentação da Carga', 'Cabotagem', '2', '1', 'TECON', 'Salvador', 'Bahia', 'BA', 'Nordeste', None, 9307839, 1.4166666665697, 0.50000000005821, 6.4166666666279, 1.8500000000931, 8.7666666667792, 10.183333333349),\n",
              " (925161, 'BRRIG', 'RIG3313', 'TECON - BERÇO III', 'Rio Grande', None, 'Rio Grande', 'Porto Público', '03/05/2018 18:15:00', '03/05/2018 09:30:00', '04/05/2018 05:50:00', '03/05/2018 19:30:00', '04/05/2018 04:00:00', 2018, 'mai', 'Movimentação da Carga', 'Longo Curso', '2', '1', 'TECON', 'Rio Grande', 'Rio Grande do Sul', 'RS', 'Sul', None, 9307839, 8.7499999998836, 1.2500000000582, 8.4999999999418, 1.8333333333721, 11.583333333372, 20.333333333256),\n",
              " (950325, 'BRCE001', 'BRCE0015008', 'TMUT-B8', 'Terminal Portuário do Pecém', None, 'Pecém - Fortaleza', 'Porto Privado', '11/09/2018 02:41:00', '10/09/2018 21:44:00', '11/09/2018 17:35:00', '11/09/2018 04:20:00', '11/09/2018 15:00:00', 2018, 'set', 'Movimentação da Carga', 'Cabotagem', '2', '1', 'Terminal Portuário do Pecém', 'São Gonçalo do Amarante', 'Ceará', 'CE', 'Nordeste', None, 9307839, 4.9500000000698, 1.6499999999651, 10.666666666686, 2.5833333333721, 14.900000000023, 19.850000000093),\n",
              " (924269, 'BRSSA', 'SSA0611', 'TECON', 'Salvador', None, 'Aratu - Salvador', 'Porto Público', '18/05/2018 04:30:00', '18/05/2018 03:00:00', '18/05/2018 10:37:00', '18/05/2018 05:00:00', '18/05/2018 09:27:00', 2018, 'mai', 'Movimentação da Carga', 'Cabotagem', '2', '1', 'TECON', 'Salvador', 'Bahia', 'BA', 'Nordeste', None, 9307839, 1.5, 0.50000000005821, 4.4500000000116, 1.1666666666279, 6.1166666666977, 7.6166666666977),\n",
              " (925510, 'BRSP008', 'BRSP0080001', 'Berço 1', 'DP World Santos', 'Ex-Embraport', 'Santos', 'Porto Privado', '12/06/2018 01:20:00', '11/06/2018 07:30:00', '12/06/2018 15:03:00', '12/06/2018 02:12:00', '12/06/2018 12:29:00', 2018, 'jun', 'Movimentação da Carga', 'Longo Curso', '2', '1', 'DP World Santos', 'Santos', 'São Paulo', 'SP', 'Sudeste', None, 9307839, 17.833333333314, 0.86666666669771, 10.283333333326, 2.5666666666511, 13.716666666674, 31.549999999988),\n",
              " (963985, 'BRRIG', 'RIG3313', 'TECON - BERÇO III', 'Rio Grande', None, 'Rio Grande', 'Porto Público', '22/11/2018 16:30:00', '22/11/2018 13:00:00', '23/11/2018 06:10:00', '22/11/2018 20:00:00', '23/11/2018 04:40:00', 2018, 'nov', 'Movimentação da Carga', 'Longo Curso', '2', '1', 'TECON', 'Rio Grande', 'Rio Grande do Sul', 'RS', 'Sul', None, 9307839, 3.5000000000582, 3.5000000000582, 8.6666666666279, 1.5, 13.666666666686, 17.166666666744),\n",
              " (915778, 'BRSP008', 'BRSP0080001', 'Berço 1', 'DP World Santos', 'Ex-Embraport', 'Santos', 'Porto Privado', '24/04/2018 13:10:00', '24/04/2018 12:00:00', '25/04/2018 02:03:00', '24/04/2018 14:08:00', '25/04/2018 00:38:00', 2018, 'abr', 'Movimentação da Carga', 'Longo Curso', '2', '1', 'DP World Santos', 'Santos', 'São Paulo', 'SP', 'Sudeste', None, 9307839, 1.1666666666279, 0.96666666667443, 10.5, 1.4166666667443, 12.883333333419, 14.050000000047)]"
            ]
          },
          "metadata": {
            "tags": []
          },
          "execution_count": 94
        }
      ]
    },
    {
      "cell_type": "code",
      "metadata": {
        "colab": {
          "base_uri": "https://localhost:8080/"
        },
        "id": "TWeqdUW6Amd5",
        "outputId": "2b116961-4af9-498c-9bf4-b19cf0402415"
      },
      "source": [
        "eng.execute('SELECT * FROM atracacao_fato WHERE IDAtracacao=954497').fetchall()"
      ],
      "execution_count": 106,
      "outputs": [
        {
          "output_type": "execute_result",
          "data": {
            "text/plain": [
              "[(954497, 'BRBEL', 'BEL0001', '01', 'Belém', None, 'Vila do Conde - Belém', 'Porto Público', '21/09/2018 07:35:00', '21/09/2018 07:00:00', '21/09/2018 10:36:00', '21/09/2018 07:45:00', '21/09/2018 10:00:00', 2018, 'set', 'Apoio', 'Apoio Portuário', '1', '1', 'Cais Público', 'Belém', 'Pará', 'PA', 'Norte', '0210226544', 0, 0.58333333331393, 0.16666666668607, 2.25, 0.60000000003492, 3.016666666721, 3.6000000000349)]"
            ]
          },
          "metadata": {
            "tags": []
          },
          "execution_count": 106
        }
      ]
    },
    {
      "cell_type": "markdown",
      "metadata": {
        "id": "D0oUxTKvPKkL"
      },
      "source": [
        "______________"
      ]
    },
    {
      "cell_type": "markdown",
      "metadata": {
        "id": "pDp8362jN8jK"
      },
      "source": [
        "```\n",
        "C) Crie uma consulta (query) otimizada em sql para rodar no excel e que, por isso, tenha o menor número de linhas possível para\n",
        "não travar o programa.\n",
        "A consulta deve retornar uma tabela com dados do Ceará, Nordeste e Brasil contendo número de atracações, para cada localidade,\n",
        "bem como tempo de espera para atracar e tempo atracado por meses nos anos de 2018 e 2019.\n",
        "```"
      ]
    },
    {
      "cell_type": "code",
      "metadata": {
        "colab": {
          "base_uri": "https://localhost:8080/"
        },
        "id": "Y-QBXUlPBYq5",
        "outputId": "103d5327-c172-4464-8ce5-6a438a2dc44e"
      },
      "source": [
        "#Localidades = Municípios do Ceará\n",
        "eng.execute(\"\"\"\n",
        "SELECT DISTINCT Município as Localidade,\n",
        "                Count(IDAtracacao) as 'Número de Atracações',\n",
        "                [Mês da data de início da operação] as Mês,\n",
        "                [Ano da data de início da operação] as Ano,\n",
        "                AVG(TEsperaAtracacao) as 'Tempo de espera médio',\n",
        "                AVG(TAtracado) as 'Tempo atracado médio'\n",
        "FROM atracacao_fato\n",
        "WHERE SGUF='CE' AND (Ano=2018 OR Ano=2017)\n",
        "GROUP BY Localidade,Mês,Ano\n",
        "\"\"\").fetchall()"
      ],
      "execution_count": 153,
      "outputs": [
        {
          "output_type": "execute_result",
          "data": {
            "text/plain": [
              "[('Fortaleza', 49, 'abr', 2017, 34.42619047618507, 55.86938775510486),\n",
              " ('Fortaleza', 51, 'abr', 2018, 31.35849673202378, 57.82777777779169),\n",
              " ('Fortaleza', 51, 'ago', 2017, 25.898366013076195, 47.10947712419062),\n",
              " ('Fortaleza', 56, 'ago', 2018, 28.650892857166976, 46.774999999988964),\n",
              " ('Fortaleza', 51, 'dez', 2017, 21.139869281046334, 49.51960784315321),\n",
              " ('Fortaleza', 56, 'dez', 2018, 34.34761904761497, 52.39017857142941),\n",
              " ('Fortaleza', 56, 'fev', 2017, 22.08750000001499, 47.065773809519044),\n",
              " ('Fortaleza', 59, 'fev', 2018, 25.29632768362388, 40.03559322032867),\n",
              " ('Fortaleza', 45, 'jan', 2017, 15.500740740731509, 56.74222222223955),\n",
              " ('Fortaleza', 61, 'jan', 2018, 40.69426229509123, 36.48415300545385),\n",
              " ('Fortaleza', 62, 'jul', 2017, 24.575806451622444, 47.33440860213573),\n",
              " ('Fortaleza', 51, 'jul', 2018, 16.99052287582374, 58.82908496731759),\n",
              " ('Fortaleza', 52, 'jun', 2017, 16.844230769254775, 45.83429487178088),\n",
              " ('Fortaleza', 48, 'jun', 2018, 22.57430555557596, 46.88923611108847),\n",
              " ('Fortaleza', 51, 'mai', 2017, 21.274509803926204, 49.526797385612475),\n",
              " ('Fortaleza', 68, 'mai', 2018, 23.845098039203737, 41.39044117648918),\n",
              " ('Fortaleza', 56, 'mar', 2017, 22.57202380950921, 50.153273809526475),\n",
              " ('Fortaleza', 56, 'mar', 2018, 40.196428571430665, 47.21011904762613),\n",
              " ('Fortaleza', 64, 'nov', 2017, 32.00364583332987, 47.47682291667755),\n",
              " ('Fortaleza', 54, 'nov', 2018, 24.89845679014495, 53.15493827159591),\n",
              " ('Fortaleza', 55, 'out', 2017, 23.400909090908943, 47.565151515143796),\n",
              " ('Fortaleza', 52, 'out', 2018, 26.445192307693752, 57.896474358978715),\n",
              " ('Fortaleza', 59, 'set', 2017, 21.711299435029275, 45.08559322033687),\n",
              " ('Fortaleza', 56, 'set', 2018, 20.730357142851403, 50.19345238096151),\n",
              " ('São Gonçalo do Amarante', 33, 'abr', 2017, 75.3237373737134, 56.92222222222272),\n",
              " ('São Gonçalo do Amarante', 43, 'abr', 2018, 58.23759689922651, 81.224806201556),\n",
              " ('São Gonçalo do Amarante', 48, 'ago', 2017, 82.02500000001609, 62.952083333318775),\n",
              " ('São Gonçalo do Amarante', 48, 'ago', 2018, 68.16388888889902, 62.06284722222349),\n",
              " ('São Gonçalo do Amarante', 61, 'dez', 2017, 27.130054644808762, 57.994808743174204),\n",
              " ('São Gonçalo do Amarante', 50, 'dez', 2018, 45.0046666666505, 50.30266666668126),\n",
              " ('São Gonçalo do Amarante', 43, 'fev', 2017, 77.4658914728691, 87.12713178295394),\n",
              " ('São Gonçalo do Amarante', 42, 'fev', 2018, 41.80396825393647, 61.99404761904924),\n",
              " ('São Gonçalo do Amarante', 44, 'jan', 2017, 130.4890151515032, 83.79128787879364),\n",
              " ('São Gonçalo do Amarante', 53, 'jan', 2018, 28.042767295609586, 64.6893081761012),\n",
              " ('São Gonçalo do Amarante', 37, 'jul', 2017, 95.07342342341873, 76.30990990990438),\n",
              " ('São Gonçalo do Amarante', 44, 'jul', 2018, 33.36287878788706, 72.11856060606277),\n",
              " ('São Gonçalo do Amarante', 42, 'jun', 2017, 50.93492063492052, 53.07103174603027),\n",
              " ('São Gonçalo do Amarante', 45, 'jun', 2018, 34.2344444444482, 45.95666666667284),\n",
              " ('São Gonçalo do Amarante', 44, 'mai', 2017, 100.9912878787866, 75.2969696969576),\n",
              " ('São Gonçalo do Amarante', 46, 'mai', 2018, 49.94311594201959, 72.6695652173949),\n",
              " ('São Gonçalo do Amarante', 38, 'mar', 2017, 93.52456140352733, 66.89605263157733),\n",
              " ('São Gonçalo do Amarante', 50, 'mar', 2018, 62.30633333335279, 60.9159999999859),\n",
              " ('São Gonçalo do Amarante', 47, 'nov', 2017, 25.156737588655638, 54.93404255319368),\n",
              " ('São Gonçalo do Amarante', 55, 'nov', 2018, 30.639696969705643, 60.59939393939847),\n",
              " ('São Gonçalo do Amarante', 54, 'out', 2017, 26.12098765430763, 57.1333333333476),\n",
              " ('São Gonçalo do Amarante', 60, 'out', 2018, 24.207777777768154, 41.79555555555871),\n",
              " ('São Gonçalo do Amarante', 57, 'set', 2017, 26.136549707603212, 56.926608187131166),\n",
              " ('São Gonçalo do Amarante', 57, 'set', 2018, 28.403508771912662, 52.131286549715774)]"
            ]
          },
          "metadata": {
            "tags": []
          },
          "execution_count": 153
        }
      ]
    },
    {
      "cell_type": "code",
      "metadata": {
        "colab": {
          "base_uri": "https://localhost:8080/"
        },
        "id": "BNnNreXeGBZq",
        "outputId": "de17fdff-13be-4a3b-ec04-cabf6d4dbb7e"
      },
      "source": [
        "#Localidades = Municípios do Nordeste\n",
        "eng.execute(\"\"\"\n",
        "SELECT DISTINCT Município as Localidade,\n",
        "                Count(IDAtracacao) as 'Número de Atracações',\n",
        "                [Mês da data de início da operação] as Mês,\n",
        "                [Ano da data de início da operação] as Ano,\n",
        "                AVG(TEsperaAtracacao) as 'Tempo de espera médio',\n",
        "                AVG(TAtracado) as 'Tempo atracado médio'\n",
        "FROM atracacao_fato\n",
        "WHERE [Região Geográfica]='Nordeste' AND (Ano=2018 OR Ano=2017)\n",
        "GROUP BY Localidade,Mês,Ano\n",
        "\"\"\").fetchall()"
      ],
      "execution_count": 154,
      "outputs": [
        {
          "output_type": "execute_result",
          "data": {
            "text/plain": [
              "[('Aracaju', 3, 'abr', 2017, 24.8666666666977, 26.166666666686),\n",
              " ('Aracaju', 2, 'abr', 2018, 24.583333333401, 33.499999999970996),\n",
              " ('Aracaju', 4, 'ago', 2017, 32.0000000000145, 46.474999999963245),\n",
              " ('Aracaju', 2, 'ago', 2018, 27.666666666744, 35.374999999971),\n",
              " ('Aracaju', 3, 'dez', 2017, 7.9333333333489335, 22.699999999953665),\n",
              " ('Aracaju', 1, 'dez', 2018, 12.83333333343, 41.583333333372),\n",
              " ('Aracaju', 3, 'fev', 2017, 12.433333333290667, 27.466666666616003),\n",
              " ('Aracaju', 2, 'fev', 2018, 4.79999999993015, 28.325000000128),\n",
              " ('Aracaju', 2, 'jan', 2017, 4.34999999994765, 21.9000000000525),\n",
              " ('Aracaju', 3, 'jan', 2018, 20.9444444444961, 61.105555555550325),\n",
              " ('Aracaju', 3, 'jul', 2017, 61.766666666664, 47.56666666670933),\n",
              " ('Aracaju', 1, 'jul', 2018, 51.75, 25.916666666628),\n",
              " ('Aracaju', 2, 'jun', 2017, 12.8000000000757, 19.999999999971003),\n",
              " ('Aracaju', 1, 'jun', 2018, 23.499999999942, 38.25),\n",
              " ('Aracaju', 4, 'mai', 2017, 60.99999999998545, 41.075000000040504),\n",
              " ('Aracaju', 2, 'mai', 2018, 89.833333333227, 13.875),\n",
              " ('Aracaju', 2, 'mar', 2017, 47.8999999999359, 24.350000000006),\n",
              " ('Aracaju', 2, 'mar', 2018, 34.041666666657, 24.958333333401),\n",
              " ('Aracaju', 3, 'nov', 2017, 7.466666666674434, 28.333333333314002),\n",
              " ('Aracaju', 3, 'nov', 2018, 32.700000000011734, 25.78888888884133),\n",
              " ('Aracaju', 4, 'out', 2017, 13.1750000000321, 33.77499999999425),\n",
              " ('Aracaju', 2, 'out', 2018, 36.041666666628, 31.125),\n",
              " ('Aracaju', 2, 'set', 2017, 18.75, 19.199999999982502),\n",
              " ('Aracaju', 2, 'set', 2018, 18.499999999971, 29.9500000000115),\n",
              " ('Areia Branca', 151, 'abr', 2017, 15.259381898452556, 5.8736203090458625),\n",
              " ('Areia Branca', 169, 'abr', 2018, 9.68145956607366, 7.673570019723404),\n",
              " ('Areia Branca', 149, 'ago', 2017, 11.74105145413843, 5.783557046980998),\n",
              " ('Areia Branca', 170, 'ago', 2018, 15.681862745100908, 6.940196078435031),\n",
              " ('Areia Branca', 114, 'dez', 2017, 8.084064327486741, 6.578947368419535),\n",
              " ('Areia Branca', 157, 'dez', 2018, 15.563694267509259, 8.738853503179902),\n",
              " ('Areia Branca', 137, 'fev', 2017, 16.727493917267033, 8.582725060829665),\n",
              " ('Areia Branca', 169, 'fev', 2018, 6.613412228806249, 7.7075936883597445),\n",
              " ('Areia Branca', 196, 'jan', 2017, 7.121598639458061, 7.91411564625415),\n",
              " ('Areia Branca', 185, 'jan', 2018, 6.5905405405370585, 6.166666666669084),\n",
              " ('Areia Branca', 158, 'jul', 2017, 7.09335443037496, 5.9920886075978865),\n",
              " ('Areia Branca', 150, 'jul', 2018, 13.638888888894552, 6.8244444444379795),\n",
              " ('Areia Branca', 106, 'jun', 2017, 14.694182389930367, 7.1823899371094875),\n",
              " ('Areia Branca', 168, 'jun', 2018, 8.417162698416046, 6.1155753968237825),\n",
              " ('Areia Branca', 103, 'mai', 2017, 20.753236245955648, 6.830097087370171),\n",
              " ('Areia Branca', 176, 'mai', 2018, 10.534090909088924, 6.802556818181473),\n",
              " ('Areia Branca', 170, 'mar', 2017, 12.20294117647264, 5.962745098036931),\n",
              " ('Areia Branca', 168, 'mar', 2018, 9.56696428572362, 9.419642857139742),\n",
              " ('Areia Branca', 143, 'nov', 2017, 8.32517482517565, 6.025058275061796),\n",
              " ('Areia Branca', 168, 'nov', 2018, 10.51835317460166, 7.291170634921791),\n",
              " ('Areia Branca', 146, 'out', 2017, 8.062214611876007, 5.0239726027289375),\n",
              " ('Areia Branca', 142, 'out', 2018, 14.275586854456186, 7.603286384976246),\n",
              " ('Areia Branca', 104, 'set', 2017, 14.458333333339102, 7.842147435901158),\n",
              " ('Areia Branca', 147, 'set', 2018, 14.307256235836112, 11.491496598633125),\n",
              " ('Barra dos Coqueiros', 42, 'abr', 2017, 1.2333333333206002, 16.614682539694588),\n",
              " ('Barra dos Coqueiros', 38, 'abr', 2018, 0.8785087719351368, 16.099999999992054),\n",
              " ('Barra dos Coqueiros', 26, 'ago', 2017, 1.0288461538416884, 20.284615384634204),\n",
              " ('Barra dos Coqueiros', 33, 'ago', 2018, 9.69191919191503, 24.14545454546827),\n",
              " ('Barra dos Coqueiros', 33, 'dez', 2017, 1.159090909096188, 14.546464646446742),\n",
              " ('Barra dos Coqueiros', 47, 'dez', 2018, 0.33936170214524597, 23.62375886524787),\n",
              " ('Barra dos Coqueiros', 38, 'fev', 2017, 1.948245614034887, 15.772368421061135),\n",
              " ('Barra dos Coqueiros', 38, 'fev', 2018, 0.26315789473531054, 20.448245614047085),\n",
              " ('Barra dos Coqueiros', 46, 'jan', 2017, 0.7894927536266477, 21.77173913043742),\n",
              " ('Barra dos Coqueiros', 30, 'jan', 2018, 3.759999999997683, 35.254444444464426),\n",
              " ('Barra dos Coqueiros', 36, 'jul', 2017, 8.045370370367877, 21.660185185188254),\n",
              " ('Barra dos Coqueiros', 41, 'jul', 2018, 2.727642276420976, 24.962601626019243),\n",
              " ('Barra dos Coqueiros', 39, 'jun', 2017, 2.652991452984177, 15.416239316248397),\n",
              " ('Barra dos Coqueiros', 43, 'jun', 2018, 1.1162790697674418, 10.463953488368283),\n",
              " ('Barra dos Coqueiros', 43, 'mai', 2017, 1.7333333333304264, 16.257751937986686),\n",
              " ('Barra dos Coqueiros', 38, 'mai', 2018, 2.0521929824592946, 15.324561403514382),\n",
              " ('Barra dos Coqueiros', 48, 'mar', 2017, 2.032638888907967, 17.38229166663224),\n",
              " ('Barra dos Coqueiros', 38, 'mar', 2018, 0.23245614035036577, 15.762280701766803),\n",
              " ('Barra dos Coqueiros', 37, 'nov', 2017, 0.0, 15.333333333343779),\n",
              " ('Barra dos Coqueiros', 38, 'nov', 2018, 0.4798245613637868, 23.403070175478042),\n",
              " ('Barra dos Coqueiros', 45, 'out', 2017, 1.0625925925909423, 15.525185185197452),\n",
              " ('Barra dos Coqueiros', 31, 'out', 2018, 0.3870967741653801, 26.847849462376463),\n",
              " ('Barra dos Coqueiros', 22, 'set', 2017, 0.0, 20.634848484840873),\n",
              " ('Barra dos Coqueiros', 35, 'set', 2018, 3.321428571438428, 27.150000000014998),\n",
              " ('Belmonte', 12, 'abr', 2017, 0.5638888888934158, 58.32083333333142),\n",
              " ('Belmonte', 13, 'abr', 2018, 1.8153846154051918, 57.43589743589446),\n",
              " ('Belmonte', 14, 'ago', 2017, 1.1500000000191277, 58.98809523808978),\n",
              " ('Belmonte', 13, 'ago', 2018, 0.7551282051314915, 55.860256410248695),\n",
              " ('Belmonte', 13, 'dez', 2017, 0.6256410255714724, 56.71666666669685),\n",
              " ('Belmonte', 14, 'dez', 2018, 0.8392857142898709, 54.21904761905072),\n",
              " ('Belmonte', 16, 'fev', 2017, 1.4875000000029068, 49.736458333351074),\n",
              " ('Belmonte', 12, 'fev', 2018, 0.5458333333372143, 57.53611111109783),\n",
              " ('Belmonte', 13, 'jan', 2017, 0.6679487179633447, 54.15641025643662),\n",
              " ('Belmonte', 14, 'jan', 2018, 0.8392857143023443, 55.458333333309916),\n",
              " ('Belmonte', 9, 'jul', 2017, 0.4981481481809178, 73.896296296307),\n",
              " ('Belmonte', 13, 'jul', 2018, 0.5717948717915886, 57.89358974358769),\n",
              " ('Belmonte', 14, 'jun', 2017, 0.6380952380547701, 55.42738095239372),\n",
              " ('Belmonte', 14, 'jun', 2018, 0.5869047618969986, 55.447619047647784),\n",
              " ('Belmonte', 13, 'mai', 2017, 0.6564102564275699, 60.093589743612704),\n",
              " ('Belmonte', 13, 'mai', 2018, 0.742307692309487, 55.5282051281897),\n",
              " ('Belmonte', 13, 'mar', 2017, 0.6128205127897677, 57.36538461539362),\n",
              " ('Belmonte', 13, 'mar', 2018, 0.5461538461475761, 56.90769230770031),\n",
              " ('Belmonte', 13, 'nov', 2017, 1.3320512820948598, 57.230769230742226),\n",
              " ('Belmonte', 14, 'nov', 2018, 0.980952380956812, 55.34285714283136),\n",
              " ('Belmonte', 10, 'out', 2017, 0.686666666687231, 56.00666666664191),\n",
              " ('Belmonte', 13, 'out', 2018, 1.0128205128175254, 56.63717948717892),\n",
              " ('Belmonte', 14, 'set', 2017, 0.7202380952159172, 53.940476190506786),\n",
              " ('Belmonte', 13, 'set', 2018, 0.5987179487352615, 57.725641025642226),\n",
              " ('Cabedelo', 14, 'abr', 2017, 18.683333333328058, 63.76071428572444),\n",
              " ('Cabedelo', 11, 'abr', 2018, 20.98787878785512, 67.15909090909072),\n",
              " ('Cabedelo', 12, 'ago', 2017, 5.380555555559059, 46.57083333334592),\n",
              " ('Cabedelo', 6, 'ago', 2018, 19.5333333333257, 82.33055555558566),\n",
              " ('Cabedelo', 12, 'dez', 2017, 14.038888888899228, 60.76944444442049),\n",
              " ('Cabedelo', 10, 'dez', 2018, 5.91166666672793, 73.97833333328569),\n",
              " ('Cabedelo', 10, 'fev', 2017, 10.875000000017458, 56.299999999988),\n",
              " ('Cabedelo', 12, 'fev', 2018, 9.495833333305267, 54.466666666689),\n",
              " ('Cabedelo', 12, 'jan', 2017, 11.236111111138579, 61.36944444442593),\n",
              " ('Cabedelo', 10, 'jan', 2018, 16.343333333363976, 57.031666666647105),\n",
              " ('Cabedelo', 9, 'jul', 2017, 13.390740740753179, 51.19444444445733),\n",
              " ('Cabedelo', 11, 'jul', 2018, 15.74696969697563, 67.65909090910155),\n",
              " ('Cabedelo', 9, 'jun', 2017, 9.244444444445756, 50.17777777777499),\n",
              " ('Cabedelo', 6, 'jun', 2018, 12.588888888858472, 51.644444444449825),\n",
              " ('Cabedelo', 13, 'mai', 2017, 21.25256410256793, 56.16538461537786),\n",
              " ('Cabedelo', 8, 'mai', 2018, 16.666666666642374, 60.037500000035),\n",
              " ('Cabedelo', 10, 'mar', 2017, 18.715000000008622, 48.06666666667441),\n",
              " ('Cabedelo', 9, 'mar', 2018, 18.54259259257634, 61.03148148150667),\n",
              " ('Cabedelo', 10, 'nov', 2017, 10.559999999951163, 59.8366666666404),\n",
              " ('Cabedelo', 6, 'nov', 2018, 23.952777777770084, 51.70277777771133),\n",
              " ('Cabedelo', 11, 'out', 2017, 16.581818181799065, 42.030303030322635),\n",
              " ('Cabedelo', 8, 'out', 2018, 27.72708333334595, 53.63541666667912),\n",
              " ('Cabedelo', 11, 'set', 2017, 11.113636363652173, 53.184848484858996),\n",
              " ('Cabedelo', 12, 'set', 2018, 12.706944444449555, 66.28333333332633),\n",
              " ('Candeias', 65, 'abr', 2017, 96.0848717948823, 50.01358974359819),\n",
              " ('Candeias', 67, 'abr', 2018, 55.438557213938516, 47.83781094527925),\n",
              " ('Candeias', 72, 'ago', 2017, 115.58495370369434, 58.59050925926332),\n",
              " ('Candeias', 70, 'ago', 2018, 87.1835714285737, 52.91333333334091),\n",
              " ('Candeias', 71, 'dez', 2017, 93.27535211267087, 59.611737089205285),\n",
              " ('Candeias', 69, 'dez', 2018, 116.95217391304666, 62.35362318839932),\n",
              " ('Candeias', 56, 'fev', 2017, 135.74613095239607, 53.749702380950154),\n",
              " ('Candeias', 54, 'fev', 2018, 30.593518518525748, 38.6441358024636),\n",
              " ('Candeias', 71, 'jan', 2017, 102.86549295774694, 45.729577464791056),\n",
              " ('Candeias', 56, 'jan', 2018, 74.30803571428461, 45.287797619059575),\n",
              " ('Candeias', 68, 'jul', 2017, 126.89436274510618, 54.155147058823346),\n",
              " ('Candeias', 65, 'jul', 2018, 128.0002564102701, 55.403333333313824),\n",
              " ('Candeias', 65, 'jun', 2017, 128.63025641026087, 60.62846153847632),\n",
              " ('Candeias', 61, 'jun', 2018, 103.8081967213083, 48.66584699453336),\n",
              " ('Candeias', 63, 'mai', 2017, 112.90608465608891, 51.239682539685056),\n",
              " ('Candeias', 58, 'mai', 2018, 72.35201149425639, 57.01925287357769),\n",
              " ('Candeias', 71, 'mar', 2017, 54.56267605634482, 42.081455399058484),\n",
              " ('Candeias', 53, 'mar', 2018, 108.12484276729052, 41.67830188678492),\n",
              " ('Candeias', 67, 'nov', 2017, 97.6902985074442, 51.553731343298026),\n",
              " ('Candeias', 58, 'nov', 2018, 93.93649425287902, 59.20143678161667),\n",
              " ('Candeias', 70, 'out', 2017, 76.24928571428677, 56.48785714287177),\n",
              " ('Candeias', 64, 'out', 2018, 128.04765624999544, 48.62057291666486),\n",
              " ('Candeias', 58, 'set', 2017, 79.13275862068474, 51.27528735631887),\n",
              " ('Candeias', 59, 'set', 2018, 88.83305084744855, 47.70903954802428),\n",
              " ('Caravelas', 19, 'abr', 2017, 1.978947368410638, 38.25175438595232),\n",
              " ('Caravelas', 42, 'abr', 2018, 1.1249999999833695, 19.73253968254512),\n",
              " ('Caravelas', 20, 'ago', 2017, 1.0341666666412475, 25.08000000000175),\n",
              " ('Caravelas', 46, 'ago', 2018, 0.7898550724608148, 18.759782608697154),\n",
              " ('Caravelas', 27, 'dez', 2017, 0.898765432105085, 30.681481481478073),\n",
              " ('Caravelas', 47, 'dez', 2018, 1.38368794325482, 19.439007092204125),\n",
              " ('Caravelas', 25, 'fev', 2017, 1.0946666666585967, 29.606666666648803),\n",
              " ('Caravelas', 34, 'fev', 2018, 0.9622549019592987, 21.509313725470975),\n",
              " ('Caravelas', 29, 'jan', 2017, 0.9856321839234317, 27.69482758618955),\n",
              " ('Caravelas', 31, 'jan', 2018, 1.3032258064467346, 26.50806451613087),\n",
              " ('Caravelas', 22, 'jul', 2017, 1.204545454550745, 25.01893939394291),\n",
              " ('Caravelas', 47, 'jul', 2018, 0.8769503546001829, 17.098936170221894),\n",
              " ('Caravelas', 34, 'jun', 2017, 0.8450980392175095, 23.045098039215503),\n",
              " ('Caravelas', 48, 'jun', 2018, 0.9149305555511122, 17.41979166666352),\n",
              " ('Caravelas', 25, 'mai', 2017, 0.8726666666613909, 30.57333333333716),\n",
              " ('Caravelas', 42, 'mai', 2018, 1.1563492063557654, 19.66785714284304),\n",
              " ('Caravelas', 22, 'mar', 2017, 1.384090909086146, 31.68712121208027),\n",
              " ('Caravelas', 32, 'mar', 2018, 0.9526041666777022, 25.81249999998185),\n",
              " ('Caravelas', 23, 'nov', 2017, 0.9231884057846169, 39.852898550741095),\n",
              " ('Caravelas', 44, 'nov', 2018, 1.0666666666590803, 18.489772727277728),\n",
              " ('Caravelas', 18, 'out', 2017, 1.829629629627257, 40.62592592593867),\n",
              " ('Caravelas', 43, 'out', 2018, 1.4910852713253098, 18.907751937982972),\n",
              " ('Caravelas', 13, 'set', 2017, 1.617948717943661, 27.99102564103231),\n",
              " ('Caravelas', 40, 'set', 2018, 1.5675000000061179, 20.06041666666415),\n",
              " ('Fortaleza', 49, 'abr', 2017, 34.42619047618507, 55.86938775510486),\n",
              " ('Fortaleza', 51, 'abr', 2018, 31.35849673202378, 57.82777777779169),\n",
              " ('Fortaleza', 51, 'ago', 2017, 25.898366013076195, 47.10947712419062),\n",
              " ('Fortaleza', 56, 'ago', 2018, 28.650892857166976, 46.774999999988964),\n",
              " ('Fortaleza', 51, 'dez', 2017, 21.139869281046334, 49.51960784315321),\n",
              " ('Fortaleza', 56, 'dez', 2018, 34.34761904761497, 52.39017857142941),\n",
              " ('Fortaleza', 56, 'fev', 2017, 22.08750000001499, 47.065773809519044),\n",
              " ('Fortaleza', 59, 'fev', 2018, 25.29632768362388, 40.03559322032867),\n",
              " ('Fortaleza', 45, 'jan', 2017, 15.500740740731509, 56.74222222223955),\n",
              " ('Fortaleza', 61, 'jan', 2018, 40.69426229509123, 36.48415300545385),\n",
              " ('Fortaleza', 62, 'jul', 2017, 24.575806451622444, 47.33440860213573),\n",
              " ('Fortaleza', 51, 'jul', 2018, 16.99052287582374, 58.82908496731759),\n",
              " ('Fortaleza', 52, 'jun', 2017, 16.844230769254775, 45.83429487178088),\n",
              " ('Fortaleza', 48, 'jun', 2018, 22.57430555557596, 46.88923611108847),\n",
              " ('Fortaleza', 51, 'mai', 2017, 21.274509803926204, 49.526797385612475),\n",
              " ('Fortaleza', 68, 'mai', 2018, 23.845098039203737, 41.39044117648918),\n",
              " ('Fortaleza', 56, 'mar', 2017, 22.57202380950921, 50.153273809526475),\n",
              " ('Fortaleza', 56, 'mar', 2018, 40.196428571430665, 47.21011904762613),\n",
              " ('Fortaleza', 64, 'nov', 2017, 32.00364583332987, 47.47682291667755),\n",
              " ('Fortaleza', 54, 'nov', 2018, 24.89845679014495, 53.15493827159591),\n",
              " ('Fortaleza', 55, 'out', 2017, 23.400909090908943, 47.565151515143796),\n",
              " ('Fortaleza', 52, 'out', 2018, 26.445192307693752, 57.896474358978715),\n",
              " ('Fortaleza', 59, 'set', 2017, 21.711299435029275, 45.08559322033687),\n",
              " ('Fortaleza', 56, 'set', 2018, 20.730357142851403, 50.19345238096151),\n",
              " ('Galinhos', 12, 'ago', 2018, 0.0, 11.6805555555185),\n",
              " ('Galinhos', 12, 'dez', 2018, 0.5486111111240408, 21.0138888888905),\n",
              " ('Galinhos', 11, 'jul', 2018, 0.0, 24.462121212119655),\n",
              " ('Galinhos', 11, 'jun', 2018, 0.0, 10.159090909122682),\n",
              " ('Galinhos', 10, 'nov', 2018, 0.1250000000058223, 25.7333333333604),\n",
              " ('Galinhos', 11, 'out', 2018, 0.0, 21.628787878773455),\n",
              " ('Galinhos', 11, 'set', 2018, 0.0, 16.507575757537033),\n",
              " ('Guamaré', 11, 'abr', 2017, 44.669696969667775, 53.868181818165),\n",
              " ('Guamaré', 9, 'abr', 2018, 31.079629629617557, 50.74259259258812),\n",
              " ('Guamaré', 10, 'ago', 2017, 42.75000000000007, 38.6616666666988),\n",
              " ('Guamaré', 7, 'ago', 2018, 16.549999999988383, 49.55714285715458),\n",
              " ('Guamaré', 8, 'dez', 2017, 47.94999999999019, 44.17500000001737),\n",
              " ('Guamaré', 9, 'dez', 2018, 17.8314814814753, 37.04629629627267),\n",
              " ('Guamaré', 9, 'fev', 2017, 43.01111111108931, 65.546296296292),\n",
              " ('Guamaré', 6, 'fev', 2018, 49.33333333334298, 53.87222222224216),\n",
              " ('Guamaré', 10, 'jan', 2017, 23.27666666670132, 43.3366666666757),\n",
              " ('Guamaré', 10, 'jan', 2018, 32.606666666642056, 52.636666666675794),\n",
              " ('Guamaré', 9, 'jul', 2017, 54.19999999999216, 42.966666666693776),\n",
              " ('Guamaré', 9, 'jul', 2018, 28.033333333325412, 56.77222222223644),\n",
              " ('Guamaré', 8, 'jun', 2017, 40.71874999999321, 48.8625000000175),\n",
              " ('Guamaré', 8, 'jun', 2018, 46.20625000000251, 42.90208333334862),\n",
              " ('Guamaré', 9, 'mai', 2017, 53.21111111108138, 44.166666666666664),\n",
              " ('Guamaré', 10, 'mai', 2018, 24.8850000000036, 42.8466666666849),\n",
              " ('Guamaré', 8, 'mar', 2017, 53.306249999943866, 46.78750000004225),\n",
              " ('Guamaré', 9, 'mar', 2018, 24.903703703700224, 44.24259259256855),\n",
              " ('Guamaré', 10, 'nov', 2017, 50.8700000000128, 42.64666666666171),\n",
              " ('Guamaré', 8, 'nov', 2018, 19.402083333298098, 55.4520833333735),\n",
              " ('Guamaré', 10, 'out', 2017, 17.46000000002094, 39.979999999998704),\n",
              " ('Guamaré', 8, 'out', 2018, 22.61875000001581, 54.352083333324245),\n",
              " ('Guamaré', 9, 'set', 2017, 39.81296296293558, 50.55555555558145),\n",
              " ('Guamaré', 8, 'set', 2018, 20.872916666645263, 50.37291666669625),\n",
              " ('Ilhéus', 2, 'abr', 2017, 0.833333333343035, 124.083333333285),\n",
              " ('Ilhéus', 1, 'ago', 2017, 0.66666666674428, 67.833333333198),\n",
              " ('Ilhéus', 2, 'ago', 2018, 0.333333333284825, 153.166666666684),\n",
              " ('Ilhéus', 5, 'fev', 2017, 0.16666666668607, 33.68333333329148),\n",
              " ('Ilhéus', 11, 'fev', 2018, 0.24242424240484148, 14.825757575761083),\n",
              " ('Ilhéus', 8, 'jan', 2017, 0.14583333335031123, 78.78124999999244),\n",
              " ('Ilhéus', 9, 'jan', 2018, 0.4444444444379778, 61.60185185185417),\n",
              " ('Ilhéus', 3, 'jul', 2018, 1.1111111111240435, 290.3888888888767),\n",
              " ('Ilhéus', 1, 'jun', 2017, 0.16666666668607, 190.33333333331),\n",
              " ('Ilhéus', 3, 'mai', 2017, 0.5, 112.16666666662667),\n",
              " ('Ilhéus', 1, 'mai', 2018, 0.0, 389.00000000006),\n",
              " ('Ilhéus', 2, 'mar', 2017, 0.16666666668607, 9.45833333325575),\n",
              " ('Ilhéus', 5, 'mar', 2018, 0.266666666662786, 111.98333333332566),\n",
              " ('Ilhéus', 3, 'nov', 2017, 0.3055555555038167, 115.19444444449601),\n",
              " ('Ilhéus', 2, 'nov', 2018, 0.291666666656965, 80.83333333331399),\n",
              " ('Ilhéus', 2, 'out', 2017, 0.16666666668607, 72.374999999998),\n",
              " ('Ilhéus', 3, 'set', 2017, 0.19444444449618667, 142.52777777780867),\n",
              " ('Ilhéus', 1, 'set', 2018, 0.33333333319752, 98.666666666802),\n",
              " ('Ipojuca', 132, 'abr', 2017, 27.178156565648628, 36.15037878788476),\n",
              " ('Ipojuca', 122, 'abr', 2018, 30.94836065574023, 32.247950819668375),\n",
              " ('Ipojuca', 142, 'ago', 2017, 32.12018779342966, 35.16631455398834),\n",
              " ('Ipojuca', 129, 'ago', 2018, 19.419250645995625, 32.39534883721197),\n",
              " ('Ipojuca', 153, 'dez', 2017, 33.800980392160874, 33.19193899782387),\n",
              " ('Ipojuca', 124, 'dez', 2018, 23.762634408605877, 30.68534946236185),\n",
              " ('Ipojuca', 120, 'fev', 2017, 23.614444444437755, 30.0481944444473),\n",
              " ('Ipojuca', 106, 'fev', 2018, 23.22499999999914, 38.58128930818188),\n",
              " ('Ipojuca', 127, 'jan', 2017, 36.53766404198722, 32.62296587926946),\n",
              " ('Ipojuca', 119, 'jan', 2018, 23.79271708683702, 32.76358543417196),\n",
              " ('Ipojuca', 140, 'jul', 2017, 39.97797619047968, 39.455714285717924),\n",
              " ('Ipojuca', 138, 'jul', 2018, 29.33007246376478, 33.713526570039534),\n",
              " ('Ipojuca', 145, 'jun', 2017, 36.82781609196226, 34.18022988505571),\n",
              " ('Ipojuca', 132, 'jun', 2018, 32.763005050505164, 38.626010101006806),\n",
              " ('Ipojuca', 125, 'mai', 2017, 28.73333333332822, 32.020133333339956),\n",
              " ('Ipojuca', 125, 'mai', 2018, 22.70039999999809, 34.19386666667034),\n",
              " ('Ipojuca', 143, 'mar', 2017, 32.753729603731664, 31.504195804203434),\n",
              " ('Ipojuca', 137, 'mar', 2018, 23.333333333336153, 34.008150851579174),\n",
              " ('Ipojuca', 156, 'nov', 2017, 37.44433760683644, 34.620512820506015),\n",
              " ('Ipojuca', 131, 'nov', 2018, 26.328498727727187, 36.71310432569938),\n",
              " ('Ipojuca', 155, 'out', 2017, 31.182580645165306, 35.86193548386148),\n",
              " ('Ipojuca', 131, 'out', 2018, 34.61972010177684, 28.495674300251007),\n",
              " ('Ipojuca', 145, 'set', 2017, 26.59919540229658, 31.32827586207525),\n",
              " ('Ipojuca', 121, 'set', 2018, 28.164049586780017, 31.963360881547832),\n",
              " ('Maceió', 26, 'abr', 2017, 16.038461538461654, 45.87243589744541),\n",
              " ('Maceió', 25, 'abr', 2018, 20.382000000018014, 35.40999999998374),\n",
              " ('Maceió', 21, 'ago', 2017, 12.494444444426339, 37.84365079366495),\n",
              " ('Maceió', 23, 'ago', 2018, 7.626811594191114, 30.737681159425794),\n",
              " ('Maceió', 28, 'dez', 2017, 24.51309523810877, 39.16130952382964),\n",
              " ('Maceió', 29, 'dez', 2018, 18.03850574711331, 37.35517241380881),\n",
              " ('Maceió', 24, 'fev', 2017, 10.778472222227718, 42.22638888889188),\n",
              " ('Maceió', 24, 'fev', 2018, 23.825000000004692, 47.75763888888495),\n",
              " ('Maceió', 25, 'jan', 2017, 9.937333333336262, 39.043999999996956),\n",
              " ('Maceió', 22, 'jan', 2018, 6.5530303029994705, 49.96212121214327),\n",
              " ('Maceió', 26, 'jul', 2017, 33.74935897434985, 60.67179487179511),\n",
              " ('Maceió', 17, 'jul', 2018, 8.671568627458939, 28.107843137250335),\n",
              " ('Maceió', 21, 'jun', 2017, 9.37222222221318, 53.404761904750806),\n",
              " ('Maceió', 26, 'jun', 2018, 15.129487179492806, 44.65512820511923),\n",
              " ('Maceió', 22, 'mai', 2017, 27.437878787901095, 51.91666666666209),\n",
              " ('Maceió', 36, 'mai', 2018, 9.05694444445545, 39.05694444444076),\n",
              " ('Maceió', 33, 'mar', 2017, 15.677272727263192, 34.50404040404832),\n",
              " ('Maceió', 36, 'mar', 2018, 23.569444444442812, 44.904629629624715),\n",
              " ('Maceió', 20, 'nov', 2017, 6.297499999991829, 45.43833333332992),\n",
              " ('Maceió', 27, 'nov', 2018, 11.849999999995966, 37.54999999999456),\n",
              " ('Maceió', 22, 'out', 2017, 15.970454545474622, 44.67272727270028),\n",
              " ('Maceió', 36, 'out', 2018, 6.971296296304654, 48.32638888890483),\n",
              " ('Maceió', 28, 'set', 2017, 14.89761904761583, 38.10952380954012),\n",
              " ('Maceió', 21, 'set', 2018, 5.180158730155567, 34.810317460330985),\n",
              " ('Madre de Deus', 42, 'abr', 2017, 46.44761904761497, 39.23055555557542),\n",
              " ('Madre de Deus', 47, 'abr', 2018, 38.959574468072, 36.820921985823894),\n",
              " ('Madre de Deus', 55, 'ago', 2017, 52.98242424244781, 44.5766666666583),\n",
              " ('Madre de Deus', 52, 'ago', 2018, 31.684294871801377, 40.65641025641635),\n",
              " ('Madre de Deus', 43, 'dez', 2017, 27.616279069770265, 36.313953488372114),\n",
              " ('Madre de Deus', 52, 'dez', 2018, 43.316346153851946, 36.110576923078014),\n",
              " ('Madre de Deus', 26, 'fev', 2017, 35.333333333316006, 45.02435897437796),\n",
              " ('Madre de Deus', 50, 'fev', 2018, 45.159666666666766, 38.644000000006024),\n",
              " ('Madre de Deus', 49, 'jan', 2017, 53.15238095238029, 39.11564625850975),\n",
              " ('Madre de Deus', 48, 'jan', 2018, 56.80902777777021, 38.75138888888984),\n",
              " ('Madre de Deus', 43, 'jul', 2017, 50.569379844954234, 40.73255813955787),\n",
              " ('Madre de Deus', 44, 'jul', 2018, 18.880303030303, 40.28598484847389),\n",
              " ('Madre de Deus', 44, 'jun', 2017, 72.95151515152509, 43.466287878773294),\n",
              " ('Madre de Deus', 40, 'jun', 2018, 41.8354166666758, 42.31541666666454),\n",
              " ('Madre de Deus', 49, 'mai', 2017, 49.778571428581316, 38.92517006803986),\n",
              " ('Madre de Deus', 44, 'mai', 2018, 33.189772727276086, 38.906818181804226),\n",
              " ('Madre de Deus', 28, 'mar', 2017, 92.18988095238501, 49.63214285714311),\n",
              " ('Madre de Deus', 53, 'mar', 2018, 46.326100628937155, 43.944654088040146),\n",
              " ('Madre de Deus', 46, 'nov', 2017, 22.207608695644364, 36.61376811594969),\n",
              " ('Madre de Deus', 40, 'nov', 2018, 32.49041666668195, 37.4941666666608),\n",
              " ('Madre de Deus', 52, 'out', 2017, 34.47500000000562, 43.99551282050603),\n",
              " ('Madre de Deus', 60, 'out', 2018, 48.15305555553962, 37.73277777778568),\n",
              " ('Madre de Deus', 55, 'set', 2017, 32.75757575757294, 41.014242424239136),\n",
              " ('Madre de Deus', 52, 'set', 2018, 30.99038461539899, 35.50576923074665),\n",
              " ('Natal', 6, 'abr', 2017, 16.672222222230605, 74.09722222221933),\n",
              " ('Natal', 7, 'abr', 2018, 0.36904761902821565, 65.13095238093857),\n",
              " ('Natal', 9, 'ago', 2017, 7.259259259270048, 66.11111111110489),\n",
              " ('Natal', 7, 'ago', 2018, 5.940476190456836, 80.39285714289828),\n",
              " ('Natal', 10, 'dez', 2017, 3.696666666667442, 66.44999999998261),\n",
              " ('Natal', 8, 'dez', 2018, 0.7291666666642425, 65.76041666665022),\n",
              " ('Natal', 9, 'fev', 2017, 4.862962962962621, 71.66666666670488),\n",
              " ('Natal', 8, 'fev', 2018, 4.249999999992725, 74.92708333333476),\n",
              " ('Natal', 7, 'jan', 2017, 0.4571428571112572, 64.38095238096342),\n",
              " ('Natal', 10, 'jan', 2018, 4.961666666634822, 43.641666666656995),\n",
              " ('Natal', 8, 'jul', 2017, 8.893749999981138, 60.53125000002871),\n",
              " ('Natal', 3, 'jul', 2018, 0.38888888881774664, 89.22222222224933),\n",
              " ('Natal', 6, 'jun', 2017, 6.416666666656904, 71.33333333334333),\n",
              " ('Natal', 5, 'jun', 2018, 12.81000000002092, 66.93333333333719),\n",
              " ('Natal', 8, 'mai', 2017, 2.439583333340124, 49.77083333334299),\n",
              " ('Natal', 6, 'mai', 2018, 4.333333333343024, 56.90277777780934),\n",
              " ('Natal', 8, 'mar', 2017, 3.1229166666744526, 56.60416666668658),\n",
              " ('Natal', 8, 'mar', 2018, 0.3437499999636187, 63.94791666672228),\n",
              " ('Natal', 12, 'nov', 2017, 4.012499999982549, 77.34722222223333),\n",
              " ('Natal', 9, 'nov', 2018, 1.0462962963113909, 91.09259259256467),\n",
              " ('Natal', 14, 'out', 2017, 2.5988095238239097, 69.98809523806035),\n",
              " ('Natal', 7, 'out', 2018, 0.7976190475996442, 85.4880952381063),\n",
              " ('Natal', 8, 'set', 2017, 8.09374999997091, 57.635416666707755),\n",
              " ('Natal', 5, 'set', 2018, 0.3833333333255712, 88.7166666666744),\n",
              " ('Recife', 26, 'abr', 2017, 5.932692307687854, 117.88461538462414),\n",
              " ('Recife', 30, 'abr', 2018, 8.636111111094964, 145.75666666666518),\n",
              " ('Recife', 29, 'ago', 2017, 10.449999999993672, 164.41034482757289),\n",
              " ('Recife', 31, 'ago', 2018, 5.433333333350759, 126.85215053764063),\n",
              " ('Recife', 37, 'dez', 2017, 5.33873873872122, 140.79234234234582),\n",
              " ('Recife', 31, 'dez', 2018, 5.667204301083274, 111.97741935483647),\n",
              " ('Recife', 24, 'fev', 2017, 12.813194444439512, 130.27430555554696),\n",
              " ('Recife', 25, 'fev', 2018, 3.136666666679091, 145.3439999999941),\n",
              " ('Recife', 23, 'jan', 2017, 5.590579710146635, 159.9449275362367),\n",
              " ('Recife', 34, 'jan', 2018, 5.090196078444587, 109.17156862742331),\n",
              " ('Recife', 22, 'jul', 2017, 4.38409090907821, 165.48863636363387),\n",
              " ('Recife', 20, 'jul', 2018, 6.500833333350573, 168.8208333333203),\n",
              " ('Recife', 21, 'jun', 2017, 3.78412698412182, 134.78095238093687),\n",
              " ('Recife', 22, 'jun', 2018, 4.075757575787531, 147.30227272728052),\n",
              " ('Recife', 28, 'mai', 2017, 9.245238095239202, 132.6482142857193),\n",
              " ('Recife', 31, 'mai', 2018, 7.59408602153603, 123.54623655911716),\n",
              " ('Recife', 28, 'mar', 2017, 5.30238095239576, 153.201785714245),\n",
              " ('Recife', 27, 'mar', 2018, 3.127777777767459, 127.18086419753766),\n",
              " ('Recife', 36, 'nov', 2017, 5.622222222208402, 98.97685185184865),\n",
              " ('Recife', 31, 'nov', 2018, 7.796774193541394, 123.00053763444994),\n",
              " ('Recife', 32, 'out', 2017, 2.852083333347767, 125.14947916667722),\n",
              " ('Recife', 22, 'out', 2018, 1.5621212121173331, 144.3803030303048),\n",
              " ('Recife', 32, 'set', 2017, 4.461979166668222, 148.05781249999376),\n",
              " ('Recife', 20, 'set', 2018, 2.863333333315677, 168.60749999999717),\n",
              " ('Salvador', 62, 'abr', 2017, 28.37795698923515, 38.93521505375502),\n",
              " ('Salvador', 53, 'abr', 2018, 16.529245283021822, 39.957861635212325),\n",
              " ('Salvador', 55, 'ago', 2017, 62.143939393933515, 36.43666666665171),\n",
              " ('Salvador', 64, 'ago', 2018, 23.829947916658003, 42.20885416666267),\n",
              " ('Salvador', 67, 'dez', 2017, 11.20447761193784, 30.31791044777303),\n",
              " ('Salvador', 71, 'dez', 2018, 14.32253521127265, 33.83544600938317),\n",
              " ('Salvador', 55, 'fev', 2017, 6.097575757566821, 27.87333333334464),\n",
              " ('Salvador', 58, 'fev', 2018, 8.674712643668528, 22.807183908044777),\n",
              " ('Salvador', 72, 'jan', 2017, 6.8601851851902715, 30.236342592589267),\n",
              " ('Salvador', 64, 'jan', 2018, 12.79635416666493, 24.26692708334389),\n",
              " ('Salvador', 56, 'jul', 2017, 65.76636904762795, 36.66071428571013),\n",
              " ('Salvador', 66, 'jul', 2018, 54.08914141415147, 42.563383838373525),\n",
              " ('Salvador', 54, 'jun', 2017, 58.086111111117006, 35.74382716049952),\n",
              " ('Salvador', 51, 'jun', 2018, 47.59411764705405, 44.31732026143822),\n",
              " ('Salvador', 55, 'mai', 2017, 49.114545454540014, 29.693333333330582),\n",
              " ('Salvador', 48, 'mai', 2018, 39.08090277776856, 34.955208333350946),\n",
              " ('Salvador', 69, 'mar', 2017, 8.772463768133457, 23.82101449274466),\n",
              " ('Salvador', 60, 'mar', 2018, 22.58916666666334, 32.9752777777816),\n",
              " ('Salvador', 62, 'nov', 2017, 15.821505376343262, 29.5279569892604),\n",
              " ('Salvador', 64, 'nov', 2018, 29.226041666678636, 38.08932291664489),\n",
              " ('Salvador', 56, 'out', 2017, 40.04702380952546, 44.931250000000425),\n",
              " ('Salvador', 63, 'out', 2018, 18.591005291005274, 38.350529100535546),\n",
              " ('Salvador', 62, 'set', 2017, 64.29811827959324, 37.30053763441194),\n",
              " ('Salvador', 62, 'set', 2018, 15.346505376346972, 38.76317204301884),\n",
              " ('São Gonçalo do Amarante', 33, 'abr', 2017, 75.3237373737134, 56.92222222222272),\n",
              " ('São Gonçalo do Amarante', 43, 'abr', 2018, 58.23759689922651, 81.224806201556),\n",
              " ('São Gonçalo do Amarante', 48, 'ago', 2017, 82.02500000001609, 62.952083333318775),\n",
              " ('São Gonçalo do Amarante', 48, 'ago', 2018, 68.16388888889902, 62.06284722222349),\n",
              " ('São Gonçalo do Amarante', 61, 'dez', 2017, 27.130054644808762, 57.994808743174204),\n",
              " ('São Gonçalo do Amarante', 50, 'dez', 2018, 45.0046666666505, 50.30266666668126),\n",
              " ('São Gonçalo do Amarante', 43, 'fev', 2017, 77.4658914728691, 87.12713178295394),\n",
              " ('São Gonçalo do Amarante', 42, 'fev', 2018, 41.80396825393647, 61.99404761904924),\n",
              " ('São Gonçalo do Amarante', 44, 'jan', 2017, 130.4890151515032, 83.79128787879364),\n",
              " ('São Gonçalo do Amarante', 53, 'jan', 2018, 28.042767295609586, 64.6893081761012),\n",
              " ('São Gonçalo do Amarante', 37, 'jul', 2017, 95.07342342341873, 76.30990990990438),\n",
              " ('São Gonçalo do Amarante', 44, 'jul', 2018, 33.36287878788706, 72.11856060606277),\n",
              " ('São Gonçalo do Amarante', 42, 'jun', 2017, 50.93492063492052, 53.07103174603027),\n",
              " ('São Gonçalo do Amarante', 45, 'jun', 2018, 34.2344444444482, 45.95666666667284),\n",
              " ('São Gonçalo do Amarante', 44, 'mai', 2017, 100.9912878787866, 75.2969696969576),\n",
              " ('São Gonçalo do Amarante', 46, 'mai', 2018, 49.94311594201959, 72.6695652173949),\n",
              " ('São Gonçalo do Amarante', 38, 'mar', 2017, 93.52456140352733, 66.89605263157733),\n",
              " ('São Gonçalo do Amarante', 50, 'mar', 2018, 62.30633333335279, 60.9159999999859),\n",
              " ('São Gonçalo do Amarante', 47, 'nov', 2017, 25.156737588655638, 54.93404255319368),\n",
              " ('São Gonçalo do Amarante', 55, 'nov', 2018, 30.639696969705643, 60.59939393939847),\n",
              " ('São Gonçalo do Amarante', 54, 'out', 2017, 26.12098765430763, 57.1333333333476),\n",
              " ('São Gonçalo do Amarante', 60, 'out', 2018, 24.207777777768154, 41.79555555555871),\n",
              " ('São Gonçalo do Amarante', 57, 'set', 2017, 26.136549707603212, 56.926608187131166),\n",
              " ('São Gonçalo do Amarante', 57, 'set', 2018, 28.403508771912662, 52.131286549715774),\n",
              " ('São Luís', 155, 'abr', 2017, 78.27193548387648, 42.31473118278848),\n",
              " ('São Luís', 147, 'abr', 2018, 184.5257369614545, 48.048299319726134),\n",
              " ('São Luís', 166, 'ago', 2017, 85.23935742972544, 45.25813253011513),\n",
              " ('São Luís', 169, 'ago', 2018, 91.11321499013987, 42.58994082839214),\n",
              " ('São Luís', 169, 'dez', 2017, 93.00670611438605, 44.41666666667781),\n",
              " ('São Luís', 180, 'dez', 2018, 94.41249999999636, 45.6108333333395),\n",
              " ('São Luís', 134, 'fev', 2017, 73.14701492537837, 46.99216417910981),\n",
              " ('São Luís', 120, 'fev', 2018, 100.86624999999883, 43.55999999999912),\n",
              " ('São Luís', 134, 'jan', 2017, 72.59216417909936, 44.67014925374424),\n",
              " ('São Luís', 149, 'jan', 2018, 99.60738255033236, 42.66085011186387),\n",
              " ('São Luís', 161, 'jul', 2017, 70.75196687370824, 44.30848861284048),\n",
              " ('São Luís', 182, 'jul', 2018, 90.00137362638105, 45.40128205128038),\n",
              " ('São Luís', 163, 'jun', 2017, 92.70194274028547, 43.08578732106307),\n",
              " ('São Luís', 173, 'jun', 2018, 121.14460500963636, 45.11618497109139),\n",
              " ('São Luís', 167, 'mai', 2017, 71.34810379240541, 42.509780439132356),\n",
              " ('São Luís', 160, 'mai', 2018, 184.09052083333887, 43.45041666667422),\n",
              " ('São Luís', 153, 'mar', 2017, 83.09596949891642, 43.9356209150271),\n",
              " ('São Luís', 150, 'mar', 2018, 143.18333333333604, 44.20833333333022),\n",
              " ('São Luís', 156, 'nov', 2017, 84.24935897436009, 41.05801282050937),\n",
              " ('São Luís', 168, 'nov', 2018, 100.69623015873772, 44.72103174603711),\n",
              " ('São Luís', 180, 'out', 2017, 115.99546296296265, 44.59657407406673),\n",
              " ('São Luís', 182, 'out', 2018, 86.11016483516467, 44.51336996336969),\n",
              " ('São Luís', 159, 'set', 2017, 82.6871069182448, 42.77798742138155),\n",
              " ('São Luís', 187, 'set', 2018, 79.94349376113442, 42.51639928698995)]"
            ]
          },
          "metadata": {
            "tags": []
          },
          "execution_count": 154
        }
      ]
    },
    {
      "cell_type": "code",
      "metadata": {
        "colab": {
          "base_uri": "https://localhost:8080/"
        },
        "id": "KM1EcsfrGBcl",
        "outputId": "9840700b-fa69-4b04-88a9-5f6c3735986b"
      },
      "source": [
        "#Localidades = Municípios do Brasil\n",
        "eng.execute(\"\"\"\n",
        "SELECT DISTINCT Município as Localidade,\n",
        "                Count(IDAtracacao) as 'Número de Atracações',\n",
        "                [Mês da data de início da operação] as Mês,\n",
        "                [Ano da data de início da operação] as Ano,\n",
        "                AVG(TEsperaAtracacao) as 'Tempo de espera médio',\n",
        "                AVG(TAtracado) as 'Tempo atracado médio'\n",
        "FROM atracacao_fato\n",
        "WHERE (Ano=2018 OR Ano=2017)\n",
        "GROUP BY Localidade,Mês,Ano\n",
        "LIMIT 30,30\n",
        "\"\"\").fetchall()"
      ],
      "execution_count": 127,
      "outputs": [
        {
          "output_type": "execute_result",
          "data": {
            "text/plain": [
              "[('Almeirim', 2, 'dez', 2017, 0.9500000000407399, 76.874999999999),\n",
              " ('Almeirim', 4, 'dez', 2018, 0.875000000058205, 97.31249999995599),\n",
              " ('Almeirim', 3, 'fev', 2017, 1.0277777778101134, 40.305555555562),\n",
              " ('Almeirim', 3, 'fev', 2018, 0.8055555555038133, 115.75),\n",
              " ('Almeirim', 3, 'jan', 2017, 0.83333333331393, 147.25),\n",
              " ('Almeirim', 3, 'jan', 2018, 0.7222222221898833, 28.166666666686),\n",
              " ('Almeirim', 7, 'jul', 2017, 1.4547619047641258, 68.25952380953028),\n",
              " ('Almeirim', 2, 'jul', 2018, 0.98333333330811, 33.75),\n",
              " ('Almeirim', 4, 'jun', 2018, 0.8749999999708951, 116.00000000001549),\n",
              " ('Almeirim', 4, 'mai', 2017, 1.1250000000436449, 60.354166666598),\n",
              " ('Almeirim', 3, 'mai', 2018, 0.83333333331393, 27.03333333332567),\n",
              " ('Almeirim', 4, 'mar', 2017, 0.916666666686075, 85.95833333334201),\n",
              " ('Almeirim', 5, 'mar', 2018, 0.963333333295304, 96.16999999999621),\n",
              " ('Almeirim', 2, 'nov', 2017, 1.249999999970895, 101.750000000059),\n",
              " ('Almeirim', 3, 'nov', 2018, 1.2000000000116369, 66.00000000000067),\n",
              " ('Almeirim', 4, 'out', 2017, 1.54166666667152, 130.89583333331348),\n",
              " ('Almeirim', 2, 'out', 2018, 0.75, 67.125),\n",
              " ('Almeirim', 3, 'set', 2017, 1.1111111111822334, 98.94444444443667),\n",
              " ('Almeirim', 3, 'set', 2018, 0.45555555558530664, 128.09999999997632),\n",
              " ('Ananindeua', 1, 'abr', 2018, 0.1333333334187, 0.0),\n",
              " ('Ananindeua', 2, 'dez', 2017, 18.708333333372238, 77.683333333349),\n",
              " ('Ananindeua', 1, 'dez', 2018, 24.0, 85.999999999884),\n",
              " ('Ananindeua', 1, 'fev', 2018, 0.58333333331393, 122.91666666674),\n",
              " ('Ananindeua', 1, 'jan', 2018, 0.0, 222.0),\n",
              " ('Ananindeua', 1, 'jul', 2018, 24.0, 151.5),\n",
              " ('Ananindeua', 1, 'jun', 2018, 0.63333333330229, 219.41666666663),\n",
              " ('Ananindeua', 1, 'mai', 2018, 0.58333333331393, 259.41666666674),\n",
              " ('Ananindeua', 1, 'nov', 2017, 0.50000000005821, 98.499999999942),\n",
              " ('Ananindeua', 2, 'nov', 2018, 0.33333333337214, 101.291666666629),\n",
              " ('Ananindeua', 1, 'out', 2017, 0.50000000005821, 66.999999999942)]"
            ]
          },
          "metadata": {
            "tags": []
          },
          "execution_count": 127
        }
      ]
    },
    {
      "cell_type": "markdown",
      "metadata": {
        "id": "XSlh004qYUTt"
      },
      "source": [
        "____________________\n",
        "____________________"
      ]
    }
  ]
}